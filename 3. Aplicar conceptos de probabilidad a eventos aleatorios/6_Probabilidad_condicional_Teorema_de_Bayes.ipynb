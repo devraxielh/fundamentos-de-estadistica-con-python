{
  "nbformat": 4,
  "nbformat_minor": 0,
  "metadata": {
    "colab": {
      "name": "6.Probabilidad condicional - Teorema de Bayes.ipynb",
      "provenance": [],
      "authorship_tag": "ABX9TyOhTSie7moxlGf9XeQbTDjr",
      "include_colab_link": true
    },
    "kernelspec": {
      "name": "python3",
      "display_name": "Python 3"
    }
  },
  "cells": [
    {
      "cell_type": "markdown",
      "metadata": {
        "id": "view-in-github",
        "colab_type": "text"
      },
      "source": [
        "<a href=\"https://colab.research.google.com/github/francomanca93/fundamentos-de-estadistica-con-python/blob/eventos-aleatorios/3.%20Aplicar%20conceptos%20de%20probabilidad%20a%20eventos%20aleatorios/6_Probabilidad_condicional_Teorema_de_Bayes.ipynb\" target=\"_parent\"><img src=\"https://colab.research.google.com/assets/colab-badge.svg\" alt=\"Open In Colab\"/></a>"
      ]
    },
    {
      "cell_type": "markdown",
      "metadata": {
        "id": "PGqn9CDlpLro",
        "colab_type": "text"
      },
      "source": [
        "# Probabilidad condicional - Teorema de Bayes"
      ]
    },
    {
      "cell_type": "markdown",
      "metadata": {
        "id": "g6_op3NdUGFV",
        "colab_type": "text"
      },
      "source": [
        "El teorema de bayes nos permite inferir la probabilidad de un evento A cuando tenemos informacion parcial de este evento y  condicionado a un evento B cuando tenemos información total de este. \n",
        "\n",
        "Debemos tener en cuenta 3 conceptos claves:\n",
        "- Probabilidad univariada\n",
        "- Probabilidad conjunta bivariada\n",
        "- Probabilidad condicional\n",
        "\n",
        "Una vez entendido estos conceptos podremos ver el Teorema de Bayes"
      ]
    },
    {
      "cell_type": "markdown",
      "metadata": {
        "id": "Q-imIg7TVTTS",
        "colab_type": "text"
      },
      "source": [
        "## Configuramos nuestro notebook"
      ]
    },
    {
      "cell_type": "markdown",
      "metadata": {
        "id": "DDxom1ZJnIzL",
        "colab_type": "text"
      },
      "source": [
        "Montamos drive para acceder a la base de datos con la cual vamos a trabajar"
      ]
    },
    {
      "cell_type": "code",
      "metadata": {
        "id": "2MXjszLnmc__",
        "colab_type": "code",
        "colab": {
          "base_uri": "https://localhost:8080/",
          "height": 34
        },
        "outputId": "2dd864fe-9df9-45a7-aeaa-b057973781e7"
      },
      "source": [
        "#Montamos Drive\n",
        "from google.colab import drive\n",
        "drive.mount('/content/drive')"
      ],
      "execution_count": 1,
      "outputs": [
        {
          "output_type": "stream",
          "text": [
            "Mounted at /content/drive\n"
          ],
          "name": "stdout"
        }
      ]
    },
    {
      "cell_type": "code",
      "metadata": {
        "id": "n8qcx87yA9x-",
        "colab_type": "code",
        "colab": {
          "base_uri": "https://localhost:8080/",
          "height": 72
        },
        "outputId": "283f843c-d946-43a5-8151-6bfe60baaccf"
      },
      "source": [
        "import numpy as np\n",
        "import pandas as pd\n",
        "import scipy.stats\n",
        "\n",
        "import matplotlib.pyplot as plt\n",
        "import seaborn as sns\n",
        "\n",
        "%matplotlib inline"
      ],
      "execution_count": 2,
      "outputs": [
        {
          "output_type": "stream",
          "text": [
            "/usr/local/lib/python3.6/dist-packages/statsmodels/tools/_testing.py:19: FutureWarning: pandas.util.testing is deprecated. Use the functions in the public API at pandas.testing instead.\n",
            "  import pandas.util.testing as tm\n"
          ],
          "name": "stderr"
        }
      ]
    },
    {
      "cell_type": "code",
      "metadata": {
        "id": "zg47_or0mtlO",
        "colab_type": "code",
        "colab": {
          "base_uri": "https://localhost:8080/",
          "height": 34
        },
        "outputId": "387dd689-5c19-41d3-b241-c0887964b544"
      },
      "source": [
        "ls '/content/drive/My Drive/Colab Notebooks/fundamentos-de-estadistica-con-python/datos/'"
      ],
      "execution_count": 3,
      "outputs": [
        {
          "output_type": "stream",
          "text": [
            "bicicletas-compartidas.csv  datos_profesora.py  juego-azar.csv  \u001b[0m\u001b[01;34m__pycache__\u001b[0m/\n"
          ],
          "name": "stdout"
        }
      ]
    },
    {
      "cell_type": "code",
      "metadata": {
        "id": "qJcu0-okm2lr",
        "colab_type": "code",
        "colab": {
          "base_uri": "https://localhost:8080/",
          "height": 34
        },
        "outputId": "1a7acccf-433d-43c4-a262-8f82a423c051"
      },
      "source": [
        "cd '/content/drive/My Drive/Colab Notebooks/fundamentos-de-estadistica-con-python/datos/'"
      ],
      "execution_count": 4,
      "outputs": [
        {
          "output_type": "stream",
          "text": [
            "/content/drive/My Drive/Colab Notebooks/fundamentos-de-estadistica-con-python/datos\n"
          ],
          "name": "stdout"
        }
      ]
    },
    {
      "cell_type": "markdown",
      "metadata": {
        "id": "vA87zA_kV5CS",
        "colab_type": "text"
      },
      "source": [
        "Vamos a usar un juego de azar como ejemplo del teorema de bayes.\n",
        "\n",
        "Presentamos un escenario donde tenemos 10 esferas, cada una marcada con un numero de 1 a 3, y un color que puede ser negro o blanco. Vamos a seleccionar una esfera aleatoriamente de esta caja de 10 esferas y queremos calcular la probabilidad de obtener un color, un numero y/o a que pase esto simultaneamente."
      ]
    },
    {
      "cell_type": "code",
      "metadata": {
        "id": "aNgFyWAbm39k",
        "colab_type": "code",
        "colab": {
          "base_uri": "https://localhost:8080/",
          "height": 34
        },
        "outputId": "481c447e-5195-415c-81ee-b9898ae33fc2"
      },
      "source": [
        "df_juego = pd.read_csv('juego-azar.csv', sep=';')\n",
        "df_juego.columns"
      ],
      "execution_count": 5,
      "outputs": [
        {
          "output_type": "execute_result",
          "data": {
            "text/plain": [
              "Index(['bola', 'color', 'numero'], dtype='object')"
            ]
          },
          "metadata": {
            "tags": []
          },
          "execution_count": 5
        }
      ]
    },
    {
      "cell_type": "code",
      "metadata": {
        "id": "fwKY8fcCmyT8",
        "colab_type": "code",
        "colab": {
          "base_uri": "https://localhost:8080/",
          "height": 363
        },
        "outputId": "c312b3c0-b048-4a5c-cee2-cd338a7838ca"
      },
      "source": [
        "df_juego"
      ],
      "execution_count": 6,
      "outputs": [
        {
          "output_type": "execute_result",
          "data": {
            "text/html": [
              "<div>\n",
              "<style scoped>\n",
              "    .dataframe tbody tr th:only-of-type {\n",
              "        vertical-align: middle;\n",
              "    }\n",
              "\n",
              "    .dataframe tbody tr th {\n",
              "        vertical-align: top;\n",
              "    }\n",
              "\n",
              "    .dataframe thead th {\n",
              "        text-align: right;\n",
              "    }\n",
              "</style>\n",
              "<table border=\"1\" class=\"dataframe\">\n",
              "  <thead>\n",
              "    <tr style=\"text-align: right;\">\n",
              "      <th></th>\n",
              "      <th>bola</th>\n",
              "      <th>color</th>\n",
              "      <th>numero</th>\n",
              "    </tr>\n",
              "  </thead>\n",
              "  <tbody>\n",
              "    <tr>\n",
              "      <th>0</th>\n",
              "      <td>1</td>\n",
              "      <td>blanco</td>\n",
              "      <td>1</td>\n",
              "    </tr>\n",
              "    <tr>\n",
              "      <th>1</th>\n",
              "      <td>2</td>\n",
              "      <td>negro</td>\n",
              "      <td>1</td>\n",
              "    </tr>\n",
              "    <tr>\n",
              "      <th>2</th>\n",
              "      <td>3</td>\n",
              "      <td>negro</td>\n",
              "      <td>1</td>\n",
              "    </tr>\n",
              "    <tr>\n",
              "      <th>3</th>\n",
              "      <td>4</td>\n",
              "      <td>negro</td>\n",
              "      <td>1</td>\n",
              "    </tr>\n",
              "    <tr>\n",
              "      <th>4</th>\n",
              "      <td>5</td>\n",
              "      <td>blanco</td>\n",
              "      <td>2</td>\n",
              "    </tr>\n",
              "    <tr>\n",
              "      <th>5</th>\n",
              "      <td>6</td>\n",
              "      <td>negro</td>\n",
              "      <td>2</td>\n",
              "    </tr>\n",
              "    <tr>\n",
              "      <th>6</th>\n",
              "      <td>7</td>\n",
              "      <td>negro</td>\n",
              "      <td>2</td>\n",
              "    </tr>\n",
              "    <tr>\n",
              "      <th>7</th>\n",
              "      <td>8</td>\n",
              "      <td>blanco</td>\n",
              "      <td>3</td>\n",
              "    </tr>\n",
              "    <tr>\n",
              "      <th>8</th>\n",
              "      <td>9</td>\n",
              "      <td>blanco</td>\n",
              "      <td>3</td>\n",
              "    </tr>\n",
              "    <tr>\n",
              "      <th>9</th>\n",
              "      <td>10</td>\n",
              "      <td>negro</td>\n",
              "      <td>3</td>\n",
              "    </tr>\n",
              "  </tbody>\n",
              "</table>\n",
              "</div>"
            ],
            "text/plain": [
              "   bola   color  numero\n",
              "0     1  blanco       1\n",
              "1     2   negro       1\n",
              "2     3   negro       1\n",
              "3     4   negro       1\n",
              "4     5  blanco       2\n",
              "5     6   negro       2\n",
              "6     7   negro       2\n",
              "7     8  blanco       3\n",
              "8     9  blanco       3\n",
              "9    10   negro       3"
            ]
          },
          "metadata": {
            "tags": []
          },
          "execution_count": 6
        }
      ]
    },
    {
      "cell_type": "markdown",
      "metadata": {
        "id": "Jo1D2iLcWAdH",
        "colab_type": "text"
      },
      "source": [
        "## Probabilidades univariadas"
      ]
    },
    {
      "cell_type": "markdown",
      "metadata": {
        "id": "UzVt8gqDWO3-",
        "colab_type": "text"
      },
      "source": [
        "En estadística, una [distribución univariante](https://es.qwe.wiki/wiki/Univariate_distribution) es una distribución de probabilidad de una sola variable aleatoria ."
      ]
    },
    {
      "cell_type": "code",
      "metadata": {
        "id": "odEE7QaVmvzz",
        "colab_type": "code",
        "colab": {
          "base_uri": "https://localhost:8080/",
          "height": 86
        },
        "outputId": "b3e5512f-7989-4136-d118-724e5c90d35b"
      },
      "source": [
        "df_juego.numero.value_counts()"
      ],
      "execution_count": 7,
      "outputs": [
        {
          "output_type": "execute_result",
          "data": {
            "text/plain": [
              "1    4\n",
              "3    3\n",
              "2    3\n",
              "Name: numero, dtype: int64"
            ]
          },
          "metadata": {
            "tags": []
          },
          "execution_count": 7
        }
      ]
    },
    {
      "cell_type": "code",
      "metadata": {
        "id": "1SE1_2XqVhbt",
        "colab_type": "code",
        "colab": {
          "base_uri": "https://localhost:8080/",
          "height": 86
        },
        "outputId": "302ca24d-1ae2-415c-f0ff-cfde216df548"
      },
      "source": [
        "df_juego.numero.value_counts()/len(df_juego)"
      ],
      "execution_count": 8,
      "outputs": [
        {
          "output_type": "execute_result",
          "data": {
            "text/plain": [
              "1    0.4\n",
              "3    0.3\n",
              "2    0.3\n",
              "Name: numero, dtype: float64"
            ]
          },
          "metadata": {
            "tags": []
          },
          "execution_count": 8
        }
      ]
    },
    {
      "cell_type": "code",
      "metadata": {
        "id": "PN9QtApwWIcZ",
        "colab_type": "code",
        "colab": {
          "base_uri": "https://localhost:8080/",
          "height": 69
        },
        "outputId": "b9a603df-9f5f-4583-f785-4a28f073894c"
      },
      "source": [
        "df_juego.color.value_counts()/len(df_juego)"
      ],
      "execution_count": 9,
      "outputs": [
        {
          "output_type": "execute_result",
          "data": {
            "text/plain": [
              "negro     0.6\n",
              "blanco    0.4\n",
              "Name: color, dtype: float64"
            ]
          },
          "metadata": {
            "tags": []
          },
          "execution_count": 9
        }
      ]
    },
    {
      "cell_type": "markdown",
      "metadata": {
        "id": "BXpGiJrXafkr",
        "colab_type": "text"
      },
      "source": [
        "## Probabilidades bivariadas\n",
        "\n",
        "Dadas las variables aleatorias, que se definen en un espacio de probabilidad, la distribución de probabilidad conjunta para es una distribución de probabilidad que da la probabilidad de que cada una de ellas caiga en cualquier rango particular o conjunto discreto de valores especificados para esa variable. En el caso de solo dos variables aleatorias, esto se llama [distribución bivariada](https://es.qwe.wiki/wiki/Joint_probability_distribution), pero el concepto se generaliza a cualquier número de variables aleatorias, dando una distribución multivariante."
      ]
    },
    {
      "cell_type": "code",
      "metadata": {
        "id": "UHEfX0HqY2Uv",
        "colab_type": "code",
        "colab": {
          "base_uri": "https://localhost:8080/",
          "height": 156
        },
        "outputId": "922c7967-2798-45d4-bb8c-975f227b8337"
      },
      "source": [
        "df_juego.groupby(['color', 'numero']).size()/len(df_juego)"
      ],
      "execution_count": 10,
      "outputs": [
        {
          "output_type": "execute_result",
          "data": {
            "text/plain": [
              "color   numero\n",
              "blanco  1         0.1\n",
              "        2         0.1\n",
              "        3         0.2\n",
              "negro   1         0.3\n",
              "        2         0.2\n",
              "        3         0.1\n",
              "dtype: float64"
            ]
          },
          "metadata": {
            "tags": []
          },
          "execution_count": 10
        }
      ]
    },
    {
      "cell_type": "markdown",
      "metadata": {
        "id": "dNEc8MdHbO1w",
        "colab_type": "text"
      },
      "source": [
        "## Probabilidad condicional\n",
        "\n",
        "[Probabilidad condicional](https://es.wikipedia.org/wiki/Probabilidad_condicionada) es la probabilidad de que ocurra un evento A, sabiendo que también sucede otro evento B. La probabilidad condicional se escribe P(A|B) o P(A/B), y se lee «la probabilidad de A dado B».\n",
        "\n",
        "No tiene por qué haber una relación causal o temporal entre A y B. A puede preceder en el tiempo a B, sucederlo o pueden ocurrir simultáneamente. A puede causar B, viceversa o pueden no tener relación causal. Las relaciones causales o temporales son nociones que no pertenecen al ámbito de la probabilidad. Pueden desempeñar un papel o no, dependiendo de la interpretación que se le dé a los eventos. "
      ]
    },
    {
      "cell_type": "markdown",
      "metadata": {
        "id": "qkWUypZJcN65",
        "colab_type": "text"
      },
      "source": [
        "Calculemos la probabilidad de que la esfera tenga un color blanco dado que la esfera tenga el numero 2."
      ]
    },
    {
      "cell_type": "code",
      "metadata": {
        "id": "4o1jHK-JcYUh",
        "colab_type": "code",
        "colab": {
          "base_uri": "https://localhost:8080/",
          "height": 156
        },
        "outputId": "114cc14a-bc60-474f-d01e-26b08a6b6a7a"
      },
      "source": [
        "df_juego.groupby(['color', 'numero']).size() # revisemos los casos"
      ],
      "execution_count": 11,
      "outputs": [
        {
          "output_type": "execute_result",
          "data": {
            "text/plain": [
              "color   numero\n",
              "blanco  1         1\n",
              "        2         1\n",
              "        3         2\n",
              "negro   1         3\n",
              "        2         2\n",
              "        3         1\n",
              "dtype: int64"
            ]
          },
          "metadata": {
            "tags": []
          },
          "execution_count": 11
        }
      ]
    },
    {
      "cell_type": "code",
      "metadata": {
        "id": "h1NTr09Sa9VZ",
        "colab_type": "code",
        "colab": {
          "base_uri": "https://localhost:8080/",
          "height": 34
        },
        "outputId": "5db0c614-883d-4b1f-f120-75894ccad4cd"
      },
      "source": [
        "# P(A/B) = P(B/2) = 1 / 3 (Hay una esfera )\n",
        "1 / 3"
      ],
      "execution_count": 12,
      "outputs": [
        {
          "output_type": "execute_result",
          "data": {
            "text/plain": [
              "0.3333333333333333"
            ]
          },
          "metadata": {
            "tags": []
          },
          "execution_count": 12
        }
      ]
    },
    {
      "cell_type": "markdown",
      "metadata": {
        "id": "BGXhIS9NeSZe",
        "colab_type": "text"
      },
      "source": [
        "## Teorema de bayes"
      ]
    },
    {
      "cell_type": "markdown",
      "metadata": {
        "id": "G2dhKVlNea_L",
        "colab_type": "text"
      },
      "source": [
        "En términos más generales y menos matemáticos, el [teorema de Bayes](https://es.wikipedia.org/wiki/Teorema_de_Bayes) es de enorme relevancia puesto que vincula la probabilidad de A dado B con la probabilidad de B dado A.\n",
        "\n",
        "![teorema de bayes](https://imgur.com/RgweTit.png)"
      ]
    },
    {
      "cell_type": "code",
      "metadata": {
        "id": "TtcUIl6yckcz",
        "colab_type": "code",
        "colab": {
          "base_uri": "https://localhost:8080/",
          "height": 34
        },
        "outputId": "baf9a1a5-792e-4391-f57a-bddbb8b19a2f"
      },
      "source": [
        "# P(A)\n",
        "\n",
        "# P(A/B)\n",
        "\n",
        "# P(B)\n",
        "\n",
        "# p_blanca = 4/10\n",
        "\n",
        "# p(p_blanca|1) + p(p_blanca|2) + p(p_blanca|3)\n",
        "#       1       +       1       +     2\n",
        "\n",
        "# p(blanco) = p(p_blanca|1)*p(1) + p(p_blanca|2)*p(2) + p(p_blanca|3)*p(3)\n",
        "\n",
        "(1/4)*(4/10) + (1/3)*(3/10) + (2/3)*(3/10)\n",
        "\n"
      ],
      "execution_count": 13,
      "outputs": [
        {
          "output_type": "execute_result",
          "data": {
            "text/plain": [
              "0.4"
            ]
          },
          "metadata": {
            "tags": []
          },
          "execution_count": 13
        }
      ]
    },
    {
      "cell_type": "markdown",
      "metadata": {
        "id": "A50_10n5lA0Z",
        "colab_type": "text"
      },
      "source": [
        "Las formulas vistas son sencillas de aplicar pero muy importantes. Nos permite llegar a conclusiones sobre un evento A cuando no conocemos su probabilidad utilizando la probabilidad de un evento B y la probabilidad condicionada del evento A dado B."
      ]
    },
    {
      "cell_type": "markdown",
      "metadata": {
        "id": "t8XJndUulqFM",
        "colab_type": "text"
      },
      "source": [
        "## Realizando las funciones"
      ]
    },
    {
      "cell_type": "code",
      "metadata": {
        "id": "pJV87W00kF0W",
        "colab_type": "code",
        "colab": {}
      },
      "source": [
        "def prob(df, column):\n",
        "  '''Probabilidad de un evento aleatorio univariado.\n",
        "  Parameters:\n",
        "  -----------\n",
        "  - df : dataframe de pandas\n",
        "  - column : str, nombre de la columna. \n",
        "  Returns:\n",
        "  -----------\n",
        "  - return df[column].value_counts()/len(df)\n",
        "  '''\n",
        "  return df[column].value_counts()/len(df)"
      ],
      "execution_count": 14,
      "outputs": []
    },
    {
      "cell_type": "code",
      "metadata": {
        "id": "yGbBX_d6nADz",
        "colab_type": "code",
        "colab": {
          "base_uri": "https://localhost:8080/",
          "height": 69
        },
        "outputId": "b145385e-c7b9-4c25-9572-c899b3b0ddb0"
      },
      "source": [
        "prob(df_juego, 'color')"
      ],
      "execution_count": 15,
      "outputs": [
        {
          "output_type": "execute_result",
          "data": {
            "text/plain": [
              "negro     0.6\n",
              "blanco    0.4\n",
              "Name: color, dtype: float64"
            ]
          },
          "metadata": {
            "tags": []
          },
          "execution_count": 15
        }
      ]
    },
    {
      "cell_type": "code",
      "metadata": {
        "id": "X86TeqDVm8vZ",
        "colab_type": "code",
        "colab": {}
      },
      "source": [
        "def prob_conj(df, column1, column2):\n",
        "  '''Probabilidad de un evento aleatorio dadas dos variables.\n",
        "  Parameters:\n",
        "  -----------\n",
        "  - df : dataframe de pandas\n",
        "  - column1, column2  : str, nombre de la columna. \n",
        "  Returns:\n",
        "  -----------\n",
        "  - return df.groupby([column1, column2]).size()/len(df)\n",
        "  '''\n",
        "  return df.groupby([column1, column2]).size()/len(df)"
      ],
      "execution_count": 16,
      "outputs": []
    },
    {
      "cell_type": "code",
      "metadata": {
        "id": "-a4CPi85oB1v",
        "colab_type": "code",
        "colab": {
          "base_uri": "https://localhost:8080/",
          "height": 156
        },
        "outputId": "1dc81fe1-58bc-4bc3-9d88-0608db5db429"
      },
      "source": [
        "prob_conj(df_juego, 'color', 'numero')"
      ],
      "execution_count": 17,
      "outputs": [
        {
          "output_type": "execute_result",
          "data": {
            "text/plain": [
              "color   numero\n",
              "blanco  1         0.1\n",
              "        2         0.1\n",
              "        3         0.2\n",
              "negro   1         0.3\n",
              "        2         0.2\n",
              "        3         0.1\n",
              "dtype: float64"
            ]
          },
          "metadata": {
            "tags": []
          },
          "execution_count": 17
        }
      ]
    },
    {
      "cell_type": "code",
      "metadata": {
        "id": "qfNAh5sipY_H",
        "colab_type": "code",
        "colab": {}
      },
      "source": [
        "def bayes_teorem(df, column1, column2, idx1, idx2):\n",
        "  p_ba = prob_conj(df, column2, column1)[idx2][idx1]\n",
        "  p_a = prob(df_juego, column1)[idx1]\n",
        "  p_b = prob(df_juego, column2)[idx2]\n",
        "\n",
        "  return (p_ba * p_a / p_b)"
      ],
      "execution_count": 18,
      "outputs": []
    },
    {
      "cell_type": "code",
      "metadata": {
        "id": "6rR-a3xorDWY",
        "colab_type": "code",
        "colab": {
          "base_uri": "https://localhost:8080/",
          "height": 34
        },
        "outputId": "81c0c537-d33f-41f3-f705-f5d9f5c0414d"
      },
      "source": [
        "bayes_teorem(df_juego, 'numero', 'color', 2, 'blanco')"
      ],
      "execution_count": 19,
      "outputs": [
        {
          "output_type": "execute_result",
          "data": {
            "text/plain": [
              "0.075"
            ]
          },
          "metadata": {
            "tags": []
          },
          "execution_count": 19
        }
      ]
    }
  ]
}