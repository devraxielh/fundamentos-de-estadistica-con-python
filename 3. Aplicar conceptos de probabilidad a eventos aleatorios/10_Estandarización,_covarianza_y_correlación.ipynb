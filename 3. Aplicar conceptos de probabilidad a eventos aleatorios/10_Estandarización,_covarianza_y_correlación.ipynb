{
  "nbformat": 4,
  "nbformat_minor": 0,
  "metadata": {
    "colab": {
      "name": "10.Estandarización, covarianza y correlación.ipynb",
      "provenance": [],
      "authorship_tag": "ABX9TyNGJDBTPbzyikb2u8cMQ/q6",
      "include_colab_link": true
    },
    "kernelspec": {
      "name": "python3",
      "display_name": "Python 3"
    }
  },
  "cells": [
    {
      "cell_type": "markdown",
      "metadata": {
        "id": "view-in-github",
        "colab_type": "text"
      },
      "source": [
        "<a href=\"https://colab.research.google.com/github/francomanca93/fundamentos-de-estadistica-con-python/blob/eventos-aleatorios/3.%20Aplicar%20conceptos%20de%20probabilidad%20a%20eventos%20aleatorios/10_Estandarizaci%C3%B3n%2C_covarianza_y_correlaci%C3%B3n.ipynb\" target=\"_parent\"><img src=\"https://colab.research.google.com/assets/colab-badge.svg\" alt=\"Open In Colab\"/></a>"
      ]
    },
    {
      "cell_type": "markdown",
      "metadata": {
        "id": "SuAtl1skhSwc",
        "colab_type": "text"
      },
      "source": [
        "# Estandarización, covarianza y correlación"
      ]
    },
    {
      "cell_type": "markdown",
      "metadata": {
        "id": "GFe3k0pLsK_Q",
        "colab_type": "text"
      },
      "source": [
        "## Configuramos notebook"
      ]
    },
    {
      "cell_type": "code",
      "metadata": {
        "id": "7YrN5QgfrxqN",
        "colab_type": "code",
        "colab": {
          "base_uri": "https://localhost:8080/",
          "height": 34
        },
        "outputId": "db540361-7d0c-4828-9a5c-81b5deddcd62"
      },
      "source": [
        "#Montamos Drive\n",
        "from google.colab import drive\n",
        "drive.mount('/content/drive')"
      ],
      "execution_count": 2,
      "outputs": [
        {
          "output_type": "stream",
          "text": [
            "Mounted at /content/drive\n"
          ],
          "name": "stdout"
        }
      ]
    },
    {
      "cell_type": "code",
      "metadata": {
        "id": "COI96xSOr6UB",
        "colab_type": "code",
        "colab": {
          "base_uri": "https://localhost:8080/",
          "height": 52
        },
        "outputId": "cc32967e-9ae5-4d73-8518-c91f989866d3"
      },
      "source": [
        "ls '/content/drive/My Drive/Colab Notebooks/fundamentos-de-estadistica-con-python/datos/'"
      ],
      "execution_count": 3,
      "outputs": [
        {
          "output_type": "stream",
          "text": [
            "bicicletas-compartidas.csv  iris-data.csv   \u001b[0m\u001b[01;34m__pycache__\u001b[0m/\n",
            "datos_profesora.py          juego-azar.csv\n"
          ],
          "name": "stdout"
        }
      ]
    },
    {
      "cell_type": "code",
      "metadata": {
        "id": "YFj834MMr9L3",
        "colab_type": "code",
        "colab": {
          "base_uri": "https://localhost:8080/",
          "height": 34
        },
        "outputId": "332064ac-ba1a-44dc-f962-eedb97d4cb10"
      },
      "source": [
        "cd '/content/drive/My Drive/Colab Notebooks/fundamentos-de-estadistica-con-python/datos/'"
      ],
      "execution_count": 4,
      "outputs": [
        {
          "output_type": "stream",
          "text": [
            "/content/drive/My Drive/Colab Notebooks/fundamentos-de-estadistica-con-python/datos\n"
          ],
          "name": "stdout"
        }
      ]
    },
    {
      "cell_type": "code",
      "metadata": {
        "id": "exjQpHG1r_IX",
        "colab_type": "code",
        "colab": {}
      },
      "source": [
        "df_iris = pd.read_csv('iris-data.csv')\n",
        "df_iris = df_iris.drop(columns=['Unnamed: 0'])"
      ],
      "execution_count": null,
      "outputs": []
    },
    {
      "cell_type": "code",
      "metadata": {
        "id": "iBQi7r72rqlE",
        "colab_type": "code",
        "colab": {
          "base_uri": "https://localhost:8080/",
          "height": 72
        },
        "outputId": "71b1ab29-70a6-41de-dd7d-7ad8fa0d07a5"
      },
      "source": [
        "import numpy as np\n",
        "import pandas as pd\n",
        "\n",
        "import matplotlib.pyplot as plt\n",
        "import seaborn as sns\n",
        "\n",
        "%matplotlib inline"
      ],
      "execution_count": 1,
      "outputs": [
        {
          "output_type": "stream",
          "text": [
            "/usr/local/lib/python3.6/dist-packages/statsmodels/tools/_testing.py:19: FutureWarning: pandas.util.testing is deprecated. Use the functions in the public API at pandas.testing instead.\n",
            "  import pandas.util.testing as tm\n"
          ],
          "name": "stderr"
        }
      ]
    },
    {
      "cell_type": "markdown",
      "metadata": {
        "id": "dDOroG7shXIy",
        "colab_type": "text"
      },
      "source": [
        "## Estandarizar\n",
        "\n",
        "La correlacion y la covarianza, son dos medidas que nos van a permitir entender la relacion entre dos variables aleatorias, **x** y **y**. Pero para hablar de ellas debemos entender el concepto de estandarizacion.\n",
        "\n",
        "\n",
        "Estandarizar una variable consiste en transformar una distribución N(µ, σ) en otra normal N(0, 1). La transformación consiste en:\n",
        "\n",
        "1. Trasladar o centrar, es decir, hacer la media cero (µ = 0).\n",
        "2. Reducir (contraer o dilatar), es decir, hacer la desviación estandar o típica uno (σ = 1).\n",
        "\n",
        "Para ellos se aplica el cambio de variable: \n",
        "\n",
        "Z = (X - µ) / σ\n",
        "\n",
        "El proceso lo podemos ver en la imagen: \n",
        "\n",
        "\n",
        "![estandarizar](https://imgur.com/iBCknNq.png)\n",
        "\n",
        "Estandarizar tambien nos permite hacer que la variable sea adimensional, es decir, que no tengan dimensión o que los datos sean independientes de la escala escogida. "
      ]
    },
    {
      "cell_type": "code",
      "metadata": {
        "id": "i5vihsjhrfP3",
        "colab_type": "code",
        "colab": {
          "base_uri": "https://localhost:8080/",
          "height": 34
        },
        "outputId": "22554155-3512-4b84-e2f5-0f0de4bbd55e"
      },
      "source": [
        "df_iris.columns"
      ],
      "execution_count": 7,
      "outputs": [
        {
          "output_type": "execute_result",
          "data": {
            "text/plain": [
              "Index(['lar.sepalo', 'anc.sepalo', 'lar.petalo', 'anc.petalo', 'tipo_flor'], dtype='object')"
            ]
          },
          "metadata": {
            "tags": []
          },
          "execution_count": 7
        }
      ]
    },
    {
      "cell_type": "code",
      "metadata": {
        "id": "k61yVD_nsjIS",
        "colab_type": "code",
        "colab": {
          "base_uri": "https://localhost:8080/",
          "height": 86
        },
        "outputId": "7c10dce7-6c70-4048-9c53-ec7346ed1d45"
      },
      "source": [
        "df_iris.tipo_flor.value_counts()"
      ],
      "execution_count": 8,
      "outputs": [
        {
          "output_type": "execute_result",
          "data": {
            "text/plain": [
              "2.0    50\n",
              "1.0    50\n",
              "0.0    50\n",
              "Name: tipo_flor, dtype: int64"
            ]
          },
          "metadata": {
            "tags": []
          },
          "execution_count": 8
        }
      ]
    },
    {
      "cell_type": "markdown",
      "metadata": {
        "id": "DfWpM0D9swOQ",
        "colab_type": "text"
      },
      "source": [
        "Nos quedaremos con el largo del petalo"
      ]
    },
    {
      "cell_type": "code",
      "metadata": {
        "id": "pstSLihLsv0m",
        "colab_type": "code",
        "colab": {}
      },
      "source": [
        "y_largo_petalo = df_iris['lar.petalo']"
      ],
      "execution_count": 10,
      "outputs": []
    },
    {
      "cell_type": "code",
      "metadata": {
        "id": "lU6oq-AEtC8_",
        "colab_type": "code",
        "colab": {
          "base_uri": "https://localhost:8080/",
          "height": 298
        },
        "outputId": "2ba43222-ee30-471f-f7ac-30a916c14e9f"
      },
      "source": [
        "fig, ax = plt.subplots()\n",
        "ax.set_title('Variable original')\n",
        "ax.hist(y_largo_petalo, bins = 30)\n",
        "ax.axvline(x = np.mean(y_largo_petalo), color='black', label='media', linestyle='--')\n",
        "ax.axvline(x = np.mean(y_largo_petalo) + np.std(y_largo_petalo), color='red', label='desv. est.', linestyle='--')\n",
        "ax.legend()"
      ],
      "execution_count": 16,
      "outputs": [
        {
          "output_type": "execute_result",
          "data": {
            "text/plain": [
              "<matplotlib.legend.Legend at 0x7f71710484e0>"
            ]
          },
          "metadata": {
            "tags": []
          },
          "execution_count": 16
        },
        {
          "output_type": "display_data",
          "data": {
            "image/png": "[encoded data removed]",
            "text/plain": [
              "<Figure size 432x288 with 1 Axes>"
            ]
          },
          "metadata": {
            "tags": [],
            "needs_background": "light"
          }
        }
      ]
    },
    {
      "cell_type": "markdown",
      "metadata": {
        "id": "nPBKlxn7tSu_",
        "colab_type": "text"
      },
      "source": [
        "Es una distribucion bimodal, esto nos da un vistazo que la variable esta categorizando dos poblaciones diferentes. En nuestro caso sabemos que son 3 por ``` df_iris.tipo_flor.value_counts() ```. \n",
        "\n",
        "Luego de haber hecho la grafica anterior, estandaricemos:\n",
        "\n"
      ]
    },
    {
      "cell_type": "code",
      "metadata": {
        "id": "zXjo_Nbevnmz",
        "colab_type": "code",
        "colab": {
          "base_uri": "https://localhost:8080/",
          "height": 282
        },
        "outputId": "33f7f229-515c-4077-83dc-1c375e638463"
      },
      "source": [
        "fig, ax = plt.subplots()\n",
        "# cambio de variable para estandarizar\n",
        "z = (y_largo_petalo - np.mean(y_largo_petalo)) / np.std(y_largo_petalo)\n",
        "\n",
        "# Estandarizado\n",
        "ax.hist(z, bins = 30, alpha = 0.5)\n",
        "ax.axvline(x = np.mean(z), color='black', label='media estand.', linestyle='--')\n",
        "ax.axvline(x = np.mean(z) + np.std(z), color='red', label='desv. est. estand.', linestyle='--')\n",
        "\n",
        "ax.legend()"
      ],
      "execution_count": 18,
      "outputs": [
        {
          "output_type": "execute_result",
          "data": {
            "text/plain": [
              "<matplotlib.legend.Legend at 0x7f71710c3860>"
            ]
          },
          "metadata": {
            "tags": []
          },
          "execution_count": 18
        },
        {
          "output_type": "display_data",
          "data": {
            "image/png": "[encoded data removed]",
            "text/plain": [
              "<Figure size 432x288 with 1 Axes>"
            ]
          },
          "metadata": {
            "tags": [],
            "needs_background": "light"
          }
        }
      ]
    },
    {
      "cell_type": "markdown",
      "metadata": {
        "id": "pCG9rb4qvrrq",
        "colab_type": "text"
      },
      "source": [
        "Comparemos la original y la estandarizada. "
      ]
    },
    {
      "cell_type": "code",
      "metadata": {
        "id": "suIHTmggufrU",
        "colab_type": "code",
        "colab": {
          "base_uri": "https://localhost:8080/",
          "height": 298
        },
        "outputId": "c20eb166-1767-4e88-aa9c-418aaeff0004"
      },
      "source": [
        "fig, ax = plt.subplots()\n",
        "# cambio de variable para estandarizar\n",
        "z = (y_largo_petalo - np.mean(y_largo_petalo)) / np.std(y_largo_petalo)\n",
        "\n",
        "\n",
        "ax.set_title('Estandarización de la variable')\n",
        "# Original\n",
        "ax.hist(y_largo_petalo, bins = 30, alpha = 0.3)\n",
        "ax.axvline(x = np.mean(y_largo_petalo), color='black', label='media', linestyle='--', alpha = 0.5)\n",
        "ax.axvline(x = np.mean(y_largo_petalo) + np.std(y_largo_petalo), color='red', label='desv. est.', linestyle='--', alpha = 0.5)\n",
        "\n",
        "# Estandarizado\n",
        "ax.hist(z, bins = 30)\n",
        "ax.axvline(x = np.mean(z), color='black', label='media estand.', linestyle='--')\n",
        "ax.axvline(x = np.mean(z) + np.std(z), color='red', label='desv. est. estand.', linestyle='--')\n",
        "\n",
        "ax.legend()"
      ],
      "execution_count": 22,
      "outputs": [
        {
          "output_type": "execute_result",
          "data": {
            "text/plain": [
              "<matplotlib.legend.Legend at 0x7f716f7c3c50>"
            ]
          },
          "metadata": {
            "tags": []
          },
          "execution_count": 22
        },
        {
          "output_type": "display_data",
          "data": {
            "image/png": "[encoded data removed]",
            "text/plain": [
              "<Figure size 432x288 with 1 Axes>"
            ]
          },
          "metadata": {
            "tags": [],
            "needs_background": "light"
          }
        }
      ]
    },
    {
      "cell_type": "markdown",
      "metadata": {
        "id": "24babRyonsaL",
        "colab_type": "text"
      },
      "source": [
        "## Covarianza y correlación\n",
        "\n",
        "Ambas miden el valor de la relación lineal entre dos variables aleatorias X e Y. \n",
        "\n",
        "[Covarianza](https://es.wikipedia.org/wiki/Covarianza)\n",
        "- Mide la dirección (signo) de la relación entre X e Y. \n",
        "- Sirve para magnitudes no estandarizadas. \n",
        "- El rango de la covarianza es Con(X) = [-∞, ∞].\n",
        "\n",
        "[Correlación](https://es.wikipedia.org/wiki/Correlaci%C3%B3n):\n",
        "- Mide la dirección (signo) de la relación entre X e Y.\n",
        "- Mide la fuerza (cuando está estandarizada). \n",
        "- El rango de la correlación es Corr(X) = [-1, 1].\n",
        "- Relación lineal perfecta cuando es -1 o 1.\n",
        "\n",
        "![formulas](https://imgur.com/mWWC1F7.png)\n",
        "\n",
        "![correlacion1](https://imgur.com/EK3BD7f.png)\n",
        "![correlacion2](https://imgur.com/525NJVa.png)"
      ]
    },
    {
      "cell_type": "markdown",
      "metadata": {
        "id": "hi7WmbhqwgMW",
        "colab_type": "text"
      },
      "source": [
        "Veamos ahora la relación entre dos variables, estas son: \n",
        "- largo de petalo\n",
        "- largo de sepalo"
      ]
    },
    {
      "cell_type": "code",
      "metadata": {
        "id": "CcGr3BaIm61H",
        "colab_type": "code",
        "colab": {
          "base_uri": "https://localhost:8080/",
          "height": 296
        },
        "outputId": "79daccf4-866b-4f4c-a0ee-f955598d6e82"
      },
      "source": [
        "fig, ax = plt.subplots()\n",
        "ax.scatter(x = df_iris['lar.petalo'], y = df_iris['lar.sepalo'], alpha=0.7)\n",
        "ax.set_xlabel('lar.petalo')\n",
        "ax.set_ylabel('lar.setalo')\n"
      ],
      "execution_count": 28,
      "outputs": [
        {
          "output_type": "execute_result",
          "data": {
            "text/plain": [
              "Text(0, 0.5, 'lar.setalo')"
            ]
          },
          "metadata": {
            "tags": []
          },
          "execution_count": 28
        },
        {
          "output_type": "display_data",
          "data": {
            "image/png": "[encoded data removed]",
            "text/plain": [
              "<Figure size 432x288 with 1 Axes>"
            ]
          },
          "metadata": {
            "tags": [],
            "needs_background": "light"
          }
        }
      ]
    },
    {
      "cell_type": "markdown",
      "metadata": {
        "id": "5nFL0JROxZAT",
        "colab_type": "text"
      },
      "source": [
        "Veamos la covarianza:"
      ]
    },
    {
      "cell_type": "code",
      "metadata": {
        "id": "0ULUCVb9w4HA",
        "colab_type": "code",
        "colab": {
          "base_uri": "https://localhost:8080/",
          "height": 52
        },
        "outputId": "57fbb081-6a00-49b0-8423-b66b7e452aef"
      },
      "source": [
        "np.cov(df_iris['lar.petalo'], df_iris['lar.sepalo'])"
      ],
      "execution_count": 29,
      "outputs": [
        {
          "output_type": "execute_result",
          "data": {
            "text/plain": [
              "array([[3.11627785, 1.27431544],\n",
              "       [1.27431544, 0.68569351]])"
            ]
          },
          "metadata": {
            "tags": []
          },
          "execution_count": 29
        }
      ]
    },
    {
      "cell_type": "markdown",
      "metadata": {
        "id": "KUphHdOwxlYs",
        "colab_type": "text"
      },
      "source": [
        "La relación puntual de las dos variables son las esquinas inferior izquierda y superior derecha.\n",
        "\n",
        "Sabemos que la relación es positiva, y como vimos en el gráfico, efectivamente es asi, tenemos una relación positiva de una variable respesto a la otra. Si una aumenta la otra tambien, pero no tenemos la fuerza de estas variables. Esto último lo obtenemos con la correlación. Tenemos varios tipos de correlación, estudiaremos 2.  "
      ]
    },
    {
      "cell_type": "markdown",
      "metadata": {
        "id": "Elv3tAlKya92",
        "colab_type": "text"
      },
      "source": [
        "[Coeficiente de correlación de Spearman](https://es.qwe.wiki/wiki/Spearman%27s_rank_correlation_coefficient) evalúa las relaciones monótonas (lineales o no)."
      ]
    },
    {
      "cell_type": "code",
      "metadata": {
        "id": "VOumJCnGyJ70",
        "colab_type": "code",
        "colab": {
          "base_uri": "https://localhost:8080/",
          "height": 206
        },
        "outputId": "fccd2b95-f4b2-482d-9d5a-e86d646a1003"
      },
      "source": [
        "df_iris.corr(method = 'spearman')"
      ],
      "execution_count": 33,
      "outputs": [
        {
          "output_type": "execute_result",
          "data": {
            "text/html": [
              "<div>\n",
              "<style scoped>\n",
              "    .dataframe tbody tr th:only-of-type {\n",
              "        vertical-align: middle;\n",
              "    }\n",
              "\n",
              "    .dataframe tbody tr th {\n",
              "        vertical-align: top;\n",
              "    }\n",
              "\n",
              "    .dataframe thead th {\n",
              "        text-align: right;\n",
              "    }\n",
              "</style>\n",
              "<table border=\"1\" class=\"dataframe\">\n",
              "  <thead>\n",
              "    <tr style=\"text-align: right;\">\n",
              "      <th></th>\n",
              "      <th>lar.sepalo</th>\n",
              "      <th>anc.sepalo</th>\n",
              "      <th>lar.petalo</th>\n",
              "      <th>anc.petalo</th>\n",
              "      <th>tipo_flor</th>\n",
              "    </tr>\n",
              "  </thead>\n",
              "  <tbody>\n",
              "    <tr>\n",
              "      <th>lar.sepalo</th>\n",
              "      <td>1.000000</td>\n",
              "      <td>-0.166778</td>\n",
              "      <td>0.881898</td>\n",
              "      <td>0.834289</td>\n",
              "      <td>0.798078</td>\n",
              "    </tr>\n",
              "    <tr>\n",
              "      <th>anc.sepalo</th>\n",
              "      <td>-0.166778</td>\n",
              "      <td>1.000000</td>\n",
              "      <td>-0.309635</td>\n",
              "      <td>-0.289032</td>\n",
              "      <td>-0.440290</td>\n",
              "    </tr>\n",
              "    <tr>\n",
              "      <th>lar.petalo</th>\n",
              "      <td>0.881898</td>\n",
              "      <td>-0.309635</td>\n",
              "      <td>1.000000</td>\n",
              "      <td>0.937667</td>\n",
              "      <td>0.935431</td>\n",
              "    </tr>\n",
              "    <tr>\n",
              "      <th>anc.petalo</th>\n",
              "      <td>0.834289</td>\n",
              "      <td>-0.289032</td>\n",
              "      <td>0.937667</td>\n",
              "      <td>1.000000</td>\n",
              "      <td>0.938179</td>\n",
              "    </tr>\n",
              "    <tr>\n",
              "      <th>tipo_flor</th>\n",
              "      <td>0.798078</td>\n",
              "      <td>-0.440290</td>\n",
              "      <td>0.935431</td>\n",
              "      <td>0.938179</td>\n",
              "      <td>1.000000</td>\n",
              "    </tr>\n",
              "  </tbody>\n",
              "</table>\n",
              "</div>"
            ],
            "text/plain": [
              "            lar.sepalo  anc.sepalo  lar.petalo  anc.petalo  tipo_flor\n",
              "lar.sepalo    1.000000   -0.166778    0.881898    0.834289   0.798078\n",
              "anc.sepalo   -0.166778    1.000000   -0.309635   -0.289032  -0.440290\n",
              "lar.petalo    0.881898   -0.309635    1.000000    0.937667   0.935431\n",
              "anc.petalo    0.834289   -0.289032    0.937667    1.000000   0.938179\n",
              "tipo_flor     0.798078   -0.440290    0.935431    0.938179   1.000000"
            ]
          },
          "metadata": {
            "tags": []
          },
          "execution_count": 33
        }
      ]
    },
    {
      "cell_type": "markdown",
      "metadata": {
        "id": "g7TpY1yv0H3F",
        "colab_type": "text"
      },
      "source": [
        "Vemoas que tiene una correlación de spearman de 0.88 entre largo del petalo y largo de sepalo"
      ]
    },
    {
      "cell_type": "markdown",
      "metadata": {
        "id": "vpZi3cG1zjtn",
        "colab_type": "text"
      },
      "source": [
        "[Coeficiente de correlación de Pearson](https://es.qwe.wiki/wiki/Pearson_correlation_coefficient) evalúa las relaciones lineales."
      ]
    },
    {
      "cell_type": "code",
      "metadata": {
        "id": "6fQngY1kxgsX",
        "colab_type": "code",
        "colab": {
          "base_uri": "https://localhost:8080/",
          "height": 206
        },
        "outputId": "24b23948-a38c-44e0-c152-29189cf3607a"
      },
      "source": [
        "df_iris.corr(method = 'pearson')"
      ],
      "execution_count": 34,
      "outputs": [
        {
          "output_type": "execute_result",
          "data": {
            "text/html": [
              "<div>\n",
              "<style scoped>\n",
              "    .dataframe tbody tr th:only-of-type {\n",
              "        vertical-align: middle;\n",
              "    }\n",
              "\n",
              "    .dataframe tbody tr th {\n",
              "        vertical-align: top;\n",
              "    }\n",
              "\n",
              "    .dataframe thead th {\n",
              "        text-align: right;\n",
              "    }\n",
              "</style>\n",
              "<table border=\"1\" class=\"dataframe\">\n",
              "  <thead>\n",
              "    <tr style=\"text-align: right;\">\n",
              "      <th></th>\n",
              "      <th>lar.sepalo</th>\n",
              "      <th>anc.sepalo</th>\n",
              "      <th>lar.petalo</th>\n",
              "      <th>anc.petalo</th>\n",
              "      <th>tipo_flor</th>\n",
              "    </tr>\n",
              "  </thead>\n",
              "  <tbody>\n",
              "    <tr>\n",
              "      <th>lar.sepalo</th>\n",
              "      <td>1.000000</td>\n",
              "      <td>-0.117570</td>\n",
              "      <td>0.871754</td>\n",
              "      <td>0.817941</td>\n",
              "      <td>0.782561</td>\n",
              "    </tr>\n",
              "    <tr>\n",
              "      <th>anc.sepalo</th>\n",
              "      <td>-0.117570</td>\n",
              "      <td>1.000000</td>\n",
              "      <td>-0.428440</td>\n",
              "      <td>-0.366126</td>\n",
              "      <td>-0.426658</td>\n",
              "    </tr>\n",
              "    <tr>\n",
              "      <th>lar.petalo</th>\n",
              "      <td>0.871754</td>\n",
              "      <td>-0.428440</td>\n",
              "      <td>1.000000</td>\n",
              "      <td>0.962865</td>\n",
              "      <td>0.949035</td>\n",
              "    </tr>\n",
              "    <tr>\n",
              "      <th>anc.petalo</th>\n",
              "      <td>0.817941</td>\n",
              "      <td>-0.366126</td>\n",
              "      <td>0.962865</td>\n",
              "      <td>1.000000</td>\n",
              "      <td>0.956547</td>\n",
              "    </tr>\n",
              "    <tr>\n",
              "      <th>tipo_flor</th>\n",
              "      <td>0.782561</td>\n",
              "      <td>-0.426658</td>\n",
              "      <td>0.949035</td>\n",
              "      <td>0.956547</td>\n",
              "      <td>1.000000</td>\n",
              "    </tr>\n",
              "  </tbody>\n",
              "</table>\n",
              "</div>"
            ],
            "text/plain": [
              "            lar.sepalo  anc.sepalo  lar.petalo  anc.petalo  tipo_flor\n",
              "lar.sepalo    1.000000   -0.117570    0.871754    0.817941   0.782561\n",
              "anc.sepalo   -0.117570    1.000000   -0.428440   -0.366126  -0.426658\n",
              "lar.petalo    0.871754   -0.428440    1.000000    0.962865   0.949035\n",
              "anc.petalo    0.817941   -0.366126    0.962865    1.000000   0.956547\n",
              "tipo_flor     0.782561   -0.426658    0.949035    0.956547   1.000000"
            ]
          },
          "metadata": {
            "tags": []
          },
          "execution_count": 34
        }
      ]
    },
    {
      "cell_type": "markdown",
      "metadata": {
        "id": "kZye44Fw0QCY",
        "colab_type": "text"
      },
      "source": [
        "Vemoas que tiene una correlación de spearman de 0.87 entre largo del petalo y largo de sepalo"
      ]
    },
    {
      "cell_type": "markdown",
      "metadata": {
        "id": "drnDG9GR0R4M",
        "colab_type": "text"
      },
      "source": [
        "Comparación entre coeficiente de Searman y Pearson:\n",
        "\n",
        "![searman-pearson-1](https://upload.wikimedia.org/wikipedia/commons/4/4e/Spearman_fig1.svg)\n",
        "\n",
        "Se obtiene una correlación de Spearman de 1 cuando las dos variables que se comparan están relacionadas monótonamente, incluso si su relación no es lineal. Esto significa que todos los puntos de datos con valores de x mayores que los de un punto de datos dado también tendrán valores de y mayores. Por el contrario, esto no da una correlación de Pearson perfecta.\n",
        "\n",
        "![searman-pearson-2](https://upload.wikimedia.org/wikipedia/commons/6/67/Spearman_fig3.svg)\n",
        "\n",
        "La correlación de Spearman es menos sensible que la correlación de Pearson a valores atípicos fuertes que se encuentran en las colas de ambas muestras. Esto se debe a que la rho de Spearman limita el valor atípico al valor de su rango.\n",
        "\n",
        "![searman-pearson-3](https://upload.wikimedia.org/wikipedia/commons/8/80/Spearman_fig2.svg)\n",
        "\n",
        "Cuando los datos están distribuidos aproximadamente elípticamente y no hay valores atípicos prominentes, la correlación de Spearman y la correlación de Pearson dan valores similares."
      ]
    },
    {
      "cell_type": "markdown",
      "metadata": {
        "id": "rJP8YrqT1-vO",
        "colab_type": "text"
      },
      "source": [
        "[El coeficiente de correlación de rango de Kendall](https://es.wikipedia.org/wiki/Coeficiente_de_correlaci%C3%B3n_de_rango_de_Kendall), comúnmente conocido como coeficiente τ de Kendall (con la letra griega τ, tau), es una estadística utilizada para medir la asociación ordinal entre dos cantidades medidas. Se usa como estadística de prueba en una prueba de hipótesis estadística para establecer si dos variables pueden considerarse como dependientes estadísticamente."
      ]
    },
    {
      "cell_type": "code",
      "metadata": {
        "id": "eJ-C9cpZ0A3y",
        "colab_type": "code",
        "colab": {
          "base_uri": "https://localhost:8080/",
          "height": 206
        },
        "outputId": "bfe02aa7-2785-4838-fc49-6b5c276c62df"
      },
      "source": [
        "df_iris.corr(method = 'kendall')"
      ],
      "execution_count": 35,
      "outputs": [
        {
          "output_type": "execute_result",
          "data": {
            "text/html": [
              "<div>\n",
              "<style scoped>\n",
              "    .dataframe tbody tr th:only-of-type {\n",
              "        vertical-align: middle;\n",
              "    }\n",
              "\n",
              "    .dataframe tbody tr th {\n",
              "        vertical-align: top;\n",
              "    }\n",
              "\n",
              "    .dataframe thead th {\n",
              "        text-align: right;\n",
              "    }\n",
              "</style>\n",
              "<table border=\"1\" class=\"dataframe\">\n",
              "  <thead>\n",
              "    <tr style=\"text-align: right;\">\n",
              "      <th></th>\n",
              "      <th>lar.sepalo</th>\n",
              "      <th>anc.sepalo</th>\n",
              "      <th>lar.petalo</th>\n",
              "      <th>anc.petalo</th>\n",
              "      <th>tipo_flor</th>\n",
              "    </tr>\n",
              "  </thead>\n",
              "  <tbody>\n",
              "    <tr>\n",
              "      <th>lar.sepalo</th>\n",
              "      <td>1.000000</td>\n",
              "      <td>-0.076997</td>\n",
              "      <td>0.718516</td>\n",
              "      <td>0.655309</td>\n",
              "      <td>0.670444</td>\n",
              "    </tr>\n",
              "    <tr>\n",
              "      <th>anc.sepalo</th>\n",
              "      <td>-0.076997</td>\n",
              "      <td>1.000000</td>\n",
              "      <td>-0.185994</td>\n",
              "      <td>-0.157126</td>\n",
              "      <td>-0.337614</td>\n",
              "    </tr>\n",
              "    <tr>\n",
              "      <th>lar.petalo</th>\n",
              "      <td>0.718516</td>\n",
              "      <td>-0.185994</td>\n",
              "      <td>1.000000</td>\n",
              "      <td>0.806891</td>\n",
              "      <td>0.822911</td>\n",
              "    </tr>\n",
              "    <tr>\n",
              "      <th>anc.petalo</th>\n",
              "      <td>0.655309</td>\n",
              "      <td>-0.157126</td>\n",
              "      <td>0.806891</td>\n",
              "      <td>1.000000</td>\n",
              "      <td>0.839687</td>\n",
              "    </tr>\n",
              "    <tr>\n",
              "      <th>tipo_flor</th>\n",
              "      <td>0.670444</td>\n",
              "      <td>-0.337614</td>\n",
              "      <td>0.822911</td>\n",
              "      <td>0.839687</td>\n",
              "      <td>1.000000</td>\n",
              "    </tr>\n",
              "  </tbody>\n",
              "</table>\n",
              "</div>"
            ],
            "text/plain": [
              "            lar.sepalo  anc.sepalo  lar.petalo  anc.petalo  tipo_flor\n",
              "lar.sepalo    1.000000   -0.076997    0.718516    0.655309   0.670444\n",
              "anc.sepalo   -0.076997    1.000000   -0.185994   -0.157126  -0.337614\n",
              "lar.petalo    0.718516   -0.185994    1.000000    0.806891   0.822911\n",
              "anc.petalo    0.655309   -0.157126    0.806891    1.000000   0.839687\n",
              "tipo_flor     0.670444   -0.337614    0.822911    0.839687   1.000000"
            ]
          },
          "metadata": {
            "tags": []
          },
          "execution_count": 35
        }
      ]
    },
    {
      "cell_type": "markdown",
      "metadata": {
        "id": "mMLVCOtS2hIJ",
        "colab_type": "text"
      },
      "source": [
        "## Heatmap de las correlaciones"
      ]
    },
    {
      "cell_type": "code",
      "metadata": {
        "id": "OH_NLzTP2URB",
        "colab_type": "code",
        "colab": {}
      },
      "source": [
        "corr_spearman = df_iris.corr(method = 'spearman')\n",
        "corr_pearson = df_iris.corr(method = 'pearson')\n",
        "corr_kendall = df_iris.corr(method = 'kendall')"
      ],
      "execution_count": 36,
      "outputs": []
    },
    {
      "cell_type": "code",
      "metadata": {
        "id": "moLcWAIr2t84",
        "colab_type": "code",
        "colab": {
          "base_uri": "https://localhost:8080/",
          "height": 287
        },
        "outputId": "e0ef4d3d-3124-4e78-eb72-dfc82fbcb6d9"
      },
      "source": [
        "# Spearman\n",
        "current_corr = corr_spearman # Guardo el tipo de correlacion\n",
        "mask = np.zeros_like(current_corr, dtype = np.bool)\n",
        "mask[np.triu_indices(len(current_corr), 1)] = True\n",
        "\n",
        "sns.heatmap(current_corr, xticklabels=current_corr.columns, yticklabels=current_corr.columns,\n",
        "            vmin = -1, vmax = 1, cmap='Spectral', annot=True, mask = mask)"
      ],
      "execution_count": 43,
      "outputs": [
        {
          "output_type": "execute_result",
          "data": {
            "text/plain": [
              "<matplotlib.axes._subplots.AxesSubplot at 0x7f716d7819e8>"
            ]
          },
          "metadata": {
            "tags": []
          },
          "execution_count": 43
        },
        {
          "output_type": "display_data",
          "data": {
            "image/png": "[encoded data removed]",
            "text/plain": [
              "<Figure size 432x288 with 2 Axes>"
            ]
          },
          "metadata": {
            "tags": [],
            "needs_background": "light"
          }
        }
      ]
    },
    {
      "cell_type": "code",
      "metadata": {
        "id": "Ao5-U9nC3U99",
        "colab_type": "code",
        "colab": {
          "base_uri": "https://localhost:8080/",
          "height": 287
        },
        "outputId": "890d0751-2bd0-4081-91f0-e03c9664f5c2"
      },
      "source": [
        "# Pearson\n",
        "current_corr = corr_pearson # Guardo el tipo de correlacion\n",
        "mask = np.zeros_like(current_corr, dtype = np.bool)\n",
        "mask[np.triu_indices(len(current_corr), 1)] = True\n",
        "\n",
        "sns.heatmap(current_corr, xticklabels=current_corr.columns, yticklabels=current_corr.columns,\n",
        "            vmin = -1, vmax = 1, cmap='Spectral', annot=True, mask = mask)"
      ],
      "execution_count": 44,
      "outputs": [
        {
          "output_type": "execute_result",
          "data": {
            "text/plain": [
              "<matplotlib.axes._subplots.AxesSubplot at 0x7f716d853668>"
            ]
          },
          "metadata": {
            "tags": []
          },
          "execution_count": 44
        },
        {
          "output_type": "display_data",
          "data": {
            "image/png": "[encoded data removed]",
            "text/plain": [
              "<Figure size 432x288 with 2 Axes>"
            ]
          },
          "metadata": {
            "tags": [],
            "needs_background": "light"
          }
        }
      ]
    },
    {
      "cell_type": "code",
      "metadata": {
        "id": "Y6I0yOCl4AP2",
        "colab_type": "code",
        "colab": {
          "base_uri": "https://localhost:8080/",
          "height": 287
        },
        "outputId": "4379292d-45ad-4fb3-80d3-effebd635aa6"
      },
      "source": [
        "# Kendall\n",
        "current_corr = corr_kendall # Guardo el tipo de correlacion\n",
        "mask = np.zeros_like(current_corr, dtype = np.bool)\n",
        "mask[np.triu_indices(len(current_corr), 1)] = True\n",
        "\n",
        "sns.heatmap(current_corr, xticklabels=current_corr.columns, yticklabels=current_corr.columns,\n",
        "            vmin = -1, vmax = 1, cmap='Spectral', annot=True, mask = mask)"
      ],
      "execution_count": 46,
      "outputs": [
        {
          "output_type": "execute_result",
          "data": {
            "text/plain": [
              "<matplotlib.axes._subplots.AxesSubplot at 0x7f716d601cf8>"
            ]
          },
          "metadata": {
            "tags": []
          },
          "execution_count": 46
        },
        {
          "output_type": "display_data",
          "data": {
            "image/png": "[encoded data removed]",
            "text/plain": [
              "<Figure size 432x288 with 2 Axes>"
            ]
          },
          "metadata": {
            "tags": [],
            "needs_background": "light"
          }
        }
      ]
    }
  ]
}