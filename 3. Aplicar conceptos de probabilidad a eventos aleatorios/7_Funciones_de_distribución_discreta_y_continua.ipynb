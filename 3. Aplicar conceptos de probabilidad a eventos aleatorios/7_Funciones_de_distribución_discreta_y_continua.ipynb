{
  "nbformat": 4,
  "nbformat_minor": 0,
  "metadata": {
    "colab": {
      "name": "7.Funciones de distribución discreta y continua.ipynb",
      "provenance": [],
      "authorship_tag": "ABX9TyMkATHiLw8+9lpu1JXeSmIR",
      "include_colab_link": true
    },
    "kernelspec": {
      "name": "python3",
      "display_name": "Python 3"
    }
  },
  "cells": [
    {
      "cell_type": "markdown",
      "metadata": {
        "id": "view-in-github",
        "colab_type": "text"
      },
      "source": [
        "<a href=\"https://colab.research.google.com/github/francomanca93/fundamentos-de-estadistica-con-python/blob/eventos-aleatorios/3.%20Aplicar%20conceptos%20de%20probabilidad%20a%20eventos%20aleatorios/7_Funciones_de_distribuci%C3%B3n_discreta_y_continua.ipynb\" target=\"_parent\"><img src=\"https://colab.research.google.com/assets/colab-badge.svg\" alt=\"Open In Colab\"/></a>"
      ]
    },
    {
      "cell_type": "markdown",
      "metadata": {
        "id": "PGqn9CDlpLro",
        "colab_type": "text"
      },
      "source": [
        "# Funciones de distribución discreta y continua"
      ]
    },
    {
      "cell_type": "markdown",
      "metadata": {
        "id": "Q-imIg7TVTTS",
        "colab_type": "text"
      },
      "source": [
        "## Configuramos nuestro notebook"
      ]
    },
    {
      "cell_type": "markdown",
      "metadata": {
        "id": "DDxom1ZJnIzL",
        "colab_type": "text"
      },
      "source": [
        "Montamos drive para acceder a la base de datos con la cual vamos a trabajar"
      ]
    },
    {
      "cell_type": "code",
      "metadata": {
        "id": "n8qcx87yA9x-",
        "colab_type": "code",
        "colab": {
          "base_uri": "https://localhost:8080/",
          "height": 72
        },
        "outputId": "fb8524c2-0751-49c5-d96e-a74706f58ced"
      },
      "source": [
        "import numpy as np\n",
        "import pandas as pd\n",
        "import scipy.stats\n",
        "\n",
        "import matplotlib.pyplot as plt\n",
        "import seaborn as sns\n",
        "\n",
        "%matplotlib inline"
      ],
      "execution_count": 1,
      "outputs": [
        {
          "output_type": "stream",
          "text": [
            "/usr/local/lib/python3.6/dist-packages/statsmodels/tools/_testing.py:19: FutureWarning: pandas.util.testing is deprecated. Use the functions in the public API at pandas.testing instead.\n",
            "  import pandas.util.testing as tm\n"
          ],
          "name": "stderr"
        }
      ]
    },
    {
      "cell_type": "markdown",
      "metadata": {
        "id": "Nn5Xs0OXABUu",
        "colab_type": "text"
      },
      "source": [
        "## Dos conceptos claves: Valor esperado o media y varianza.\n",
        "\n",
        "![media](https://imgur.com/iI23Ioi.png)\n",
        "![varianza](https://imgur.com/pJ0twjQ.png)"
      ]
    },
    {
      "cell_type": "markdown",
      "metadata": {
        "id": "n-dy10atGpj4",
        "colab_type": "text"
      },
      "source": [
        "## Distribucion de probabilidad discreta\n",
        "\n",
        "Se denomina [distribución de variable discreta](https://es.wikipedia.org/wiki/Distribuci%C3%B3n_de_probabilidad#Distribuciones_de_variable_discreta) a aquella cuya función de probabilidad solo toma valores positivos en un conjunto de valores de ***X*** finito o infinito numerable. A dicha función se le llama función de masa de probabilidad.\n",
        "\n",
        "Mas detalles en [distribución de probabilidad discreta de qwe.wiki](https://es.qwe.wiki/wiki/Probability_distribution#Discrete_probability_distribution)"
      ]
    },
    {
      "cell_type": "markdown",
      "metadata": {
        "id": "OM89xVSw6JVr",
        "colab_type": "text"
      },
      "source": [
        "![propiedades de distribucion de probabilidad discreta](https://imgur.com/b0UQpDG.png)\n",
        "\n",
        "1. **Rango**: El rango de la función debe cumplir y contener a todos los valores de x. La probabilidad de los eventos debe ser mayor a 0 y no debe superar el valor de 1.\n",
        "2. **Probabilidad**: El valor puntual de la probabilidad de la variable X será puntualmente la probabilidad de xi\n",
        "3. **Probabilidad acumulada**: Es la suma de todas las probabilidades de obtener un valor igual o menor a un xi. \n",
        "4. **Regla de completitud de Espacio**: Debemos contemplar todos los valores posibles que puede tomar nuestra variable aleatoria x. Luego la sumatoria de todas las probabilidades de todos los valores que toma x debe sumar siempre 1.\n",
        "5. **Valor esperado**: Es el promedio\n",
        "6. **Varianza**: Es una medida de dispersión al cuadrado que relacion el valor esperado y el valor real. "
      ]
    },
    {
      "cell_type": "markdown",
      "metadata": {
        "id": "ftqDzNa_Fdse",
        "colab_type": "text"
      },
      "source": [
        "La [distribución binomial](https://es.wikipedia.org/wiki/Distribuci%C3%B3n_binomial#Propiedades) es una distribución de probabilidad discreta que cuenta el número de éxitos en una secuencia de n ensayos de Bernoulli independientes entre sí, con una probabilidad fija p de ocurrencia del éxito entre los ensayos. \n",
        "\n",
        "La función binomial tiene esta formula:\n",
        "\n",
        "![funcion binomial](https://imgur.com/0zUPBD7.png)\n",
        "\n",
        "**¿Qué es una distribución binomial?**\n",
        "\n",
        "- Es una distribución de probabilidades de variables aleatorias discretas\n",
        "- Estas pueden tomar valores x={0,1,2,3… n}\n",
        "- Lo que se busca con esta distribución es contar el numero de éxitos de repetir n veces un experimento.\n",
        "\n",
        "**¿Cuándo se debe usar la distribución binomial?**\n",
        "\n",
        "- Cuando hay un experimento que se repite n veces (el n en este caso es 8)\n",
        "- Ese resultado solo puede tener dos resultados\n",
        "- Las probabilidades de estos sucesos son CONSTANTES (en este caso p=0.3)\n",
        "\n",
        "**Tenemos entonces definido**:\n",
        "\n",
        "- n como el número de casos totales, es decir se probara 8 veces\n",
        "- Tenemos p = 0.3 y (1-p) = 0.7 -> p=probabilidad de que el evento sea favorable o Éxito\n",
        "- k seria el for, es decir este numero i que va de 0 a 8\n",
        "\n",
        "**Como leer y entender el grafico**:\n",
        "\n",
        "El grafico se lee de la siguiente manera:\n",
        "\n",
        "- La probabilidad de que la variable aleatoria (VAD) tome el valor de 0 en 8 intentos es 0.05\n",
        "\n",
        "<div align=\"left\">\n",
        "    <img src=https://imgur.com/o8WBZ4g.png width=70%>\n",
        "</div>\n"
      ]
    },
    {
      "cell_type": "code",
      "metadata": {
        "id": "HZGyTwKdIrua",
        "colab_type": "code",
        "colab": {
          "base_uri": "https://localhost:8080/",
          "height": 282
        },
        "outputId": "99784ef4-7061-4176-bc3d-d70f2e78f8a4"
      },
      "source": [
        "from scipy.stats import binom\n",
        "\n",
        "p = 0.3 # Probabilidad de exito\n",
        "n = 8 # Numero de intentos\n",
        "\n",
        "x = list(range(0, 9, 1))\n",
        "y = list([])\n",
        "\n",
        "for i in x: \n",
        "  y.append(binom.pmf(i, p=p, n=n))\n",
        "\n",
        "fig, ax = plt.subplots()\n",
        "ax.bar(x, y)\n",
        "ax.set_ylabel('Probabilidad discreta')\n",
        "\n",
        "print('Sumatoria de todos los valores de la funcion de probabilidad discreta binomial: ', np.sum(y))"
      ],
      "execution_count": 2,
      "outputs": [
        {
          "output_type": "stream",
          "text": [
            "Sumatoria de todos los valores de la funcion de probabilidad discreta binomial:  1.0000000000000002\n"
          ],
          "name": "stdout"
        },
        {
          "output_type": "display_data",
          "data": {
            "image/png": "[encoded data removed]",
            "text/plain": [
              "<Figure size 432x288 with 1 Axes>"
            ]
          },
          "metadata": {
            "tags": [],
            "needs_background": "light"
          }
        }
      ]
    },
    {
      "cell_type": "markdown",
      "metadata": {
        "id": "iok-uv9YKFuR",
        "colab_type": "text"
      },
      "source": [
        "Calculamos la media y la varianza asociadas a la variable aleatoria X"
      ]
    },
    {
      "cell_type": "code",
      "metadata": {
        "id": "wYYIUCXsJWAV",
        "colab_type": "code",
        "colab": {
          "base_uri": "https://localhost:8080/",
          "height": 34
        },
        "outputId": "80ef54cf-a99c-47ce-9355-578940a82ca7"
      },
      "source": [
        "media = np.average(x, weights = y)\n",
        "media"
      ],
      "execution_count": 3,
      "outputs": [
        {
          "output_type": "execute_result",
          "data": {
            "text/plain": [
              "2.4"
            ]
          },
          "metadata": {
            "tags": []
          },
          "execution_count": 3
        }
      ]
    },
    {
      "cell_type": "markdown",
      "metadata": {
        "id": "UPhKSMZnNpgn",
        "colab_type": "text"
      },
      "source": [
        "<div align=\"center\">\n",
        "    <img src=https://imgur.com/oHCm7ru.png width=50%>\n",
        "</div>"
      ]
    },
    {
      "cell_type": "code",
      "metadata": {
        "id": "IWkTuyqlK0_4",
        "colab_type": "code",
        "colab": {
          "base_uri": "https://localhost:8080/",
          "height": 34
        },
        "outputId": "a857f04b-99e8-4fc1-e6aa-11cec4a97969"
      },
      "source": [
        "errores = (x - media)\n",
        "varianza = np.average(errores**2, weights=y)\n",
        "varianza"
      ],
      "execution_count": 4,
      "outputs": [
        {
          "output_type": "execute_result",
          "data": {
            "text/plain": [
              "1.68"
            ]
          },
          "metadata": {
            "tags": []
          },
          "execution_count": 4
        }
      ]
    },
    {
      "cell_type": "code",
      "metadata": {
        "id": "7R7ULYAoN8GL",
        "colab_type": "code",
        "colab": {
          "base_uri": "https://localhost:8080/",
          "height": 34
        },
        "outputId": "194f1892-be8e-4ddc-c70a-17c5ed9d9f72"
      },
      "source": [
        "media, varianza"
      ],
      "execution_count": 5,
      "outputs": [
        {
          "output_type": "execute_result",
          "data": {
            "text/plain": [
              "(2.4, 1.68)"
            ]
          },
          "metadata": {
            "tags": []
          },
          "execution_count": 5
        }
      ]
    },
    {
      "cell_type": "code",
      "metadata": {
        "id": "8Em70TJhN_G4",
        "colab_type": "code",
        "colab": {
          "base_uri": "https://localhost:8080/",
          "height": 282
        },
        "outputId": "b9345ffb-0e0d-4ae9-bb62-6563b1f3a4bd"
      },
      "source": [
        "\n",
        "p = 0.3 # Probabilidad de exito\n",
        "n = 8 # Numero de intentos\n",
        "\n",
        "x = list(range(0, n + 1, 1))\n",
        "y = list([])\n",
        "\n",
        "for i in x: \n",
        "  y.append(binom.pmf(i, p=p, n=n))\n",
        "\n",
        "fig, ax = plt.subplots()\n",
        "ax.bar(x, y)\n",
        "ax.set_ylabel('Probabilidad discreta')\n",
        "\n",
        "ax.axvline(x = media, c='r', linestyle='--', label='Valor esperado')\n",
        "ax.axvline(x = (media + 3*np.sqrt(varianza)), c='b', linestyle='--', label='Desviacion estandar +3')\n",
        "ax.axvline(x = (media - 3*np.sqrt(varianza)), c='g', linestyle='--', label='Desviacion estandar -3')\n",
        "\n",
        "ax.legend()"
      ],
      "execution_count": 46,
      "outputs": [
        {
          "output_type": "execute_result",
          "data": {
            "text/plain": [
              "<matplotlib.legend.Legend at 0x7f7cee8edf60>"
            ]
          },
          "metadata": {
            "tags": []
          },
          "execution_count": 46
        },
        {
          "output_type": "display_data",
          "data": {
            "image/png": "[encoded data removed]",
            "text/plain": [
              "<Figure size 432x288 with 1 Axes>"
            ]
          },
          "metadata": {
            "tags": [],
            "needs_background": "light"
          }
        }
      ]
    },
    {
      "cell_type": "markdown",
      "metadata": {
        "id": "LwbvYqD49LTL",
        "colab_type": "text"
      },
      "source": [
        "## Distribucion de probabilidad continua\n",
        "\n",
        "Se denomina [variable continua](https://es.wikipedia.org/wiki/Distribuci%C3%B3n_de_probabilidad#Distribuciones_de_variable_continua) a aquella que puede tomar cualquiera de los infinitos valores existentes dentro de un intervalo. En el caso de variable continua la distribución de probabilidad es la integral de la función de densidad.\n",
        "\n",
        "Mas detalles en [distribución de probabilidad continua de qwe.wiki](https://es.qwe.wiki/wiki/Probability_distribution#Continuous_probability_distribution)\n",
        "\n",
        "![link text](https://imgur.com/e8zWXjz.png)\n",
        "\n",
        "Igual que para los casos de distribucion de probabilidad discreta pero son integrales para una sumatoria de infinitos numero y no una sumatoria de numeros discretos."
      ]
    },
    {
      "cell_type": "code",
      "metadata": {
        "id": "n4oQ8OwFO2oA",
        "colab_type": "code",
        "colab": {
          "base_uri": "https://localhost:8080/",
          "height": 298
        },
        "outputId": "2539ac06-bc66-442e-d839-5701606dbb9f"
      },
      "source": [
        "p = 0.3 # Probabilidad de exito\n",
        "N = 100 # Numero de intentos\n",
        "\n",
        "x = list(range(0, N+1, 1))\n",
        "y = list([])\n",
        "\n",
        "for i in x: \n",
        "  y.append(binom.pmf(i, p=p, n=N))\n",
        "\n",
        "fig, ax = plt.subplots()\n",
        "ax.plot(x, y)\n",
        "ax.set_title('Probabilidad continua')\n"
      ],
      "execution_count": 51,
      "outputs": [
        {
          "output_type": "execute_result",
          "data": {
            "text/plain": [
              "Text(0.5, 1.0, 'Probabilidad continua')"
            ]
          },
          "metadata": {
            "tags": []
          },
          "execution_count": 51
        },
        {
          "output_type": "display_data",
          "data": {
            "image/png": "[encoded data removed]",
            "text/plain": [
              "<Figure size 432x288 with 1 Axes>"
            ]
          },
          "metadata": {
            "tags": [],
            "needs_background": "light"
          }
        }
      ]
    },
    {
      "cell_type": "code",
      "metadata": {
        "id": "XaZS5BDbDSgQ",
        "colab_type": "code",
        "colab": {
          "base_uri": "https://localhost:8080/",
          "height": 298
        },
        "outputId": "e74cdb30-0916-4be7-b0ba-6aae5b1214c7"
      },
      "source": [
        "p = 0.3 # Probabilidad de exito\n",
        "N = 100 # Numero de intentos\n",
        "\n",
        "x = list(range(0, N+1, 1))\n",
        "y = list([])\n",
        "\n",
        "for i in x: \n",
        "  y.append(binom.cdf(i, p=p, n=N))\n",
        "\n",
        "fig, ax = plt.subplots()\n",
        "ax.plot(x, y)\n",
        "ax.set_title('Distribucion de probabilidad continua acumulada')"
      ],
      "execution_count": 52,
      "outputs": [
        {
          "output_type": "execute_result",
          "data": {
            "text/plain": [
              "Text(0.5, 1.0, 'Distribucion de probabilidad continua acumulada')"
            ]
          },
          "metadata": {
            "tags": []
          },
          "execution_count": 52
        },
        {
          "output_type": "display_data",
          "data": {
            "image/png": "[encoded data removed]",
            "text/plain": [
              "<Figure size 432x288 with 1 Axes>"
            ]
          },
          "metadata": {
            "tags": [],
            "needs_background": "light"
          }
        }
      ]
    },
    {
      "cell_type": "markdown",
      "metadata": {
        "id": "cBnSDJuZKvMD",
        "colab_type": "text"
      },
      "source": [
        "Curtosis:\n",
        "\n",
        "Nos da indicios de como están distribuidos los datos.\n",
        "\n",
        "- Si los datos son mas uniformes y se acercan mas a la media entonces estamos en presencia de una distribución leptocúrtica (coeficiente de curtosis > 0)\n",
        "- Si los datos están muy dispersos y la curva no presenta una cima pronunciada, estamos en presencia de una distribución platicúrtica (coef. de curtosis < 0)\n",
        "- Si los datos presentan un comportamientos normal la curtosis es igual a 0 (mesocúrtica)\n",
        "\n",
        "![curtosis](https://imgur.com/GqlH6iN.png)\n",
        "\n",
        "Simetría\n",
        "La simetría hace referencia a que tan iguales son las dos partes de la distribución.\n",
        "\n",
        "- Si la distribución es simétrica sus Medidas de tendencia central (media, mediana y moda) serán iguales.\n",
        "\n",
        "![curtosis](https://imgur.com/jslVUes.png)\n"
      ]
    },
    {
      "cell_type": "code",
      "metadata": {
        "id": "AC_VFqiDRTNZ",
        "colab_type": "code",
        "colab": {
          "base_uri": "https://localhost:8080/",
          "height": 34
        },
        "outputId": "60cc1b14-3bc9-4e38-e8f4-c308a6bf5af4"
      },
      "source": [
        "mean, var, skew, kurt = binom.stats(N, p, moments='mvsk')\n",
        "mean, var, skew, kurt"
      ],
      "execution_count": 55,
      "outputs": [
        {
          "output_type": "execute_result",
          "data": {
            "text/plain": [
              "(array(30.), array(21.), array(0.08728716), array(-0.01238095))"
            ]
          },
          "metadata": {
            "tags": []
          },
          "execution_count": 55
        }
      ]
    },
    {
      "cell_type": "markdown",
      "metadata": {
        "id": "cpkqU43DMTcD",
        "colab_type": "text"
      },
      "source": [
        "Las **distribuciones de probabilidad continuas**, como la distribución normal, describen valores en un rango o escala y se muestran como figuras sólidas en la galería de distribuciones. Las distribuciones continuas son en realidad abstracciones matemáticas, ya que suponen la existencia de cada valor intermedio posible entre dos números. Es decir, una distribución continua asume que hay un número infinito de valores entre dos puntos de la distribución.\n",
        "\n",
        "Las **distribuciones de probabilidad discretas** describen valores distintos, normalmente números enteros, sin valores intermedios, y se muestran como una serie de columnas verticales.Una distribución discreta, por ejemplo, puede describir como 0, 1, 2, 3 o 4 el número de veces que aparece “cara” al tirar una moneda a cara o cruz.\n",
        "\n",
        "Link a la explicacion de los diferentes tipos de distribuciones\n",
        "\n",
        "https://www.google.com/url?sa=t&rct=j&q=&esrc=s&source=web&cd=&ved=2ahUKEwj07Ovzgf7qAhXMneAKHWiBAvkQFjANegQIDBAc&url=https%3A%2F%2Falejandrobanegas.jimdo.com%2Fapp%2Fdownload%2F10702368660%2FOracle%2B(2015)%2BDistribuciones%2Bde%2Bprobabilidad%2Bcontinuas%2By%2Bdiscretas.pdf%3Ft%3D1444423505&usg=AOvVaw12FZGw__hMhAhAZ-h9Ub0i"
      ]
    },
    {
      "cell_type": "code",
      "metadata": {
        "id": "eAkNa5K6LnIP",
        "colab_type": "code",
        "colab": {}
      },
      "source": [
        ""
      ],
      "execution_count": null,
      "outputs": []
    }
  ]
}