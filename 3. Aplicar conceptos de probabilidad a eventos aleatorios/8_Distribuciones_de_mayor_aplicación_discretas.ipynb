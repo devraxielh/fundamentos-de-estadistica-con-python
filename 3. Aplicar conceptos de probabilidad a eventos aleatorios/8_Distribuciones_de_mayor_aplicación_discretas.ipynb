{
  "nbformat": 4,
  "nbformat_minor": 0,
  "metadata": {
    "colab": {
      "name": "8.Distribuciones de mayor aplicación discretas.ipynb",
      "provenance": [],
      "authorship_tag": "ABX9TyMAwTo1YmHugjyXHOhrqFnu",
      "include_colab_link": true
    },
    "kernelspec": {
      "name": "python3",
      "display_name": "Python 3"
    }
  },
  "cells": [
    {
      "cell_type": "markdown",
      "metadata": {
        "id": "view-in-github",
        "colab_type": "text"
      },
      "source": [
        "<a href=\"https://colab.research.google.com/github/francomanca93/fundamentos-de-estadistica-con-python/blob/eventos-aleatorios/3.%20Aplicar%20conceptos%20de%20probabilidad%20a%20eventos%20aleatorios/8_Distribuciones_de_mayor_aplicaci%C3%B3n_discretas.ipynb\" target=\"_parent\"><img src=\"https://colab.research.google.com/assets/colab-badge.svg\" alt=\"Open In Colab\"/></a>"
      ]
    },
    {
      "cell_type": "markdown",
      "metadata": {
        "id": "01gM5Qw338JU",
        "colab_type": "text"
      },
      "source": [
        "# Distribuciones de mayor aplicación discretas"
      ]
    },
    {
      "cell_type": "code",
      "metadata": {
        "id": "KoN8OIyd6mkz",
        "colab_type": "code",
        "colab": {}
      },
      "source": [
        "import matplotlib.pyplot as plt\n",
        "%matplotlib inline"
      ],
      "execution_count": 1,
      "outputs": []
    },
    {
      "cell_type": "markdown",
      "metadata": {
        "id": "Ws7jndyl4KN5",
        "colab_type": "text"
      },
      "source": [
        "Vamos a listas las distribuciones que mas se utilizan en la probabilidad y estadistica. \n",
        "\n",
        "Estas variables son muy importantes porque nos permiten modelar una gran cantidad de eventos que vivimos en la vida cotidiana.\n",
        "\n",
        "![Distribuciones de mayor aplicación discretas](https://imgur.com/kT4rlxz.png)"
      ]
    },
    {
      "cell_type": "markdown",
      "metadata": {
        "id": "bNkxtuo84uy0",
        "colab_type": "text"
      },
      "source": [
        "## Distribución de Bernoulli"
      ]
    },
    {
      "cell_type": "markdown",
      "metadata": {
        "id": "UiFWK92Z5dAT",
        "colab_type": "text"
      },
      "source": [
        "\n",
        "- Experimento: Lanzamiento de UNA moneda, Número de caras obtenidas, es una variable aleatoria (un valor numérico que está afectado por el azar.)\n",
        "- Fenómeno o experimento que puede resultar en uno solo de dos posibles resultados, llamados genéricamente ACIERTO (A) o FRACASO (F).\n",
        "- La probabilidad de acierto p es conocida y por ende la de fracaso que será (1 − p) = q.\n",
        "\n",
        "![bernoulli](https://imgur.com/xryhFxi.png)\n",
        "\n",
        "[Distribucion de Bernoulli en wikipedia](https://es.wikipedia.org/wiki/Distribuci%C3%B3n_de_Bernoulli)\n",
        "\n",
        "[Distribucion de Bernoulli en scipy.stats - Documentacion](https://docs.scipy.org/doc/scipy/reference/generated/scipy.stats.bernoulli.html#scipy.stats.bernoulli)\n"
      ]
    },
    {
      "cell_type": "code",
      "metadata": {
        "id": "N5dInNGW6cO9",
        "colab_type": "code",
        "colab": {
          "base_uri": "https://localhost:8080/",
          "height": 34
        },
        "outputId": "8f1a88b8-6a82-4090-d053-097991c4dfa9"
      },
      "source": [
        "from scipy.stats import bernoulli\n",
        "\n",
        "p = 0.3\n",
        "data = bernoulli.rvs(p, size = 100) # Generamos el experimento de forma aleatoria con .rvs()\n",
        "\n",
        "# Cantidad de valores de la muestra. Media, varianza, simetria, curtosis\n",
        "mean, var, skew, kurt = bernoulli.stats(p, moments='mvsk')\n",
        "len(data), mean, var, skew, kurt"
      ],
      "execution_count": 2,
      "outputs": [
        {
          "output_type": "execute_result",
          "data": {
            "text/plain": [
              "(100, array(0.3), array(0.21), array(0.87287156), array(-1.23809524))"
            ]
          },
          "metadata": {
            "tags": []
          },
          "execution_count": 2
        }
      ]
    },
    {
      "cell_type": "code",
      "metadata": {
        "id": "yUqWW_kV71Qt",
        "colab_type": "code",
        "colab": {
          "base_uri": "https://localhost:8080/",
          "height": 299
        },
        "outputId": "d7917f3b-8554-40cd-8701-82fbca3ee797"
      },
      "source": [
        "import seaborn as sns\n",
        "\n",
        "ax = sns.distplot(data, bins=10, kde=False, color='blue')\n",
        "ax.set(xlabel='Distribucion de Bernoulli', ylabel='Frecuencia')\n",
        "ax.axvline(x=mean, linestyle='--', label='Media')\n",
        "ax.legend()"
      ],
      "execution_count": 4,
      "outputs": [
        {
          "output_type": "execute_result",
          "data": {
            "text/plain": [
              "<matplotlib.legend.Legend at 0x7f99adeda0b8>"
            ]
          },
          "metadata": {
            "tags": []
          },
          "execution_count": 4
        },
        {
          "output_type": "display_data",
          "data": {
            "image/png": "[encoded data removed]",
            "text/plain": [
              "<Figure size 432x288 with 1 Axes>"
            ]
          },
          "metadata": {
            "tags": [],
            "needs_background": "light"
          }
        }
      ]
    },
    {
      "cell_type": "markdown",
      "metadata": {
        "id": "eBmDumwY8J4o",
        "colab_type": "text"
      },
      "source": [
        "Vemos que cerca del 70% de los datos es 0 y el 30% es 1, como se esperaba."
      ]
    },
    {
      "cell_type": "markdown",
      "metadata": {
        "id": "Z_AkKXL640NT",
        "colab_type": "text"
      },
      "source": [
        "## Distribución de Binomial"
      ]
    },
    {
      "cell_type": "markdown",
      "metadata": {
        "id": "mAV5NzCb9b1f",
        "colab_type": "text"
      },
      "source": [
        "\n",
        "- Experimento: Lanzamiento de MUCHAS monedas, una tras otra.\n",
        "- Cuando lanzamos una moneda justa 10 veces, cual es el más probable número de caras?\n",
        "- Lo más probable es que los lanzamientos se distribuyan de igual manera entre caras y sellos, es decir 5 caras y 5 sellos.\n",
        "\n",
        "\n",
        "![binomial](https://imgur.com/eS8IaRg.png)\n",
        "\n",
        "[Distribucion de Binomial en wikipedia](https://es.wikipedia.org/wiki/Distribuci%C3%B3n_binomial)\n",
        "\n",
        "[Distribucion de Binomial en scipy.stats - Documentacion](https://docs.scipy.org/doc/scipy/reference/generated/scipy.stats.binom.html#scipy.stats.binom)"
      ]
    },
    {
      "cell_type": "code",
      "metadata": {
        "id": "F1xU6xn9-Ldo",
        "colab_type": "code",
        "colab": {
          "base_uri": "https://localhost:8080/",
          "height": 34
        },
        "outputId": "e2f9bbcb-3882-43e8-f90f-5ffe6bf250c8"
      },
      "source": [
        "from scipy.stats import binom\n",
        "\n",
        "p = 0.3\n",
        "n = 10\n",
        "data = binom.rvs(p = p, n = n, size = 100) # Generamos el experimento de forma aleatoria con .rvs()\n",
        "\n",
        "# Cantidad de valores de la muestra. Media, varianza, simetria, curtosis\n",
        "mean, var, skew, kurt = binom.stats(p = p, n = n, moments='mvsk')\n",
        "len(data), mean, var, skew, kurt"
      ],
      "execution_count": 18,
      "outputs": [
        {
          "output_type": "execute_result",
          "data": {
            "text/plain": [
              "(100, array(3.), array(2.1), array(0.27602622), array(-0.12380952))"
            ]
          },
          "metadata": {
            "tags": []
          },
          "execution_count": 18
        }
      ]
    },
    {
      "cell_type": "code",
      "metadata": {
        "id": "ayVTbkZm-fVt",
        "colab_type": "code",
        "colab": {
          "base_uri": "https://localhost:8080/",
          "height": 297
        },
        "outputId": "fa291e07-e300-4d68-b5ab-6e90f28e151f"
      },
      "source": [
        "import seaborn as sns\n",
        "\n",
        "ax = sns.distplot(data, bins=30, kde=False, color='blue')\n",
        "ax.set(xlabel='Distribucion de Binomial', ylabel='Frecuencia')\n",
        "ax.axvline(x=mean, linestyle='--', label='Media')\n",
        "ax.legend()"
      ],
      "execution_count": 19,
      "outputs": [
        {
          "output_type": "execute_result",
          "data": {
            "text/plain": [
              "<matplotlib.legend.Legend at 0x7f99adef6d30>"
            ]
          },
          "metadata": {
            "tags": []
          },
          "execution_count": 19
        },
        {
          "output_type": "display_data",
          "data": {
            "image/png": "[encoded data removed]",
            "text/plain": [
              "<Figure size 432x288 with 1 Axes>"
            ]
          },
          "metadata": {
            "tags": [],
            "needs_background": "light"
          }
        }
      ]
    },
    {
      "cell_type": "markdown",
      "metadata": {
        "id": "hjRNO3RE43w_",
        "colab_type": "text"
      },
      "source": [
        "## Distribución de Binomial Negativa"
      ]
    },
    {
      "cell_type": "markdown",
      "metadata": {
        "id": "sQgbKk2c_Pw2",
        "colab_type": "text"
      },
      "source": [
        "\n",
        "Se realizan repeticiones independientes de un proceso Bernoulli, hasta obtener “k” aciertos. Interesa determinar la probabilidad de que se requieran “x” repeticiones para obtener los k aciertos;\n",
        "\n",
        "Ejemplo: Para un experimento médico se requieren cinco mujeres que hayan tenido seis o más partos. La proporción de mujeres adultas con esa característica es 0.05. Suponga que se toma una muestra de mujeres adultas y sea N el número de mujeres adultas que es necesario entrevistar para encontrar las cinco buscadas.\n",
        "  \n",
        "¿Cuál es la probabilidad de que en diez o menos intentos se encuentren las cinco mujeres?\n",
        "¿Cuántas mujeres debo entrevistar para tener una probabilidad del 90% las 5 mujeres con más de seis partos?\n"
      ]
    },
    {
      "cell_type": "markdown",
      "metadata": {
        "id": "W8RtXeK9BWtt",
        "colab_type": "text"
      },
      "source": [
        "### Distribucion geometrica\n",
        "\n",
        "Esta es un caso especial de la distribucion binomial negativa. Se demuestra en los siguientes chunk de codigos.\n",
        "\n",
        "![geometrica](https://imgur.com/f1Y1oZ5.png)\n",
        "\n",
        "Para k >= 1\n",
        "\n",
        "[Distribucion de Geometrica en wikipedia](https://es.qwe.wiki/wiki/Geometric_distribution)\n",
        "\n",
        "[Distribucion de Geometrica en scipy.stats - Documentacion](https://docs.scipy.org/doc/scipy/reference/generated/scipy.stats.geom.html#scipy.stats.geom)"
      ]
    },
    {
      "cell_type": "code",
      "metadata": {
        "id": "KYyV30Co_PMk",
        "colab_type": "code",
        "colab": {
          "base_uri": "https://localhost:8080/",
          "height": 104
        },
        "outputId": "ca875b6d-6e03-4011-e174-47bdf575f8a2"
      },
      "source": [
        "from scipy.stats import nbinom\n",
        "\n",
        "p = 0.3\n",
        "n = 1\n",
        "data = nbinom.rvs(p = p, n = n, size = 100) # Generamos el experimento de forma aleatoria con .rvs()\n",
        "\n",
        "# Cantidad de valores de la muestra. Media, varianza, simetria, curtosis\n",
        "mean, var, skew, kurt = nbinom.stats(p = p, n = n, moments='mvsk')\n",
        "len(data), mean, var, skew, kurt"
      ],
      "execution_count": 20,
      "outputs": [
        {
          "output_type": "execute_result",
          "data": {
            "text/plain": [
              "(100,\n",
              " array(2.33333333),\n",
              " array(7.77777778),\n",
              " array(2.03188864),\n",
              " array(6.12857143))"
            ]
          },
          "metadata": {
            "tags": []
          },
          "execution_count": 20
        }
      ]
    },
    {
      "cell_type": "code",
      "metadata": {
        "id": "abuUm4Y7AxJ6",
        "colab_type": "code",
        "colab": {
          "base_uri": "https://localhost:8080/",
          "height": 296
        },
        "outputId": "3f4be69b-4546-4a51-bcd9-eb058d76deb3"
      },
      "source": [
        "import seaborn as sns\n",
        "\n",
        "ax = sns.distplot(data, bins=30, kde=False, color='blue')\n",
        "ax.set(xlabel='Distribucion Geometrica', ylabel='Frecuencia')\n",
        "ax.axvline(x=mean, linestyle='--', label='Media')\n",
        "ax.legend()"
      ],
      "execution_count": 21,
      "outputs": [
        {
          "output_type": "execute_result",
          "data": {
            "text/plain": [
              "<matplotlib.legend.Legend at 0x7f99aaaaf390>"
            ]
          },
          "metadata": {
            "tags": []
          },
          "execution_count": 21
        },
        {
          "output_type": "display_data",
          "data": {
            "image/png": "[encoded data removed]",
            "text/plain": [
              "<Figure size 432x288 with 1 Axes>"
            ]
          },
          "metadata": {
            "tags": [],
            "needs_background": "light"
          }
        }
      ]
    },
    {
      "cell_type": "code",
      "metadata": {
        "id": "yxp7MGd7A8n_",
        "colab_type": "code",
        "colab": {
          "base_uri": "https://localhost:8080/",
          "height": 104
        },
        "outputId": "1a4440c6-6a38-49ee-89c0-2641e599d7cf"
      },
      "source": [
        "from scipy.stats import geom\n",
        "\n",
        "p = 0.3\n",
        "#n = 1\n",
        "data = geom.rvs(p = p, size = 100) # Generamos el experimento de forma aleatoria con .rvs()\n",
        "\n",
        "# Cantidad de valores de la muestra. Media, varianza, simetria, curtosis\n",
        "mean, var, skew, kurt = geom.stats(p = p, moments='mvsk')\n",
        "len(data), mean, var, skew, kurt"
      ],
      "execution_count": 24,
      "outputs": [
        {
          "output_type": "execute_result",
          "data": {
            "text/plain": [
              "(100,\n",
              " array(3.33333333),\n",
              " array(7.77777778),\n",
              " array(2.03188864),\n",
              " array(6.12857143))"
            ]
          },
          "metadata": {
            "tags": []
          },
          "execution_count": 24
        }
      ]
    },
    {
      "cell_type": "code",
      "metadata": {
        "id": "x8CrYWtFBRga",
        "colab_type": "code",
        "colab": {
          "base_uri": "https://localhost:8080/",
          "height": 296
        },
        "outputId": "b30bb998-4423-48c9-a311-b22ac7b656f2"
      },
      "source": [
        "import seaborn as sns\n",
        "\n",
        "ax = sns.distplot(data, bins=30, kde=False, color='blue')\n",
        "ax.set(xlabel='Distribucion Geometrica', ylabel='Frecuencia')\n",
        "ax.axvline(x=mean, linestyle='--', label='Media')\n",
        "ax.legend()"
      ],
      "execution_count": 25,
      "outputs": [
        {
          "output_type": "execute_result",
          "data": {
            "text/plain": [
              "<matplotlib.legend.Legend at 0x7f99aaa1e358>"
            ]
          },
          "metadata": {
            "tags": []
          },
          "execution_count": 25
        },
        {
          "output_type": "display_data",
          "data": {
            "image/png": "[encoded data removed]",
            "text/plain": [
              "<Figure size 432x288 with 1 Axes>"
            ]
          },
          "metadata": {
            "tags": [],
            "needs_background": "light"
          }
        }
      ]
    },
    {
      "cell_type": "markdown",
      "metadata": {
        "id": "57GuTQrUCYZi",
        "colab_type": "text"
      },
      "source": [
        "## Distribucion binomial negativa\n",
        "\n",
        "![binomial_negativa](https://imgur.com/d28PuY8.png)\n",
        "\n",
        "Para k >= 0\n",
        "\n",
        "[Distribucion de binomial negativa en wikipedia](https://es.qwe.wiki/wiki/Negative_binomial_distribution)\n",
        "\n",
        "[Distribucion de binomial negativa en scipy.stats - Documentacion](https://docs.scipy.org/doc/scipy/reference/generated/scipy.stats.nbinom.html#scipy.stats.nbinom)"
      ]
    },
    {
      "cell_type": "code",
      "metadata": {
        "id": "IP2ULhSpDmGL",
        "colab_type": "code",
        "colab": {
          "base_uri": "https://localhost:8080/",
          "height": 104
        },
        "outputId": "8cb02f80-b340-462e-9de3-8cc9ce0fcd0a"
      },
      "source": [
        "from scipy.stats import nbinom\n",
        "\n",
        "p = 0.3\n",
        "n = 10\n",
        "data = nbinom.rvs(p = p, n = n, size = 100) # Generamos el experimento de forma aleatoria con .rvs()\n",
        "\n",
        "# Cantidad de valores de la muestra. Media, varianza, simetria, curtosis\n",
        "mean, var, skew, kurt = nbinom.stats(p = p, n = n, moments='mvsk')\n",
        "len(data), mean, var, skew, kurt"
      ],
      "execution_count": 26,
      "outputs": [
        {
          "output_type": "execute_result",
          "data": {
            "text/plain": [
              "(100,\n",
              " array(23.33333333),\n",
              " array(77.77777778),\n",
              " array(0.6425396),\n",
              " array(0.61285714))"
            ]
          },
          "metadata": {
            "tags": []
          },
          "execution_count": 26
        }
      ]
    },
    {
      "cell_type": "code",
      "metadata": {
        "id": "5NQfs2KoDzc3",
        "colab_type": "code",
        "colab": {
          "base_uri": "https://localhost:8080/",
          "height": 296
        },
        "outputId": "dfb87aca-19bc-403b-9569-454c4fada708"
      },
      "source": [
        "import seaborn as sns\n",
        "\n",
        "ax = sns.distplot(data, bins=30, kde=False, color='blue')\n",
        "ax.set(xlabel='Distribucion Geometrica', ylabel='Frecuencia')\n",
        "ax.axvline(x=mean, linestyle='--', label='Media')\n",
        "ax.legend()"
      ],
      "execution_count": 27,
      "outputs": [
        {
          "output_type": "execute_result",
          "data": {
            "text/plain": [
              "<matplotlib.legend.Legend at 0x7f99aa954160>"
            ]
          },
          "metadata": {
            "tags": []
          },
          "execution_count": 27
        },
        {
          "output_type": "display_data",
          "data": {
            "image/png": "[encoded data removed]",
            "text/plain": [
              "<Figure size 432x288 with 1 Axes>"
            ]
          },
          "metadata": {
            "tags": [],
            "needs_background": "light"
          }
        }
      ]
    },
    {
      "cell_type": "markdown",
      "metadata": {
        "id": "EsE4ypNS46py",
        "colab_type": "text"
      },
      "source": [
        "## Distribución de Poisson"
      ]
    },
    {
      "cell_type": "markdown",
      "metadata": {
        "id": "KvnV00DHEQNX",
        "colab_type": "text"
      },
      "source": [
        "- Una binomial se aproxima a una Poisson cuando la probabilidad de éxito es baja.\n",
        "- Se asocia con fenómenos o sucesos deﬁnidos en determinados intervalos de tiempo y/o regiones de espacio.\n",
        "- La probabilidad de que el fenómeno suceda por lo menos una vez, es directamente proporcional al tamaño del intervalo de tiempo y/o región espacial.\n",
        "- La probabilidad de que el fenómeno ocurra más de una vez, en intervalo y/o regiones relativamente pequeños es tan pequeña que se puede despreciar.\n",
        "\n",
        "![poisson](https://imgur.com/PHmdM8o.png)\n",
        "\n",
        "Para k >= 0\n",
        "\n",
        "[Distribucion de Poisson en wikipedia](https://es.qwe.wiki/wiki/Poisson_distribution)\n",
        "\n",
        "[Distribucion de Poisson negativa en scipy.stats - Documentacion](https://docs.scipy.org/doc/scipy/reference/generated/scipy.stats.poisson.html#scipy.stats.poisson)"
      ]
    },
    {
      "cell_type": "code",
      "metadata": {
        "id": "XBDjiZZt31VH",
        "colab_type": "code",
        "colab": {
          "base_uri": "https://localhost:8080/",
          "height": 34
        },
        "outputId": "eb76b3c6-b61b-4f3f-fead-9687bb9ee432"
      },
      "source": [
        "from scipy.stats import poisson\n",
        "\n",
        "lambda_p = 100\n",
        "data = poisson.rvs(mu=lambda_p , size = 100) # Generamos el experimento de forma aleatoria con .rvs()\n",
        "\n",
        "# Cantidad de valores de la muestra. Media, varianza, simetria, curtosis\n",
        "mean, var, skew, kurt = poisson.stats(mu=lambda_p, moments='mvsk')\n",
        "len(data), mean, var, skew, kurt"
      ],
      "execution_count": 30,
      "outputs": [
        {
          "output_type": "execute_result",
          "data": {
            "text/plain": [
              "(100, array(100.), array(100.), array(0.1), array(0.01))"
            ]
          },
          "metadata": {
            "tags": []
          },
          "execution_count": 30
        }
      ]
    },
    {
      "cell_type": "code",
      "metadata": {
        "id": "aLLvUCHbGUxW",
        "colab_type": "code",
        "colab": {
          "base_uri": "https://localhost:8080/",
          "height": 296
        },
        "outputId": "d90c0e16-07a2-4d21-b2ac-4b62d452b100"
      },
      "source": [
        "import seaborn as sns\n",
        "\n",
        "ax = sns.distplot(data, bins=30, kde=False, color='blue')\n",
        "ax.set(xlabel='Distribucion de Poisson', ylabel='Frecuencia')\n",
        "ax.axvline(x=mean, linestyle='--', label='Media')\n",
        "ax.legend()"
      ],
      "execution_count": 31,
      "outputs": [
        {
          "output_type": "execute_result",
          "data": {
            "text/plain": [
              "<matplotlib.legend.Legend at 0x7f99aa7b3a58>"
            ]
          },
          "metadata": {
            "tags": []
          },
          "execution_count": 31
        },
        {
          "output_type": "display_data",
          "data": {
            "image/png": "[encoded data removed]",
            "text/plain": [
              "<Figure size 432x288 with 1 Axes>"
            ]
          },
          "metadata": {
            "tags": [],
            "needs_background": "light"
          }
        }
      ]
    },
    {
      "cell_type": "markdown",
      "metadata": {
        "id": "GbcgsNIcAEbY",
        "colab_type": "text"
      },
      "source": [
        "En general cuando tienes un dataset y te enfocas en alguna variable numérica además de ver si hay outliers con boxplots y demá. Puede ser interesante analizar la distribución de esa variable y querer generar un modelo para ver que tan probable es que dicha variable tome cierto valor, es decir, P(x=a) luego piensas ¿será que esa variable se distribuye de acuerdo a una dsitribución normal, uniforme, binomial, …etc?. y ahí comienza el análisis."
      ]
    }
  ]
}