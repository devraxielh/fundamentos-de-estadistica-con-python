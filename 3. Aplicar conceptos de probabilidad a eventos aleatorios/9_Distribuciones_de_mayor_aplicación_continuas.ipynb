{
  "nbformat": 4,
  "nbformat_minor": 0,
  "metadata": {
    "colab": {
      "name": "9.Distribuciones de mayor aplicación continuas.ipynb",
      "provenance": [],
      "authorship_tag": "ABX9TyNO4eCzouxXVncgRSH46zQj",
      "include_colab_link": true
    },
    "kernelspec": {
      "name": "python3",
      "display_name": "Python 3"
    }
  },
  "cells": [
    {
      "cell_type": "markdown",
      "metadata": {
        "id": "view-in-github",
        "colab_type": "text"
      },
      "source": [
        "<a href=\"https://colab.research.google.com/github/francomanca93/fundamentos-de-estadistica-con-python/blob/eventos-aleatorios/9_Distribuciones_de_mayor_aplicaci%C3%B3n_continuas.ipynb\" target=\"_parent\"><img src=\"https://colab.research.google.com/assets/colab-badge.svg\" alt=\"Open In Colab\"/></a>"
      ]
    },
    {
      "cell_type": "markdown",
      "metadata": {
        "id": "01gM5Qw338JU",
        "colab_type": "text"
      },
      "source": [
        "# Distribuciones de mayor aplicación continuas"
      ]
    },
    {
      "cell_type": "code",
      "metadata": {
        "id": "KoN8OIyd6mkz",
        "colab_type": "code",
        "colab": {}
      },
      "source": [
        "import matplotlib.pyplot as plt\n",
        "%matplotlib inline"
      ],
      "execution_count": 2,
      "outputs": []
    },
    {
      "cell_type": "markdown",
      "metadata": {
        "id": "Ws7jndyl4KN5",
        "colab_type": "text"
      },
      "source": [
        "Vamos a listas las distribuciones que mas se utilizan en la probabilidad y estadistica. \n",
        "\n",
        "Estas variables son muy importantes porque nos permiten modelar una gran cantidad de eventos que vivimos en la vida cotidiana.\n",
        "\n",
        "Las distribuciones de mayor aplicación continua son:\n",
        "- **Distribucion exponencial**: Es el caso inverso de la distribucion de Poisson. En Poisson contabamos numero de eventos en unidad de tiempo. En esta distribucion contamos el tiempo que no tardamos en llegar a uno de esos eventos\n",
        "- **Distribución normal**: Tambien llamada de campana. Se caracteriza por estar centrada en una media de 0 y tener el 99% de los valores en +-3 desviaciones estandar.\n",
        "- **Distribucion uniforme**: Asume que cada evento esta distribuido con una misma probabilidad."
      ]
    },
    {
      "cell_type": "markdown",
      "metadata": {
        "id": "bNkxtuo84uy0",
        "colab_type": "text"
      },
      "source": [
        "## Distribución de Exponencial"
      ]
    },
    {
      "cell_type": "markdown",
      "metadata": {
        "id": "UiFWK92Z5dAT",
        "colab_type": "text"
      },
      "source": [
        "Distribución exponencial: utilizada generalmente para análisis de fiabilidad, p.e: probabilidad de que un componente falle transcurrido una cierta cantidad de tiempo. Una caracteristica importante es que no tiene memoria ('perdida de memoria'), cada evento futuro es independiente de los pasados.\n",
        "\n",
        "Esta la distribución de probabilidad describe el tiempo entre eventos en un proceso de puntos de Poisson. Los puntos de Poisson consisten en puntos situados aleatoriamente en un espacio matemático. Es decir, una distribucion exponencial es un proceso en el que los eventos ocurren de manera continua e independiente a una tasa promedio constante.\n",
        "\n",
        "![exponencial](https://imgur.com/9xgfOk5.png)\n",
        "\n",
        "para x >= 0\n",
        "\n",
        "[Distribucion de Exponencial en qwe wiki](https://es.qwe.wiki/wiki/Exponential_distribution)\n",
        "\n",
        "[Distribucion de Exponencial en scipy.stats - Documentacion](https://docs.scipy.org/doc/scipy/reference/generated/scipy.stats.expon.html#scipy.stats.expon)\n"
      ]
    },
    {
      "cell_type": "markdown",
      "metadata": {
        "id": "Y25t64x0VVmq",
        "colab_type": "text"
      },
      "source": [
        "En el este caso la funcion de probabilidad exponencial que scipy maneja se encuentra estandarizada, por ello en la exponencial no se agrega el parametro lambda, sino que lo toma como 1."
      ]
    },
    {
      "cell_type": "code",
      "metadata": {
        "id": "N5dInNGW6cO9",
        "colab_type": "code",
        "colab": {
          "base_uri": "https://localhost:8080/",
          "height": 34
        },
        "outputId": "432d6ef4-9cea-43cf-d563-d40880d54036"
      },
      "source": [
        "from scipy.stats import expon\n",
        "\n",
        "data = expon.rvs(size = 100000000) # Generamos el experimento de forma aleatoria con .rvs()\n",
        "\n",
        "# Cantidad de valores de la muestra. Media, varianza, simetria, curtosis\n",
        "mean, var, skew, kurt = expon.stats(moments='mvsk')\n",
        "len(data), mean, var, skew, kurt"
      ],
      "execution_count": 3,
      "outputs": [
        {
          "output_type": "execute_result",
          "data": {
            "text/plain": [
              "(100000000, array(1.), array(1.), array(2.), array(6.))"
            ]
          },
          "metadata": {
            "tags": []
          },
          "execution_count": 3
        }
      ]
    },
    {
      "cell_type": "code",
      "metadata": {
        "id": "yUqWW_kV71Qt",
        "colab_type": "code",
        "colab": {
          "base_uri": "https://localhost:8080/",
          "height": 312
        },
        "outputId": "7ebfff87-a75c-40fa-b8a9-ae1f5a418555"
      },
      "source": [
        "import seaborn as sns\n",
        "\n",
        "ax = sns.distplot(data, bins=500, kde=False, color='blue')\n",
        "ax.set(xlabel='Tiempo', ylabel='Frecuencia')\n",
        "ax.set_title(label='Distribucion exponencial')\n",
        "ax.axvline(x=mean, linestyle='--', label='Media')\n",
        "ax.legend()"
      ],
      "execution_count": 6,
      "outputs": [
        {
          "output_type": "execute_result",
          "data": {
            "text/plain": [
              "<matplotlib.legend.Legend at 0x7fadd282c198>"
            ]
          },
          "metadata": {
            "tags": []
          },
          "execution_count": 6
        },
        {
          "output_type": "display_data",
          "data": {
            "image/png": "[encoded data removed]",
            "text/plain": [
              "<Figure size 432x288 with 1 Axes>"
            ]
          },
          "metadata": {
            "tags": [],
            "needs_background": "light"
          }
        }
      ]
    },
    {
      "cell_type": "markdown",
      "metadata": {
        "colab_type": "text",
        "id": "or8lW1UCRMH3"
      },
      "source": [
        "## Distribución Normal"
      ]
    },
    {
      "cell_type": "markdown",
      "metadata": {
        "colab_type": "text",
        "id": "j9Tt47k1RMH_"
      },
      "source": [
        "Distribución normal: dadas sus características, se utiliza para inferencia estadística, es decir, estimar/evaluar parámetros de toda una población, basados en una muestra. Aquí es donde se utilizan los famosos intervalos de confianza. Investigar sobre las “pruebas de hipótesis”.\n",
        "\n",
        "La importancia de esta distribución radica en que permite modelar numerosos fenómenos naturales, sociales y psicológicos. Mientras que los mecanismos que subyacen a gran parte de este tipo de fenómenos son desconocidos, por la enorme cantidad de variables incontrolables que en ellos intervienen, el uso del modelo normal puede justificarse asumiendo que cada observación se obtiene como la suma de unas pocas causas independientes. \n",
        "\n",
        "![normal](https://imgur.com/F1HS5qX.png)\n",
        "\n",
        "para cualquier numero real de x.\n",
        "\n",
        "[Distribucion de Normal en qwe wiki](https://es.qwe.wiki/wiki/Normal_distribution)\n",
        "\n",
        "[Distribucion de Normal en scipy.stats - Documentacion](https://docs.scipy.org/doc/scipy/reference/generated/scipy.stats.norm.html#scipy.stats.norm)\n"
      ]
    },
    {
      "cell_type": "markdown",
      "metadata": {
        "id": "o6STuKsNVlVK",
        "colab_type": "text"
      },
      "source": [
        "En el caso de la distribucion normal que scipy maneja se encuentra estandarizada, por ello en el parametro por defecto es 1."
      ]
    },
    {
      "cell_type": "code",
      "metadata": {
        "colab_type": "code",
        "id": "Ok9QCae4RMIB",
        "colab": {
          "base_uri": "https://localhost:8080/",
          "height": 34
        },
        "outputId": "d600f91c-85f3-4994-ac85-98140244c9ae"
      },
      "source": [
        "from scipy.stats import norm\n",
        "# Valores por defecto son:\n",
        "# mean = 0\n",
        "# ver = 1\n",
        "data = norm.rvs(size = 100000000) # Generamos el experimento de forma aleatoria con .rvs()\n",
        "\n",
        "# Cantidad de valores de la muestra. Media, varianza, simetria, curtosis\n",
        "mean, var, skew, kurt = norm.stats(moments='mvsk')\n",
        "len(data), mean, var, skew, kurt"
      ],
      "execution_count": 8,
      "outputs": [
        {
          "output_type": "execute_result",
          "data": {
            "text/plain": [
              "(100000000, array(0.), array(1.), array(0.), array(0.))"
            ]
          },
          "metadata": {
            "tags": []
          },
          "execution_count": 8
        }
      ]
    },
    {
      "cell_type": "code",
      "metadata": {
        "colab_type": "code",
        "id": "aicgyNaGRMIN",
        "colab": {
          "base_uri": "https://localhost:8080/",
          "height": 312
        },
        "outputId": "6c12e782-5459-446d-d269-045767bcbf8c"
      },
      "source": [
        "import seaborn as sns\n",
        "\n",
        "ax = sns.distplot(data, bins=500, kde=False, color='blue')\n",
        "ax.set(xlabel='Distribucion normal estandar', ylabel='Frecuencia')\n",
        "ax.set_title(label='Distribucion normal')\n",
        "ax.axvline(x=mean, linestyle='--', label='Media')\n",
        "ax.legend()"
      ],
      "execution_count": 10,
      "outputs": [
        {
          "output_type": "execute_result",
          "data": {
            "text/plain": [
              "<matplotlib.legend.Legend at 0x7fadd2292c50>"
            ]
          },
          "metadata": {
            "tags": []
          },
          "execution_count": 10
        },
        {
          "output_type": "display_data",
          "data": {
            "image/png": "[encoded data removed]",
            "text/plain": [
              "<Figure size 432x288 with 1 Axes>"
            ]
          },
          "metadata": {
            "tags": [],
            "needs_background": "light"
          }
        }
      ]
    },
    {
      "cell_type": "markdown",
      "metadata": {
        "colab_type": "text",
        "id": "cdpitt1nTyLE"
      },
      "source": [
        "## Distribución uniforme"
      ]
    },
    {
      "cell_type": "markdown",
      "metadata": {
        "colab_type": "text",
        "id": "vFdOBqi1TyLI"
      },
      "source": [
        "Distribución uniforme: se utiliza generalmente en el ámbito de simulación, por ejemplo “creación” de escenarios aleatorios, números aleatorios, etc.\n",
        "\n",
        "La distribución uniforme continua o distribución rectangular es una familia de distribuciones de probabilidad simétricas de modo que para cada miembro de la familia, todos los intervalos de la misma longitud en el apoyo de la distribución son igualmente probables.\n",
        "\n",
        "![uniforme](https://wikimedia.org/api/rest_v1/media/math/render/svg/b701524dbfea89ed90316dbc48c5b62954d7411c)\n",
        "\n",
        "\n",
        "[Distribucion de Uniforme en qwe wiki](https://es.qwe.wiki/wiki/Uniform_distribution_(continuous))\n",
        "\n",
        "[Distribucion de Normal en scipy.stats - Documentacion](https://docs.scipy.org/doc/scipy/reference/generated/scipy.stats.uniform.html#scipy.stats.uniform)\n"
      ]
    },
    {
      "cell_type": "code",
      "metadata": {
        "colab_type": "code",
        "id": "Uh4g_08HTyLM",
        "colab": {
          "base_uri": "https://localhost:8080/",
          "height": 34
        },
        "outputId": "b60a5d7f-3399-4189-cb13-16ac8b3182bb"
      },
      "source": [
        "from scipy.stats import uniform\n",
        "\n",
        "data = uniform.rvs(size = 100000000) # Generamos el experimento de forma aleatoria con .rvs()\n",
        "\n",
        "# Cantidad de valores de la muestra. Media, varianza, simetria, curtosis\n",
        "mean, var, skew, kurt = uniform.stats(moments='mvsk')\n",
        "len(data), mean, var, skew, kurt"
      ],
      "execution_count": 12,
      "outputs": [
        {
          "output_type": "execute_result",
          "data": {
            "text/plain": [
              "(100000000, array(0.5), array(0.08333333), array(0.), array(-1.2))"
            ]
          },
          "metadata": {
            "tags": []
          },
          "execution_count": 12
        }
      ]
    },
    {
      "cell_type": "code",
      "metadata": {
        "colab_type": "code",
        "id": "x35AIs3HTyLZ",
        "colab": {
          "base_uri": "https://localhost:8080/",
          "height": 312
        },
        "outputId": "bf447237-5283-4826-daf6-a192024f663e"
      },
      "source": [
        "import seaborn as sns\n",
        "\n",
        "ax = sns.distplot(data, bins=500, kde=False, color='blue')\n",
        "ax.set(xlabel='Distribucion uniforme', ylabel='Frecuencia')\n",
        "ax.set_title(label='Distribucion uniforme')\n",
        "ax.axvline(x=mean, linestyle='--', label='Media')\n",
        "ax.legend()"
      ],
      "execution_count": 13,
      "outputs": [
        {
          "output_type": "execute_result",
          "data": {
            "text/plain": [
              "<matplotlib.legend.Legend at 0x7fadd17ad588>"
            ]
          },
          "metadata": {
            "tags": []
          },
          "execution_count": 13
        },
        {
          "output_type": "display_data",
          "data": {
            "image/png": "[encoded data removed]",
            "text/plain": [
              "<Figure size 432x288 with 1 Axes>"
            ]
          },
          "metadata": {
            "tags": [],
            "needs_background": "light"
          }
        }
      ]
    },
    {
      "cell_type": "markdown",
      "metadata": {
        "id": "4CDN4dhQVA2D",
        "colab_type": "text"
      },
      "source": [
        "Las formas funcionales de las distribuciones que acabamos de analizar nos permiten entender que zonas de la distribucion tienen mas disponibilidad."
      ]
    }
  ]
}