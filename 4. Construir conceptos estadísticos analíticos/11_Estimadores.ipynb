{
  "nbformat": 4,
  "nbformat_minor": 0,
  "metadata": {
    "colab": {
      "name": "11.Estimadores",
      "provenance": [],
      "collapsed_sections": [],
      "authorship_tag": "ABX9TyPGt0u/8uuGjkoHLYkRohw8",
      "include_colab_link": true
    },
    "kernelspec": {
      "name": "python3",
      "display_name": "Python 3"
    }
  },
  "cells": [
    {
      "cell_type": "markdown",
      "metadata": {
        "id": "view-in-github",
        "colab_type": "text"
      },
      "source": [
        "<a href=\"https://colab.research.google.com/github/francomanca93/fundamentos-de-estadistica-con-python/blob/estadistica-analitica/4.%20Construir%20conceptos%20estad%C3%ADsticos%20anal%C3%ADticos/11_Estimadores.ipynb\" target=\"_parent\"><img src=\"https://colab.research.google.com/assets/colab-badge.svg\" alt=\"Open In Colab\"/></a>"
      ]
    },
    {
      "cell_type": "markdown",
      "metadata": {
        "id": "q4YNnQlQXVMl"
      },
      "source": [
        "# Estimadores a través de datos"
      ]
    },
    {
      "cell_type": "markdown",
      "metadata": {
        "id": "Tqk2WxeCXX9K"
      },
      "source": [
        "Como generar inferencias a través de una muestra. Para ello recordemos:\n",
        "\n",
        "Una población o una variable aleatoria que viene de una población puede ser muestreada y calculada utilizando una pequeña porción de la misma. Sobre la muestra quisieramos encontrar algunos parametros poblacionales que la describan perfectamente. Recordemos una variable aleatoria normal que puede ser descripta con la media (µ) y su desviación estandar (σ), esto se simboliza --> N(µ, σ). \n",
        "\n",
        "![estimadores](https://imgur.com/yJm64Pu.png)\n",
        "\n",
        "![inferencia](https://imgur.com/qIHAqpA.png)\n",
        "\n",
        "Lo que queremos es inferir o extraer una conclusión de la población a través de la muestra tomada de la población y obteniendo sus parámetros descriptivos. \n",
        "\n",
        "A partir de lo dicho, queremos encontrar los mejores estimadores de los parámetros poblaciones, ¿cuales serán estos? Para saber esto debemos saber que es un [estimador](https://es.wikipedia.org/wiki/Estimador).\n",
        "\n",
        "![difinicion_estimadores](https://imgur.com/uSBdOA8.png)\n",
        "\n",
        "\n",
        "En estadística, un **estimador** es un estadístico (esto es, una función de la muestra) usado para estimar un parámetro desconocido de la población.\n",
        "\n",
        "Por ejemplo, si se desea conocer el precio medio de un artículo (el parámetro desconocido) se recogerán observaciones del precio de dicho artículo en diversos establecimientos (la muestra) y la media aritmética de las observaciones puede utilizarse como estimador del precio medio. \n",
        "\n",
        "Para cada parámetro pueden existir varios estimadores diferentes. En general, escogeremos el estimador que posea mejores propiedades que los restantes, como insesgadez, eficiencia, convergencia y robustez (consistencia). \n",
        "\n",
        "\n",
        "\n",
        "El valor de un estimador proporciona lo que se denomina en estadística una estimación puntual del valor del parámetro en estudio. En general, se suele preferir realizar una estimación mediante un intervalo, esto es, obtener un intervalo [a,b] dentro del cual se espera esté el valor real del parámetro con un cierto nivel de confianza. Utilizar un intervalo resulta más informativo, al proporcionar información sobre el posible error de estimación, asociado con la amplitud de dicho intervalo. El nivel de confianza es la probabilidad de que a priori el verdadero valor del parámetro quede contenido en el intervalo. \n",
        "\n",
        "En la práctica, los intervalos de estimadores con distribuciones simétricas suelen indicarse dando el valor del estimador puntual utilizado como centro del intervalo y un valor que debe sumarse y restarse para obtener el límite superior e inferior; por ejemplo: \n",
        "\n",
        "![intervalo](https://imgur.com/Mhz7SGc.png)\n",
        "\n",
        "Y esto es lo que harémos, no en un intervalo, pero si dos hipotesis con distribución normal, diferentes medias y una misma desviación estandar.\n",
        "\n",
        "\n"
      ]
    },
    {
      "cell_type": "code",
      "metadata": {
        "id": "xpb5vS46VooS"
      },
      "source": [
        "import numpy as np\n",
        "import pandas as pd\n",
        "from scipy import stats\n",
        "import matplotlib.pyplot as plt\n",
        "import seaborn as sns\n",
        "\n",
        "%matplotlib inline"
      ],
      "execution_count": null,
      "outputs": []
    },
    {
      "cell_type": "markdown",
      "metadata": {
        "id": "3ON-7NeolbqK"
      },
      "source": [
        "Vamos a simular que tomamos una muestra de tamaño 1. La muestra tuvo un valor de 3. Al no conocer los parametros poblacionales de la distribucion, vamos a generar una serie de hipotesis. \n",
        "\n",
        "Supongamos tener dos medias y calculemos la probabilidad de obtener la muestra bajo la hipotesis de los parametros poblacionales (las dos medias). "
      ]
    },
    {
      "cell_type": "code",
      "metadata": {
        "id": "eEG-6q7ilTpr",
        "outputId": "00935215-f76a-4494-9116-5a5205080c5c",
        "colab": {
          "base_uri": "https://localhost:8080/",
          "height": 52
        }
      },
      "source": [
        "from scipy.stats import norm\n",
        "\n",
        "x1 = 3\n",
        "\n",
        "#medias\n",
        "mu1 = 4\n",
        "mu2 = 7\n",
        "#desviacion estandar\n",
        "sigma = 1\n",
        "p_muestra = norm.pdf(x1, mu1, sigma)\n",
        "p_muestra_2 = norm.pdf(x1, mu2, sigma)\n",
        "\n",
        "\n",
        "print('La probabilidad de obtener ', x1, ' en una muestra con una media ', mu1, ' y desviacion de ', sigma, ' es ', p_muestra)\n",
        "print('La probabilidad de obtener ', x1, ' en una muestra con una media ', mu2, ' y desviacion de ', sigma, ' es ', p_muestra_2)"
      ],
      "execution_count": null,
      "outputs": [
        {
          "output_type": "stream",
          "text": [
            "La probabilidad de obtener  3  en una muestra con una media  4  y desviacion de  1  es  0.24197072451914337\n",
            "La probabilidad de obtener  3  en una muestra con una media  7  y desviacion de  1  es  0.00013383022576488537\n"
          ],
          "name": "stdout"
        }
      ]
    },
    {
      "cell_type": "markdown",
      "metadata": {
        "id": "Z--saJ2KoRxi"
      },
      "source": [
        "Queremos ver la probabilidad conjunta de que ocurran dos casos x1 y x2."
      ]
    },
    {
      "cell_type": "code",
      "metadata": {
        "id": "qYwi206FoLeM",
        "outputId": "dbb34390-af11-43f9-cf87-6d1db74267d8",
        "colab": {
          "base_uri": "https://localhost:8080/",
          "height": 52
        }
      },
      "source": [
        "from scipy.stats import norm\n",
        "\n",
        "x1 = 3\n",
        "x2 = 10\n",
        "\n",
        "\n",
        "#medias\n",
        "mu1 = 4\n",
        "mu2 = 7\n",
        "#desviacion estandar\n",
        "sigma = 1\n",
        "p_muestra = norm.pdf(x1, mu1, sigma) * norm.pdf(x2, mu1, sigma)\n",
        "p_muestra_2 = norm.pdf(x1, mu2, sigma) * norm.pdf(x2, mu2, sigma)\n",
        "\n",
        "print('La probabilidad de obtener ', x1, 'y ', x2, ' en una muestra con una media ', mu1, ' y desviacion de ', sigma, ' es ', p_muestra)\n",
        "print('La probabilidad de obtener ', x1, 'y ', x2, ' en una muestra con una media ', mu2, ' y desviacion de ', sigma, ' es ', p_muestra_2)"
      ],
      "execution_count": null,
      "outputs": [
        {
          "output_type": "stream",
          "text": [
            "La probabilidad de obtener  3 y  10  en una muestra con una media  4  y desviacion de  1  es  1.4701857752651781e-09\n",
            "La probabilidad de obtener  3 y  10  en una muestra con una media  7  y desviacion de  1  es  5.931152735254122e-07\n"
          ],
          "name": "stdout"
        }
      ]
    },
    {
      "cell_type": "markdown",
      "metadata": {
        "id": "_BSLpXN3pDFN"
      },
      "source": [
        "Obtegamos valores aleatorias de la muestra"
      ]
    },
    {
      "cell_type": "code",
      "metadata": {
        "id": "1u71lY-ipCsY",
        "outputId": "379d029b-5677-4c2a-b6df-11687cb57a94",
        "colab": {
          "base_uri": "https://localhost:8080/",
          "height": 52
        }
      },
      "source": [
        "mu = 5\n",
        "sigma = 1\n",
        "\n",
        "muestra_10 = norm.rvs(mu, sigma, size = 10)\n",
        "muestra_10"
      ],
      "execution_count": null,
      "outputs": [
        {
          "output_type": "execute_result",
          "data": {
            "text/plain": [
              "array([4.02169712, 6.59586712, 4.94315465, 3.71712275, 5.76897145,\n",
              "       3.92159233, 5.54808546, 4.60292048, 4.86351736, 4.78058325])"
            ]
          },
          "metadata": {
            "tags": []
          },
          "execution_count": 27
        }
      ]
    },
    {
      "cell_type": "code",
      "metadata": {
        "id": "lcav9RQ7ftEi"
      },
      "source": [
        "#medias\n",
        "mu1 = 4\n",
        "mu2 = 7\n",
        "#desviacion estandar\n",
        "sigma = 1\n",
        "\n",
        "data_1 = norm.rvs(mu1, sigma, size=100000)\n",
        "data_2 = norm.rvs(mu2, sigma, size=100000)"
      ],
      "execution_count": null,
      "outputs": []
    },
    {
      "cell_type": "code",
      "metadata": {
        "id": "5Sgfuvw9gAt3"
      },
      "source": [
        "muestra_10\n",
        "y = list([])\n",
        "\n",
        "for i in range(len(muestra_10)):\n",
        "  y.append(3000)"
      ],
      "execution_count": null,
      "outputs": []
    },
    {
      "cell_type": "code",
      "metadata": {
        "id": "Gy1V2X8IlY3s",
        "outputId": "f3862930-89db-48c1-fdb8-fa9b3967c3a0",
        "colab": {
          "base_uri": "https://localhost:8080/",
          "height": 296
        }
      },
      "source": [
        "ax = sns.distplot(data_1, bins = 50, color = 'blue', kde = False)\n",
        "ax.set(xlabel = 'Distribucion Normal mu1', ylabel = 'Frecuencia')\n",
        "\n",
        "ax = sns.distplot(data_2, bins = 50, color = 'red', kde = False)\n",
        "ax.set(xlabel = 'Distribucion Normal mu2', ylabel = 'Frecuencia')\n",
        "\n",
        "ax.scatter(muestra_10, y, c = 'k')"
      ],
      "execution_count": null,
      "outputs": [
        {
          "output_type": "execute_result",
          "data": {
            "text/plain": [
              "<matplotlib.collections.PathCollection at 0x7faebd4ba160>"
            ]
          },
          "metadata": {
            "tags": []
          },
          "execution_count": 29
        },
        {
          "output_type": "display_data",
          "data": {
            "image/png": "[encoded data removed]",
            "text/plain": [
              "<Figure size 432x288 with 1 Axes>"
            ]
          },
          "metadata": {
            "tags": [],
            "needs_background": "light"
          }
        }
      ]
    },
    {
      "cell_type": "code",
      "metadata": {
        "id": "zYbEsV2eg59Q",
        "outputId": "004786d8-c755-4db8-c4ca-a2fca79f4de8",
        "colab": {
          "base_uri": "https://localhost:8080/",
          "height": 296
        }
      },
      "source": [
        "fig, ax = plt.subplots()\n",
        "\n",
        "ax.hist(data_1, bins = 50, color = 'blue', alpha=0.5)\n",
        "ax.set(xlabel = 'Distribucion Normal mu1', ylabel = 'Frecuencia')\n",
        "\n",
        "ax.hist(data_2, bins = 50, color = 'red', alpha=0.5)\n",
        "ax.set(xlabel = 'Distribucion Normal mu2', ylabel = 'Frecuencia')\n",
        "\n",
        "ax.scatter(muestra_10, y, c = 'k')"
      ],
      "execution_count": null,
      "outputs": [
        {
          "output_type": "execute_result",
          "data": {
            "text/plain": [
              "<matplotlib.collections.PathCollection at 0x7faebd1ed668>"
            ]
          },
          "metadata": {
            "tags": []
          },
          "execution_count": 33
        },
        {
          "output_type": "display_data",
          "data": {
            "image/png": "[encoded data removed]",
            "text/plain": [
              "<Figure size 432x288 with 1 Axes>"
            ]
          },
          "metadata": {
            "tags": [],
            "needs_background": "light"
          }
        }
      ]
    },
    {
      "cell_type": "markdown",
      "metadata": {
        "id": "5BsjyGXVhzKf"
      },
      "source": [
        "Con esto podemos ver como la muestra de 10 elementos puede pertencer con mayor probabilidad a una hipotesis respecto a la otra.\n",
        "\n",
        "La primer hipotesis en la de color azul y la segunda hipotesis de color rojo. Los puntos obtenidos de forma aleatoria fueron graficados todos a una misma altura y podemos observar que se encuentran la mayoria dentro de la primer hipotesis."
      ]
    },
    {
      "cell_type": "markdown",
      "metadata": {
        "id": "HJJYiapjry8w"
      },
      "source": [
        "## Estimadores de máxima verosimilitud\n",
        "\n",
        "En estadística, la [estimación por máxima verosimilitud](https://es.wikipedia.org/wiki/M%C3%A1xima_verosimilitud) (conocida también como EMV y, en ocasiones, MLE por sus siglas en inglés) es un método habitual para ajustar un modelo y estimar sus parámetros. \n",
        "\n",
        "![emv](https://imgur.com/L8T0To0.png)\n",
        "![pasos](https://imgur.com/KLUOFLh.png)\n",
        "\n",
        "1. El método de máxima verosimilitud consiste en obtener el valor de lambda donde la **L(lambda) sea máximo**.\n",
        "\n",
        "2. L(lambda) es la **función de máxima verosimilitud**, y está definida como el producto entre todos los valores de la muestra aleatoria evaluados en su función de densidad.\n",
        "\n",
        "3. En este caso la distribución a estudiar es una exponencial, esto es importante, porque TODA distribución exponencial tiene función de densidad = **parametro * e^(parametro * x)** , entonces ya tenemos una función con que trabajar.\n",
        "\n",
        "\n",
        "3. Se desarrolla la función para después aplicar Logaritmo natural.\n",
        "\n",
        "4. **Por qué logaritmo natural?** Por dos razones, una tiene que ver con lo práctico de utilizar logaritmos en términos operatorios, pero la mas importante es que, dadas las propiedades de los logaritmos, **la función L(lambda) es máxima en el mismo punto que Ln(L(lambda)).**\n",
        "\n",
        "![paso1](https://imgur.com/ZSpHbt1.png)\n",
        "\n",
        "5. Se desarrolla la nueva función que se simplifica gracias a las propiedades de los logaritmos.\n",
        "\n",
        "![paso2](https://imgur.com/fBgsk3C.png)\n",
        "\n",
        "6. **Por qué se deriva y se iguala a cero?** recuerden que la primera derivada hace referencia a la pendiente de la función, y si la pendiente es cero significa que estamos en presencia de un mínimo o un máximo.\n",
        "\n",
        "7. Para poder asegurar que ese valor de lambda es máximo, se debe derivar por segunda vez, si la segunda derivada es < 0 entonces estamos frente a un máximo, no se puede asegurar nada sin hacer este análisis.\n",
        "\n",
        "8. Sorpresa! el estimador de max verosimilitud de una función es el promedio muestral.\n",
        "\n",
        "![](https://imgur.com/GygKSzA.png)\n"
      ]
    },
    {
      "cell_type": "markdown",
      "metadata": {
        "id": "Y3R6U_U0w-1N"
      },
      "source": [
        "![mejores_estimadores](https://imgur.com/Jn19XI6.png)"
      ]
    }
  ]
}