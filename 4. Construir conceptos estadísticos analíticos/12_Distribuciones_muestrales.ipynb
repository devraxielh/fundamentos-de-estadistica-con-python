{
  "nbformat": 4,
  "nbformat_minor": 0,
  "metadata": {
    "colab": {
      "name": "12.Distribuciones muestrales.ipynb",
      "provenance": [],
      "authorship_tag": "ABX9TyN5RM5qMKky5TWzRM2xFlYK",
      "include_colab_link": true
    },
    "kernelspec": {
      "name": "python3",
      "display_name": "Python 3"
    }
  },
  "cells": [
    {
      "cell_type": "markdown",
      "metadata": {
        "id": "view-in-github",
        "colab_type": "text"
      },
      "source": [
        "<a href=\"https://colab.research.google.com/github/francomanca93/fundamentos-de-estadistica-con-python/blob/estadistica-analitica/4.%20Construir%20conceptos%20estad%C3%ADsticos%20anal%C3%ADticos/12_Distribuciones_muestrales.ipynb\" target=\"_parent\"><img src=\"https://colab.research.google.com/assets/colab-badge.svg\" alt=\"Open In Colab\"/></a>"
      ]
    },
    {
      "cell_type": "markdown",
      "metadata": {
        "id": "nIza0Ou8IOE1"
      },
      "source": [
        "# Distribuciones muestrales"
      ]
    },
    {
      "cell_type": "markdown",
      "metadata": {
        "id": "akjhImsG9JyK"
      },
      "source": [
        "Es de esperar que el promedio muestral que proviene de x, una variable aleatoria, tambien tenga una distribución y sea una variable aleatoria igual.\n",
        "\n",
        "Vamos a hablar de las distribuciones muestrales de los estimadores que utilizamos para aproximarnos a los parámetros poblacionales. Tenemos que recordar y tener en cuenta que: \n",
        "\n",
        "1. Un estimador es una función de la muestra calculada.\n",
        "2. Un estadistico, es una función que va a involucrar nuestra muestra con el parámetro poblacional bajo una hipotesis.\n",
        "\n",
        "![distribuciones-muestrales](https://imgur.com/ZcIuTJ5.png)\n",
        "\n",
        "Sobre las hipotesis vamos a poder generar; utilizando transformaciones, estandarizaciones, entre otras; las distribuciones muestrales para el cálculo de probabilidad. \n",
        "\n",
        "---------------\n",
        "\n",
        "Veamos un ejemplo:\n",
        "\n",
        "1. Partimos de una variable aleatoria X con distribución normal donde la media es µ y su desviación estandar es σ (o varianza σ²)  --> N(µ, σ²).\n",
        "2. El promedio o Xbarra va a tener una distribución similar la misma media µ pero con varianza σ²/n  --> N(µ, σ²/n), donde **n** es el valor de datos de la muestra. \n",
        "3. Estandarizamos y asumimos que µ = µ0 y σ = σ0\n",
        "4. El estadistico, la función, que va a relacionar Xbara con sus parámetros poblacionales µ (media) y σ (desviacion estandar, o σ², varianza) tendrá una distribución normal tambien pero al estar estandarizado será una ditribución normal con media 0 y desviación estadar 1. N(0, 1). Esta nueva distribución normal estandarizada será la distribución muestral asociado a Xbarra.\n",
        "\n",
        "![](https://imgur.com/5p091Nx.png)\n",
        "\n",
        "\n",
        "--------------\n",
        "\n",
        "Vamos ahora una generalización de los anterior y un resumen de las distribuciones muestrales mas importantes. \n",
        "\n",
        "Con estas funciones podemos aproximar o estimar parámetros poblacionales de la siguiente manera:\n",
        "\n",
        "1. Usamos la media muestral cuando queremos estimar:\n",
        "  - Media.\n",
        "  - Proporción de una función de Bernoulli.\n",
        "  - Lambda de una distribución Poisson o Exponencial.\n",
        "\n",
        "Pueden pasar 2 casos:\n",
        "\n",
        "- Usamos la **función Normal** estandar si conocemos la varianza. \n",
        "- Usamos la **función t-student** si NO conocemos la varianza. Debemos entender que son los [grados de libertad](https://www.webyempresas.com/grados-de-libertad-en-estadistica/)\n",
        "\n",
        "2. Usamos la varianza muestral si queremos estimar:\n",
        "- La varianza\n",
        "\n",
        "Pueden pasar 2 casos:\n",
        "- Usamos la **función Chi-cuadrada** si vamos a hacer inferencia de una sola varianza.\n",
        "- Usamos la **F Fisher-Snedecor** para el cociente de 2 varianzas, varianza de X sobre varianza de Y.\n",
        "\n",
        "![distribuciones_muestrales](https://imgur.com/neNHRjt.png)\n"
      ]
    },
    {
      "cell_type": "markdown",
      "metadata": {
        "id": "Oc1e8VKuKNlA"
      },
      "source": [
        "Veamos ahora a estas funciones graficadas. "
      ]
    },
    {
      "cell_type": "code",
      "metadata": {
        "id": "Qi9qgX3eI44Y"
      },
      "source": [
        "import matplotlib.pyplot as plt\n",
        "from IPython.core.display import Image\n",
        "import seaborn as sns\n",
        "\n",
        "%matplotlib inline"
      ],
      "execution_count": 1,
      "outputs": []
    },
    {
      "cell_type": "markdown",
      "metadata": {
        "id": "0L0hXs3gKTpM"
      },
      "source": [
        "# T-student\n",
        "\n",
        "En probabilidad y estadística, la [distribución t (de Student)](https://es.wikipedia.org/wiki/Distribuci%C3%B3n_t_de_Student) es una distribución de probabilidad que surge del problema de estimar la media de una población normalmente distribuida cuando el tamaño de la muestra es pequeño. \n",
        "\n",
        "Aparece de manera natural al realizar la prueba t de Student para la determinación de las diferencias entre dos varianzas muestrales y para la construcción del intervalo de confianza para la diferencia entre las partes de dos poblaciones cuando se desconoce la desviación típica de una población y esta debe ser estimada a partir de los datos de una muestra. "
      ]
    },
    {
      "cell_type": "code",
      "metadata": {
        "id": "eDEz-l2oJS14",
        "outputId": "ec468aa2-309b-40ab-9f7c-97b882a02d8c",
        "colab": {
          "base_uri": "https://localhost:8080/",
          "height": 320
        }
      },
      "source": [
        "from scipy.stats import t\n",
        "\n",
        "# Generemos dos muestras aleatorias para verlas graficadas. \n",
        "data1 = t.rvs(100, size = 1000000)\n",
        "data2 = t.rvs(10, size = 1000000)\n",
        "\n",
        "ax = sns.distplot(data2, bins = 500, kde = False, color = 'blue')\n",
        "ax = sns.distplot(data1, bins = 500, kde = False, color = 'red')\n"
      ],
      "execution_count": 2,
      "outputs": [
        {
          "output_type": "stream",
          "text": [
            "/usr/local/lib/python3.6/dist-packages/seaborn/distributions.py:2551: FutureWarning: `distplot` is a deprecated function and will be removed in a future version. Please adapt your code to use either `displot` (a figure-level function with similar flexibility) or `histplot` (an axes-level function for histograms).\n",
            "  warnings.warn(msg, FutureWarning)\n"
          ],
          "name": "stderr"
        },
        {
          "output_type": "display_data",
          "data": {
            "image/png": "[encoded data removed]",
            "text/plain": [
              "<Figure size 432x288 with 1 Axes>"
            ]
          },
          "metadata": {
            "tags": [],
            "needs_background": "light"
          }
        }
      ]
    },
    {
      "cell_type": "markdown",
      "metadata": {
        "id": "i9KsjiCTpBPN"
      },
      "source": [
        "# Chi - cuadrado\n",
        "\n",
        "La [distribución Chi Cuadrado](https://es.wikipedia.org/wiki/Distribuci%C3%B3n_%CF%87%C2%B2) o de Pearson, ésta es una distribución probabilística continua que se apoya en un parámetro que representa los grados de libertad, la utilidad de este tipo de distribución es que permite determinar la relación entre dos variables, es decir, si existe o no, dependencia estadística entre ellas.\n",
        "\n",
        "Para poder utilizarla se deben plantear 2 hipotesis. \n",
        "\n",
        "Una hipotesis nula y una hipotesis alternativa. Realizando la prueba de chi-cuadrada podemos obtener cual de las hipotesis es mas probabe. Una chi-cuadrada se calcula y la otra se obtiene por [tabla](http://uregina.ca/~gingrich/appchi.pdf)."
      ]
    },
    {
      "cell_type": "code",
      "metadata": {
        "id": "fboJ2CIGpBPX",
        "outputId": "7aff334a-5f33-47e4-8fb7-ee996ea6056b",
        "colab": {
          "base_uri": "https://localhost:8080/",
          "height": 320
        }
      },
      "source": [
        "from scipy.stats import chi2\n",
        "\n",
        "# Generemos dos muestras aleatorias para verlas graficadas. \n",
        "data1 = chi2.rvs(5, size = 1000000)\n",
        "data2 = chi2.rvs(15, size = 1000000)\n",
        "\n",
        "ax = sns.distplot(data2, bins = 500, kde = False, color = 'blue')\n",
        "ax = sns.distplot(data1, bins = 500, kde = False, color = 'red')\n"
      ],
      "execution_count": 5,
      "outputs": [
        {
          "output_type": "stream",
          "text": [
            "/usr/local/lib/python3.6/dist-packages/seaborn/distributions.py:2551: FutureWarning: `distplot` is a deprecated function and will be removed in a future version. Please adapt your code to use either `displot` (a figure-level function with similar flexibility) or `histplot` (an axes-level function for histograms).\n",
            "  warnings.warn(msg, FutureWarning)\n"
          ],
          "name": "stderr"
        },
        {
          "output_type": "display_data",
          "data": {
            "image/png": "[encoded data removed]",
            "text/plain": [
              "<Figure size 432x288 with 1 Axes>"
            ]
          },
          "metadata": {
            "tags": [],
            "needs_background": "light"
          }
        }
      ]
    },
    {
      "cell_type": "code",
      "metadata": {
        "id": "f1tv8Fy4xSu1"
      },
      "source": [
        ""
      ],
      "execution_count": null,
      "outputs": []
    },
    {
      "cell_type": "markdown",
      "metadata": {
        "id": "MWKn0R_WxcuZ"
      },
      "source": [
        "# F Fisher-Snecdecor\n",
        "\n",
        "La [distribución F de Fisher](https://es.qwe.wiki/wiki/F-distribution) es una distribución que depende de dos parámetros. Se utiliza para evaluar la capacidad explicativa que tiene un grupo de variables independientes sobre la variación de la variable dependiente. Este test es de uso común en inferencia estadística para realizar contrastes de hipótesis."
      ]
    },
    {
      "cell_type": "code",
      "metadata": {
        "id": "VJ2a4rZqxcuh",
        "outputId": "07d37b8a-f92e-46ba-a9bd-6c21b582990d",
        "colab": {
          "base_uri": "https://localhost:8080/",
          "height": 323
        }
      },
      "source": [
        "from scipy.stats import f\n",
        "\n",
        "# Generemos dos muestras aleatorias para verlas graficadas. \n",
        "data1 = f.rvs(5, 25, size = 1000000)\n",
        "data2 = f.rvs(15, 25, size = 1000000)\n",
        "\n",
        "ax = sns.distplot(data2, bins = 500, kde = False, color = 'blue')\n",
        "ax = sns.distplot(data1, bins = 500, kde = False, color = 'red')\n"
      ],
      "execution_count": 6,
      "outputs": [
        {
          "output_type": "stream",
          "text": [
            "/usr/local/lib/python3.6/dist-packages/seaborn/distributions.py:2551: FutureWarning: `distplot` is a deprecated function and will be removed in a future version. Please adapt your code to use either `displot` (a figure-level function with similar flexibility) or `histplot` (an axes-level function for histograms).\n",
            "  warnings.warn(msg, FutureWarning)\n"
          ],
          "name": "stderr"
        },
        {
          "output_type": "display_data",
          "data": {
            "image/png": "[encoded data removed]",
            "text/plain": [
              "<Figure size 432x288 with 1 Axes>"
            ]
          },
          "metadata": {
            "tags": [],
            "needs_background": "light"
          }
        }
      ]
    },
    {
      "cell_type": "markdown",
      "metadata": {
        "id": "VGXqg5UHzdH6"
      },
      "source": [
        "## Calculo de probabildad"
      ]
    },
    {
      "cell_type": "code",
      "metadata": {
        "id": "DiH4u9uRzXHa",
        "outputId": "0ffa2861-af5d-42b2-df12-2a0ff18e77fa",
        "colab": {
          "base_uri": "https://localhost:8080/",
          "height": 34
        }
      },
      "source": [
        "# Calculo de probabilidad\n",
        "# 15 y 25 son los grados de libertad de muestra x, y\n",
        "# ¿que probabilidad hay de obtener un 4 en esa distribucion?\n",
        "f.pdf(4,15,25) "
      ],
      "execution_count": 7,
      "outputs": [
        {
          "output_type": "execute_result",
          "data": {
            "text/plain": [
              "0.0019800859524222187"
            ]
          },
          "metadata": {
            "tags": []
          },
          "execution_count": 7
        }
      ]
    },
    {
      "cell_type": "code",
      "metadata": {
        "id": "O7lSYA85z5bU",
        "outputId": "2b44f52a-db77-435f-fd0e-206f1d543a2b",
        "colab": {
          "base_uri": "https://localhost:8080/",
          "height": 34
        }
      },
      "source": [
        "# Calculo de probabilidad ACUMULADA\n",
        "\n",
        "f.cdf(4,15,25) "
      ],
      "execution_count": 9,
      "outputs": [
        {
          "output_type": "execute_result",
          "data": {
            "text/plain": [
              "0.9988900520089906"
            ]
          },
          "metadata": {
            "tags": []
          },
          "execution_count": 9
        }
      ]
    },
    {
      "cell_type": "code",
      "metadata": {
        "id": "dkvHAIBN0EBW",
        "outputId": "9b088db1-4c95-4967-b616-8a317b92af3f",
        "colab": {
          "base_uri": "https://localhost:8080/",
          "height": 34
        }
      },
      "source": [
        "# calculo del valor que acumula una determinada probabilidad\n",
        "f.ppf(0.9988900520089906, 15, 25)"
      ],
      "execution_count": 11,
      "outputs": [
        {
          "output_type": "execute_result",
          "data": {
            "text/plain": [
              "4.000000000000022"
            ]
          },
          "metadata": {
            "tags": []
          },
          "execution_count": 11
        }
      ]
    },
    {
      "cell_type": "code",
      "metadata": {
        "id": "kUwKmvzj0SM8",
        "outputId": "72b6d0e6-575a-435c-8755-c29933054541",
        "colab": {
          "base_uri": "https://localhost:8080/",
          "height": 34
        }
      },
      "source": [
        "# Veamos cual es el valor que acumula el 50%\n",
        "f.ppf(0.5, 15, 25)"
      ],
      "execution_count": 12,
      "outputs": [
        {
          "output_type": "execute_result",
          "data": {
            "text/plain": [
              "0.982011155699839"
            ]
          },
          "metadata": {
            "tags": []
          },
          "execution_count": 12
        }
      ]
    },
    {
      "cell_type": "code",
      "metadata": {
        "id": "o8guiZ4q0eWA"
      },
      "source": [
        ""
      ],
      "execution_count": null,
      "outputs": []
    }
  ]
}