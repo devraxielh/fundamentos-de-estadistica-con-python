{
  "nbformat": 4,
  "nbformat_minor": 0,
  "metadata": {
    "colab": {
      "name": "13. Teorema del limite central.ipynb",
      "provenance": [],
      "authorship_tag": "ABX9TyMKCtcVVoyg3du/2stxXG2u",
      "include_colab_link": true
    },
    "kernelspec": {
      "name": "python3",
      "display_name": "Python 3"
    }
  },
  "cells": [
    {
      "cell_type": "markdown",
      "metadata": {
        "id": "view-in-github",
        "colab_type": "text"
      },
      "source": [
        "<a href=\"https://colab.research.google.com/github/francomanca93/fundamentos-de-estadistica-con-python/blob/estadistica-analitica/4.%20Construir%20conceptos%20estad%C3%ADsticos%20anal%C3%ADticos/13_Teorema_del_limite_central.ipynb\" target=\"_parent\"><img src=\"https://colab.research.google.com/assets/colab-badge.svg\" alt=\"Open In Colab\"/></a>"
      ]
    },
    {
      "cell_type": "markdown",
      "metadata": {
        "id": "hf8LOPPE1Vhh"
      },
      "source": [
        "# Teorema del limite central\n",
        "\n",
        "Este concepto nos permitirá aproximar la función de distribución de una variable aleatoria de la cual no conocemos previamente su distribución.\n",
        "\n",
        "El teorema de limite central indica que si sumamos **n** variables aleatorias independientes con un **n > 30** podemos aproximar la función utilizando la curva de la función Normal o la curva de la campana de Gauss. Incluso si las variables aleatorias originales no se distribuyen como una normal.\n",
        "\n",
        "Teorema formal:\n",
        "\n",
        "![teorema_formal](https://imgur.com/gFmNE0j.png)\n",
        "\n",
        "Teorema simplificado:\n",
        "\n",
        "![teorema](https://imgur.com/5Lna2fR.png)\n",
        "\n",
        "Propiedades\n",
        "\n",
        "- El teorema del límite central garantiza una distribución aproximadamente normal cuando n es suficientemente grande.\n",
        "\n",
        "- Existen diferentes versiones del teorema, en función de las condiciones utilizadas para asegurar la convergencia. Una de las más simples establece que es suficiente que las variables que se suman sean independientes, idénticamente distribuidas, con valor esperado y varianza finitas.\n",
        "\n",
        "- La aproximación entre las dos distribuciones es, en general, mayor en el centro de las mismas que en sus extremos o colas, motivo por el cual se prefiere el nombre \"teorema del límite central\" (\"central\" califica al límite, más que al teorema).\n",
        "\n",
        "- Este teorema, perteneciente a la teoría de la probabilidad, encuentra aplicación en muchos campos relacionados, tales como la inferencia estadística o la teoría de renovación."
      ]
    },
    {
      "cell_type": "code",
      "metadata": {
        "id": "mk1InkN51OLS"
      },
      "source": [
        "import pandas as pd\n",
        "import numpy as np\n",
        "import matplotlib.pyplot as plt\n",
        "%matplotlib inline\n",
        "\n",
        "from scipy.stats import expon\n",
        "from scipy.stats import uniform"
      ],
      "execution_count": 2,
      "outputs": []
    },
    {
      "cell_type": "markdown",
      "metadata": {
        "id": "zsGl6l8p-Pov"
      },
      "source": [
        "## Para una distribucion exponencial"
      ]
    },
    {
      "cell_type": "code",
      "metadata": {
        "id": "58yxyp086Aw8"
      },
      "source": [
        "poblacion_expo = pd.DataFrame()\n",
        "poblacion_expo['number'] = expon.rvs(10, size = 100000)"
      ],
      "execution_count": 3,
      "outputs": []
    },
    {
      "cell_type": "code",
      "metadata": {
        "id": "896V-RL76MZk",
        "outputId": "d7853982-9338-437a-d6a4-2c03304e2584",
        "colab": {
          "base_uri": "https://localhost:8080/",
          "height": 282
        }
      },
      "source": [
        "poblacion_expo['number'].hist(bins=100)"
      ],
      "execution_count": 4,
      "outputs": [
        {
          "output_type": "execute_result",
          "data": {
            "text/plain": [
              "<matplotlib.axes._subplots.AxesSubplot at 0x7f9b7bb9e0b8>"
            ]
          },
          "metadata": {
            "tags": []
          },
          "execution_count": 4
        },
        {
          "output_type": "display_data",
          "data": {
            "image/png": "[encoded data removed]",
            "text/plain": [
              "<Figure size 432x288 with 1 Axes>"
            ]
          },
          "metadata": {
            "tags": [],
            "needs_background": "light"
          }
        }
      ]
    },
    {
      "cell_type": "code",
      "metadata": {
        "id": "dNpVIVfz6Wn7"
      },
      "source": [
        "muestra_promedio_dis_expo = []\n",
        "\n",
        "tamano = 5000\n",
        "\n",
        "for i in range(0,tamano):\n",
        "  muestra_promedio_dis_expo.append(poblacion_expo.sample(n=100).mean().values[0])"
      ],
      "execution_count": 5,
      "outputs": []
    },
    {
      "cell_type": "code",
      "metadata": {
        "id": "Xi0aGZmM6tGN",
        "outputId": "4f35758d-94a8-4e08-beed-9b8f199cf2ae",
        "colab": {
          "base_uri": "https://localhost:8080/",
          "height": 279
        }
      },
      "source": [
        "fig, ax = plt.subplots()\n",
        "ax.hist(muestra_promedio_dis_expo, bins=50, alpha = 0.5)\n",
        "ax.set_xlabel('Valor promedio')\n",
        "ax.set_ylabel('Frecuencia')\n",
        "ax.grid()"
      ],
      "execution_count": 6,
      "outputs": [
        {
          "output_type": "display_data",
          "data": {
            "image/png": "[encoded data removed]",
            "text/plain": [
              "<Figure size 432x288 with 1 Axes>"
            ]
          },
          "metadata": {
            "tags": [],
            "needs_background": "light"
          }
        }
      ]
    },
    {
      "cell_type": "markdown",
      "metadata": {
        "id": "BpLfVh7J7hEf"
      },
      "source": [
        "## Para una distribucion uniforme"
      ]
    },
    {
      "cell_type": "code",
      "metadata": {
        "id": "8nXPL_Bh7jq6"
      },
      "source": [
        "poblacion_uniforme = pd.DataFrame()\n",
        "poblacion_uniforme['number'] = uniform.rvs(10, size = 100000)"
      ],
      "execution_count": 7,
      "outputs": []
    },
    {
      "cell_type": "code",
      "metadata": {
        "id": "72FaVQpH7jrL",
        "outputId": "0107c046-4227-409b-c9ae-b5256fc86dfd",
        "colab": {
          "base_uri": "https://localhost:8080/",
          "height": 282
        }
      },
      "source": [
        "poblacion_uniforme['number'].hist(bins=100)"
      ],
      "execution_count": 8,
      "outputs": [
        {
          "output_type": "execute_result",
          "data": {
            "text/plain": [
              "<matplotlib.axes._subplots.AxesSubplot at 0x7f9b7b9f8470>"
            ]
          },
          "metadata": {
            "tags": []
          },
          "execution_count": 8
        },
        {
          "output_type": "display_data",
          "data": {
            "image/png": "[encoded data removed]",
            "text/plain": [
              "<Figure size 432x288 with 1 Axes>"
            ]
          },
          "metadata": {
            "tags": [],
            "needs_background": "light"
          }
        }
      ]
    },
    {
      "cell_type": "code",
      "metadata": {
        "id": "2N4t5R_77jrW"
      },
      "source": [
        "muestra_promedio_pob_uniforme = []\n",
        "\n",
        "tamano = 5000\n",
        "\n",
        "for i in range(0,tamano):\n",
        "  muestra_promedio_pob_uniforme.append(poblacion_uniforme.sample(n=100).mean().values[0])"
      ],
      "execution_count": 9,
      "outputs": []
    },
    {
      "cell_type": "code",
      "metadata": {
        "id": "9Rc6QByk7jrd",
        "outputId": "b2690a5a-ba9f-431f-9bb3-65bf168e72d1",
        "colab": {
          "base_uri": "https://localhost:8080/",
          "height": 279
        }
      },
      "source": [
        "fig, ax = plt.subplots()\n",
        "ax.hist(muestra_promedio_pob_uniforme, bins=50, alpha = 0.5)\n",
        "ax.set_xlabel('Valor promedio')\n",
        "ax.set_ylabel('Frecuencia')\n",
        "ax.grid()"
      ],
      "execution_count": 10,
      "outputs": [
        {
          "output_type": "display_data",
          "data": {
            "image/png": "[encoded data removed]",
            "text/plain": [
              "<Figure size 432x288 with 1 Axes>"
            ]
          },
          "metadata": {
            "tags": [],
            "needs_background": "light"
          }
        }
      ]
    },
    {
      "cell_type": "markdown",
      "metadata": {
        "id": "ED9DkBOD99i8"
      },
      "source": [
        "## Comparación\n",
        "\n",
        "![comparacion](https://imgur.com/0Uygnnl.png)"
      ]
    },
    {
      "cell_type": "code",
      "metadata": {
        "id": "vFDzN5yDAPpR",
        "outputId": "f965bd9d-780e-4e4c-b16d-6bb0a2796205",
        "colab": {
          "base_uri": "https://localhost:8080/",
          "height": 279
        }
      },
      "source": [
        "fig, ax = plt.subplots()\n",
        "\n",
        "ax.hist(muestra_promedio_pob_uniforme, bins=50, alpha = 0.5, label='Variable uniforme')\n",
        "ax.hist(muestra_promedio_dis_expo, bins=50, alpha = 0.5, label='Variable exponencial')\n",
        "\n",
        "ax.set_xlabel('Valor promedio')\n",
        "ax.set_ylabel('Frecuencia')\n",
        "ax.legend()\n",
        "ax.grid()"
      ],
      "execution_count": 11,
      "outputs": [
        {
          "output_type": "display_data",
          "data": {
            "image/png": "[encoded data removed]",
            "text/plain": [
              "<Figure size 432x288 with 1 Axes>"
            ]
          },
          "metadata": {
            "tags": [],
            "needs_background": "light"
          }
        }
      ]
    },
    {
      "cell_type": "code",
      "metadata": {
        "id": "iKs9i7iH8rDL",
        "outputId": "0535aa03-d841-4dee-f863-a79fb0999274",
        "colab": {
          "base_uri": "https://localhost:8080/",
          "height": 279
        }
      },
      "source": [
        "fig, ax = plt.subplots()\n",
        "\n",
        "# Estandarizacion\n",
        "z_uniforme = (muestra_promedio_pob_uniforme - np.mean(muestra_promedio_pob_uniforme)) / np.std(muestra_promedio_pob_uniforme)\n",
        "z_expo = (muestra_promedio_dis_expo - np.mean(muestra_promedio_dis_expo)) / np.std(muestra_promedio_dis_expo)\n",
        "\n",
        "ax.hist(z_uniforme, bins=50, alpha = 0.5, label='Variable uniforme')\n",
        "ax.hist(z_expo, bins=50, alpha = 0.5, label='Variable exponencial')\n",
        "\n",
        "ax.axvline(np.mean(z_uniforme), c='r', linestyle='--', label='Promedio uniforme')\n",
        "ax.axvline(np.mean(z_expo), c='b', linestyle='--', label='Promedio expo')\n",
        "\n",
        "ax.set_xlabel('Valor promedio')\n",
        "ax.set_ylabel('Frecuencia')\n",
        "ax.legend()\n",
        "ax.grid()"
      ],
      "execution_count": 13,
      "outputs": [
        {
          "output_type": "display_data",
          "data": {
            "image/png": "[encoded data removed]",
            "text/plain": [
              "<Figure size 432x288 with 1 Axes>"
            ]
          },
          "metadata": {
            "tags": [],
            "needs_background": "light"
          }
        }
      ]
    }
  ]
}