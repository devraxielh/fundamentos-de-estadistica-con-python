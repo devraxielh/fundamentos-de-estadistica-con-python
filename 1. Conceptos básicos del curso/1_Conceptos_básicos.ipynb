{
  "nbformat": 4,
  "nbformat_minor": 0,
  "metadata": {
    "colab": {
      "name": "1. Conceptos básicos.ipynb",
      "provenance": [],
      "authorship_tag": "ABX9TyM8AxuYCm4f2PozEMtw1p7Q",
      "include_colab_link": true
    },
    "kernelspec": {
      "name": "python3",
      "display_name": "Python 3"
    }
  },
  "cells": [
    {
      "cell_type": "markdown",
      "metadata": {
        "id": "view-in-github",
        "colab_type": "text"
      },
      "source": [
        "<a href=\"https://colab.research.google.com/github/francomanca93/fundamentos-de-estadistica-con-python/blob/basico/Conceptos%20b%C3%A1sicos%20del%20curso/1_Conceptos_b%C3%A1sicos.ipynb\" target=\"_parent\"><img src=\"https://colab.research.google.com/assets/colab-badge.svg\" alt=\"Open In Colab\"/></a>"
      ]
    },
    {
      "cell_type": "markdown",
      "metadata": {
        "id": "6gekj6OfLd4n",
        "colab_type": "text"
      },
      "source": [
        "# Conceptos básicos"
      ]
    },
    {
      "cell_type": "markdown",
      "metadata": {
        "id": "lWSSz6U7LlUx",
        "colab_type": "text"
      },
      "source": [
        "Hagamos un primer \"Hola mundo\" en Collab"
      ]
    },
    {
      "cell_type": "code",
      "metadata": {
        "id": "dQI3qrq67NNK",
        "colab_type": "code",
        "colab": {
          "base_uri": "https://localhost:8080/",
          "height": 34
        },
        "outputId": "3f9e5e34-c398-4f9c-d085-f382d2870d73"
      },
      "source": [
        "print('Hola Mundo')"
      ],
      "execution_count": 1,
      "outputs": [
        {
          "output_type": "stream",
          "text": [
            "Hola Mundo\n"
          ],
          "name": "stdout"
        }
      ]
    },
    {
      "cell_type": "markdown",
      "metadata": {
        "id": "w2EKXj5nLq7N",
        "colab_type": "text"
      },
      "source": [
        "Montemos nuestro google Drive para poder importar archivos."
      ]
    },
    {
      "cell_type": "code",
      "metadata": {
        "id": "fmcDrjXd7_U-",
        "colab_type": "code",
        "colab": {
          "base_uri": "https://localhost:8080/",
          "height": 124
        },
        "outputId": "9bcd9ac8-b4e6-4670-ecd9-d3245d6477b3"
      },
      "source": [
        "#Montamos Drive\n",
        "from google.colab import drive\n",
        "drive.mount('/content/drive')"
      ],
      "execution_count": 2,
      "outputs": [
        {
          "output_type": "stream",
          "text": [
            "Go to this URL in a browser: https://accounts.google.com/o/oauth2/auth?client_id=947318989803-6bn6qk8qdgf4n4g3pfee6491hc0brc4i.apps.googleusercontent.com&redirect_uri=urn%3aietf%3awg%3aoauth%3a2.0%3aoob&scope=email%20https%3a%2f%2fwww.googleapis.com%2fauth%2fdocs.test%20https%3a%2f%2fwww.googleapis.com%2fauth%2fdrive%20https%3a%2f%2fwww.googleapis.com%2fauth%2fdrive.photos.readonly%20https%3a%2f%2fwww.googleapis.com%2fauth%2fpeopleapi.readonly&response_type=code\n",
            "\n",
            "Enter your authorization code:\n",
            "··········\n",
            "Mounted at /content/drive\n"
          ],
          "name": "stdout"
        }
      ]
    },
    {
      "cell_type": "markdown",
      "metadata": {
        "id": "azZnB1PPLwZg",
        "colab_type": "text"
      },
      "source": [
        "Navegamos hasta la carpeta contenedora y luego ingresamos a ella."
      ]
    },
    {
      "cell_type": "code",
      "metadata": {
        "id": "EiDb04sw8jcY",
        "colab_type": "code",
        "colab": {
          "base_uri": "https://localhost:8080/",
          "height": 34
        },
        "outputId": "c3201c43-7c91-4682-b16e-6906dfa104aa"
      },
      "source": [
        "ls '/content/drive/My Drive/Colab Notebooks/fundamentos-de-estadistica-con-python/datos/'"
      ],
      "execution_count": 3,
      "outputs": [
        {
          "output_type": "stream",
          "text": [
            "bicicletas-compartidas.csv  datos_profesora.py  \u001b[0m\u001b[01;34m__pycache__\u001b[0m/\n"
          ],
          "name": "stdout"
        }
      ]
    },
    {
      "cell_type": "code",
      "metadata": {
        "id": "LYkMAVFK8zpM",
        "colab_type": "code",
        "colab": {
          "base_uri": "https://localhost:8080/",
          "height": 34
        },
        "outputId": "7e08d849-7adc-45f9-a112-87121b5027bb"
      },
      "source": [
        "cd '/content/drive/My Drive/Colab Notebooks/fundamentos-de-estadistica-con-python/datos/'"
      ],
      "execution_count": 4,
      "outputs": [
        {
          "output_type": "stream",
          "text": [
            "/content/drive/My Drive/Colab Notebooks/fundamentos-de-estadistica-con-python/datos\n"
          ],
          "name": "stdout"
        }
      ]
    },
    {
      "cell_type": "code",
      "metadata": {
        "id": "l0H3ivDv9eQO",
        "colab_type": "code",
        "colab": {}
      },
      "source": [
        "#Llamamos a los datos de la profesora\n",
        "%run '/content/drive/My Drive/Colab Notebooks/fundamentos-de-estadistica-con-python/datos/datos_profesora.py'"
      ],
      "execution_count": 5,
      "outputs": []
    },
    {
      "cell_type": "code",
      "metadata": {
        "id": "T13SGbWc9xMN",
        "colab_type": "code",
        "colab": {}
      },
      "source": [
        "import datos_profesora"
      ],
      "execution_count": 6,
      "outputs": []
    },
    {
      "cell_type": "code",
      "metadata": {
        "id": "xv3o499y9y4C",
        "colab_type": "code",
        "colab": {
          "base_uri": "https://localhost:8080/",
          "height": 35
        },
        "outputId": "18c2e884-bab2-436a-ce63-b3235c285ccf"
      },
      "source": [
        "datos_profesora.MASCOTAS"
      ],
      "execution_count": 7,
      "outputs": [
        {
          "output_type": "execute_result",
          "data": {
            "application/vnd.google.colaboratory.intrinsic+json": {
              "type": "string"
            },
            "text/plain": [
              "'Dos extraños gatos'"
            ]
          },
          "metadata": {
            "tags": []
          },
          "execution_count": 7
        }
      ]
    },
    {
      "cell_type": "markdown",
      "metadata": {
        "id": "dzCoJDFIFFhe",
        "colab_type": "text"
      },
      "source": [
        "El módulo OS (Operative System) de python tiene como propósito darnos acceso a funcionalidades dependientes del sistema operativo, aquellas funcionalidades nos permiten manipular la estrucutra de directorios. [Referencia oficial OS](https://docs.python.org/3/library/os.html)\n",
        "\n",
        "Para ver una guía breve de cómo cargar librerías en pyton: [Haciendo Import](https://realpython.com/absolute-vs-relative-python-imports/)"
      ]
    },
    {
      "cell_type": "code",
      "metadata": {
        "id": "mX-DaK_t-Cl2",
        "colab_type": "code",
        "colab": {
          "base_uri": "https://localhost:8080/",
          "height": 35
        },
        "outputId": "03aa8f4d-2578-4abc-d11f-5a2fe9bddaee"
      },
      "source": [
        "# Datos de las fuente locales\n",
        "import os \n",
        "os.name  # Nombre del sistema operativo que usamos en colab"
      ],
      "execution_count": 8,
      "outputs": [
        {
          "output_type": "execute_result",
          "data": {
            "application/vnd.google.colaboratory.intrinsic+json": {
              "type": "string"
            },
            "text/plain": [
              "'posix'"
            ]
          },
          "metadata": {
            "tags": []
          },
          "execution_count": 8
        }
      ]
    },
    {
      "cell_type": "markdown",
      "metadata": {
        "id": "HeDGo8AMMs_A",
        "colab_type": "text"
      },
      "source": [
        "Obtenemos nombre del directorio donde nos encontramos"
      ]
    },
    {
      "cell_type": "code",
      "metadata": {
        "id": "Q_X8qQNZ-XDa",
        "colab_type": "code",
        "colab": {
          "base_uri": "https://localhost:8080/",
          "height": 35
        },
        "outputId": "96fb2215-b630-4c0e-c11f-e41fc5d298ce"
      },
      "source": [
        "os.getcwd()"
      ],
      "execution_count": 9,
      "outputs": [
        {
          "output_type": "execute_result",
          "data": {
            "application/vnd.google.colaboratory.intrinsic+json": {
              "type": "string"
            },
            "text/plain": [
              "'/content/drive/My Drive/Colab Notebooks/fundamentos-de-estadistica-con-python/datos'"
            ]
          },
          "metadata": {
            "tags": []
          },
          "execution_count": 9
        }
      ]
    },
    {
      "cell_type": "markdown",
      "metadata": {
        "id": "EhlCFGLJMxp2",
        "colab_type": "text"
      },
      "source": [
        "Podemos listar archivos dentro del directorio donde nos encontramos"
      ]
    },
    {
      "cell_type": "code",
      "metadata": {
        "id": "7gcBIhYN-b4-",
        "colab_type": "code",
        "colab": {
          "base_uri": "https://localhost:8080/",
          "height": 34
        },
        "outputId": "59fbcf80-466b-4eac-ee2e-77a95e84ad70"
      },
      "source": [
        "os.listdir('.')"
      ],
      "execution_count": 10,
      "outputs": [
        {
          "output_type": "execute_result",
          "data": {
            "text/plain": [
              "['datos_profesora.py', '__pycache__', 'bicicletas-compartidas.csv']"
            ]
          },
          "metadata": {
            "tags": []
          },
          "execution_count": 10
        }
      ]
    },
    {
      "cell_type": "markdown",
      "metadata": {
        "id": "BbPxXQQNM1lZ",
        "colab_type": "text"
      },
      "source": [
        "Copiamos el path y trabajamos con el"
      ]
    },
    {
      "cell_type": "code",
      "metadata": {
        "id": "KYrRWX41-f6j",
        "colab_type": "code",
        "colab": {}
      },
      "source": [
        "path = '/content/drive/My Drive/Colab Notebooks/fundamentos-de-estadistica-con-python/datos'"
      ],
      "execution_count": 11,
      "outputs": []
    },
    {
      "cell_type": "code",
      "metadata": {
        "id": "VMjVM1dD-s07",
        "colab_type": "code",
        "colab": {}
      },
      "source": [
        "os.chdir(path)"
      ],
      "execution_count": 12,
      "outputs": []
    },
    {
      "cell_type": "code",
      "metadata": {
        "id": "q6PpI2wX-vNL",
        "colab_type": "code",
        "colab": {
          "base_uri": "https://localhost:8080/",
          "height": 35
        },
        "outputId": "bbcae540-700a-4b1b-de3a-dda8c7dd9c37"
      },
      "source": [
        "os.getcwd()"
      ],
      "execution_count": 13,
      "outputs": [
        {
          "output_type": "execute_result",
          "data": {
            "application/vnd.google.colaboratory.intrinsic+json": {
              "type": "string"
            },
            "text/plain": [
              "'/content/drive/My Drive/Colab Notebooks/fundamentos-de-estadistica-con-python/datos'"
            ]
          },
          "metadata": {
            "tags": []
          },
          "execution_count": 13
        }
      ]
    },
    {
      "cell_type": "markdown",
      "metadata": {
        "id": "ItK4sp__M8Cx",
        "colab_type": "text"
      },
      "source": [
        "Importamos dataset con pandas"
      ]
    },
    {
      "cell_type": "code",
      "metadata": {
        "id": "xyU01Gl4-xPC",
        "colab_type": "code",
        "colab": {}
      },
      "source": [
        "import pandas as pd\n",
        "\n",
        "df = pd.read_csv('bicicletas-compartidas.csv')"
      ],
      "execution_count": 14,
      "outputs": []
    },
    {
      "cell_type": "code",
      "metadata": {
        "id": "RczHosNQB49q",
        "colab_type": "code",
        "colab": {
          "base_uri": "https://localhost:8080/",
          "height": 206
        },
        "outputId": "3a13117b-8895-4f50-b601-cd174ee6a522"
      },
      "source": [
        "df.head()"
      ],
      "execution_count": 15,
      "outputs": [
        {
          "output_type": "execute_result",
          "data": {
            "text/html": [
              "<div>\n",
              "<style scoped>\n",
              "    .dataframe tbody tr th:only-of-type {\n",
              "        vertical-align: middle;\n",
              "    }\n",
              "\n",
              "    .dataframe tbody tr th {\n",
              "        vertical-align: top;\n",
              "    }\n",
              "\n",
              "    .dataframe thead th {\n",
              "        text-align: right;\n",
              "    }\n",
              "</style>\n",
              "<table border=\"1\" class=\"dataframe\">\n",
              "  <thead>\n",
              "    <tr style=\"text-align: right;\">\n",
              "      <th></th>\n",
              "      <th>fecha</th>\n",
              "      <th>bicis-compartidas</th>\n",
              "      <th>temp-obs</th>\n",
              "      <th>sens-temp</th>\n",
              "      <th>hum</th>\n",
              "      <th>viento</th>\n",
              "      <th>codigo-clima</th>\n",
              "      <th>festivo</th>\n",
              "      <th>findesemana</th>\n",
              "      <th>cuartil-ano</th>\n",
              "    </tr>\n",
              "  </thead>\n",
              "  <tbody>\n",
              "    <tr>\n",
              "      <th>0</th>\n",
              "      <td>2015-01-04 00:00:00</td>\n",
              "      <td>182</td>\n",
              "      <td>3.0</td>\n",
              "      <td>2.0</td>\n",
              "      <td>93.0</td>\n",
              "      <td>6.0</td>\n",
              "      <td>3.0</td>\n",
              "      <td>0.0</td>\n",
              "      <td>1.0</td>\n",
              "      <td>3.0</td>\n",
              "    </tr>\n",
              "    <tr>\n",
              "      <th>1</th>\n",
              "      <td>2015-01-04 01:00:00</td>\n",
              "      <td>138</td>\n",
              "      <td>3.0</td>\n",
              "      <td>2.5</td>\n",
              "      <td>93.0</td>\n",
              "      <td>5.0</td>\n",
              "      <td>1.0</td>\n",
              "      <td>0.0</td>\n",
              "      <td>1.0</td>\n",
              "      <td>3.0</td>\n",
              "    </tr>\n",
              "    <tr>\n",
              "      <th>2</th>\n",
              "      <td>2015-01-04 02:00:00</td>\n",
              "      <td>134</td>\n",
              "      <td>2.5</td>\n",
              "      <td>2.5</td>\n",
              "      <td>96.5</td>\n",
              "      <td>0.0</td>\n",
              "      <td>1.0</td>\n",
              "      <td>0.0</td>\n",
              "      <td>1.0</td>\n",
              "      <td>3.0</td>\n",
              "    </tr>\n",
              "    <tr>\n",
              "      <th>3</th>\n",
              "      <td>2015-01-04 03:00:00</td>\n",
              "      <td>72</td>\n",
              "      <td>2.0</td>\n",
              "      <td>2.0</td>\n",
              "      <td>100.0</td>\n",
              "      <td>0.0</td>\n",
              "      <td>1.0</td>\n",
              "      <td>0.0</td>\n",
              "      <td>1.0</td>\n",
              "      <td>3.0</td>\n",
              "    </tr>\n",
              "    <tr>\n",
              "      <th>4</th>\n",
              "      <td>2015-01-04 04:00:00</td>\n",
              "      <td>47</td>\n",
              "      <td>2.0</td>\n",
              "      <td>0.0</td>\n",
              "      <td>93.0</td>\n",
              "      <td>6.5</td>\n",
              "      <td>1.0</td>\n",
              "      <td>0.0</td>\n",
              "      <td>1.0</td>\n",
              "      <td>3.0</td>\n",
              "    </tr>\n",
              "  </tbody>\n",
              "</table>\n",
              "</div>"
            ],
            "text/plain": [
              "                 fecha  bicis-compartidas  ...  findesemana  cuartil-ano\n",
              "0  2015-01-04 00:00:00                182  ...          1.0          3.0\n",
              "1  2015-01-04 01:00:00                138  ...          1.0          3.0\n",
              "2  2015-01-04 02:00:00                134  ...          1.0          3.0\n",
              "3  2015-01-04 03:00:00                 72  ...          1.0          3.0\n",
              "4  2015-01-04 04:00:00                 47  ...          1.0          3.0\n",
              "\n",
              "[5 rows x 10 columns]"
            ]
          },
          "metadata": {
            "tags": []
          },
          "execution_count": 15
        }
      ]
    },
    {
      "cell_type": "code",
      "metadata": {
        "id": "dUAlzrY5CE-U",
        "colab_type": "code",
        "colab": {
          "base_uri": "https://localhost:8080/",
          "height": 69
        },
        "outputId": "85aa14fe-3004-45dd-9fce-0ea641093380"
      },
      "source": [
        "df.columns"
      ],
      "execution_count": 16,
      "outputs": [
        {
          "output_type": "execute_result",
          "data": {
            "text/plain": [
              "Index(['fecha', 'bicis-compartidas', 'temp-obs', 'sens-temp', 'hum', 'viento',\n",
              "       'codigo-clima', 'festivo', 'findesemana', 'cuartil-ano'],\n",
              "      dtype='object')"
            ]
          },
          "metadata": {
            "tags": []
          },
          "execution_count": 16
        }
      ]
    },
    {
      "cell_type": "code",
      "metadata": {
        "id": "4er_EtMjCLic",
        "colab_type": "code",
        "colab": {
          "base_uri": "https://localhost:8080/",
          "height": 34
        },
        "outputId": "640dcc31-3adc-4cf1-c29f-18a2aca57000"
      },
      "source": [
        "df.shape"
      ],
      "execution_count": 17,
      "outputs": [
        {
          "output_type": "execute_result",
          "data": {
            "text/plain": [
              "(17414, 10)"
            ]
          },
          "metadata": {
            "tags": []
          },
          "execution_count": 17
        }
      ]
    },
    {
      "cell_type": "markdown",
      "metadata": {
        "id": "TIiinxSmNGx-",
        "colab_type": "text"
      },
      "source": [
        "Este ejemplo tiene como propósito evidenciar que es posible importar información desde otras fuentes."
      ]
    },
    {
      "cell_type": "code",
      "metadata": {
        "id": "uh-R4xb_CN2k",
        "colab_type": "code",
        "colab": {}
      },
      "source": [
        "import tensorflow as tf"
      ],
      "execution_count": 18,
      "outputs": []
    },
    {
      "cell_type": "markdown",
      "metadata": {
        "id": "pEpxZkGyDtKD",
        "colab_type": "text"
      },
      "source": [
        "Carguemos un dataset de ejemplo de la libreria de tensorflow. La libreria se llama fashion_mnist. Lo que haremos será cargar las imagenes y las categorias del dataset."
      ]
    },
    {
      "cell_type": "code",
      "metadata": {
        "id": "81brOJohCYYV",
        "colab_type": "code",
        "colab": {
          "base_uri": "https://localhost:8080/",
          "height": 156
        },
        "outputId": "583612d0-5986-452e-9d66-432b538a4aa3"
      },
      "source": [
        "fashion_mnist = tf.keras.datasets.fashion_mnist\n",
        "(imagenes, categorias) = fashion_mnist.load_data()[0]"
      ],
      "execution_count": 19,
      "outputs": [
        {
          "output_type": "stream",
          "text": [
            "Downloading data from https://storage.googleapis.com/tensorflow/tf-keras-datasets/train-labels-idx1-ubyte.gz\n",
            "32768/29515 [=================================] - 0s 0us/step\n",
            "Downloading data from https://storage.googleapis.com/tensorflow/tf-keras-datasets/train-images-idx3-ubyte.gz\n",
            "26427392/26421880 [==============================] - 0s 0us/step\n",
            "Downloading data from https://storage.googleapis.com/tensorflow/tf-keras-datasets/t10k-labels-idx1-ubyte.gz\n",
            "8192/5148 [===============================================] - 0s 0us/step\n",
            "Downloading data from https://storage.googleapis.com/tensorflow/tf-keras-datasets/t10k-images-idx3-ubyte.gz\n",
            "4423680/4422102 [==============================] - 0s 0us/step\n"
          ],
          "name": "stdout"
        }
      ]
    },
    {
      "cell_type": "markdown",
      "metadata": {
        "id": "UuDArDzFDos9",
        "colab_type": "text"
      },
      "source": [
        "Podemos ver el tamaño del array con shape. "
      ]
    },
    {
      "cell_type": "code",
      "metadata": {
        "id": "oRPye9wUCo4Y",
        "colab_type": "code",
        "colab": {
          "base_uri": "https://localhost:8080/",
          "height": 34
        },
        "outputId": "e82d2ca2-6a87-48fc-ee1f-35f9f2c8ea3e"
      },
      "source": [
        "imagenes.shape"
      ],
      "execution_count": 20,
      "outputs": [
        {
          "output_type": "execute_result",
          "data": {
            "text/plain": [
              "(60000, 28, 28)"
            ]
          },
          "metadata": {
            "tags": []
          },
          "execution_count": 20
        }
      ]
    },
    {
      "cell_type": "markdown",
      "metadata": {
        "id": "bAFnePxKDKSR",
        "colab_type": "text"
      },
      "source": [
        "Podemos ver el tamaño de mi arreglo y llamo a categorias o tags para poder generar patrones."
      ]
    },
    {
      "cell_type": "code",
      "metadata": {
        "id": "DRM5qtFXC2lq",
        "colab_type": "code",
        "colab": {
          "base_uri": "https://localhost:8080/",
          "height": 34
        },
        "outputId": "f3721d28-8ca7-4820-c75f-b1fc982caedc"
      },
      "source": [
        "imagenes[0].shape, categorias[0]"
      ],
      "execution_count": 21,
      "outputs": [
        {
          "output_type": "execute_result",
          "data": {
            "text/plain": [
              "((28, 28), 9)"
            ]
          },
          "metadata": {
            "tags": []
          },
          "execution_count": 21
        }
      ]
    }
  ]
}