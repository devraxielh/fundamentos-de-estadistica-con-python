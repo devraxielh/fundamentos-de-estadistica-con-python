{
  "nbformat": 4,
  "nbformat_minor": 0,
  "metadata": {
    "colab": {
      "name": "2.Conceptos clave sobre estadística.ipynb",
      "provenance": [],
      "authorship_tag": "ABX9TyOeh3kuYcxeEMKZ5JQLZefd",
      "include_colab_link": true
    },
    "kernelspec": {
      "name": "python3",
      "display_name": "Python 3"
    }
  },
  "cells": [
    {
      "cell_type": "markdown",
      "metadata": {
        "id": "view-in-github",
        "colab_type": "text"
      },
      "source": [
        "<a href=\"https://colab.research.google.com/github/francomanca93/fundamentos-de-estadistica-con-python/blob/basico/Conceptos%20b%C3%A1sicos%20del%20curso/2_Conceptos_clave_sobre_estad%C3%ADstica.ipynb\" target=\"_parent\"><img src=\"https://colab.research.google.com/assets/colab-badge.svg\" alt=\"Open In Colab\"/></a>"
      ]
    },
    {
      "cell_type": "markdown",
      "metadata": {
        "id": "BH9Rf08AShIr",
        "colab_type": "text"
      },
      "source": [
        "# Conceptos clave sobre estadística\n",
        "\n",
        "1. **Tipos de datos**:\n",
        "\n",
        "- **Numéricos**\n",
        "\n",
        "    Valores continuos, porcentajes y enteros\n",
        "\n",
        "- **Categóricos**\n",
        "\n",
        "    Categóricas ordinales (fechas, estratos) y clases sin sentido ordinal (Países o colores).\n",
        "\n",
        "\n",
        "2. **Variables deterministicas vs variables aleatorias**\n",
        "\n",
        "- Determinista: Asume un valor puntual.\n",
        "- Incertidummbre\n",
        "- Aleatoriedad: Puede tomar una serie de valores, pero conocemos todos los valores posibles, que puede tomar una variable aleatoria.\n",
        "\n",
        "**Experimento o fenómeno determinista**: al repetirlo en idénticas condiciones se obtiene el mismo resultado. \n",
        "\n",
        "**Experimento o fenómeno aleatorio**: si lo repetimos con las mismas condiciones iniciales no garantiza los mismos resultados.\n",
        "\n",
        "La estadística se ocupa de aquellos fenómenos no deterministas donde es imposible predecir los resultados.\n",
        "\n",
        "3. Cálculo de probabilidad en aleatorias univaridas:\n",
        "\n",
        "![Calculo de probabilidad](https://imgur.com/bZNMhGx.png)\n",
        "\n",
        "![Formula de probabilidad](https://imgur.com/KBJJfOj.png)\n",
        "\n",
        "\n",
        "Todos los eventos son equiprobables\n",
        "\n",
        "La suma de todos deben dar:\n",
        "\n",
        "0 < p(a) < 1\n"
      ]
    },
    {
      "cell_type": "markdown",
      "metadata": {
        "id": "G0ZWtxLURR5D",
        "colab_type": "text"
      },
      "source": [
        "Empecemos cargando las librerias mas importantes para empezar con el analisis"
      ]
    },
    {
      "cell_type": "code",
      "metadata": {
        "id": "YXVQdOLLSeLi",
        "colab_type": "code",
        "colab": {}
      },
      "source": [
        "import numpy as np\n",
        "import datetime\n",
        "from datetime import date"
      ],
      "execution_count": null,
      "outputs": []
    },
    {
      "cell_type": "markdown",
      "metadata": {
        "id": "ywDJzwMrs4Dg",
        "colab_type": "text"
      },
      "source": [
        "En python, con la función type() podemos saber el tipo de datos"
      ]
    },
    {
      "cell_type": "code",
      "metadata": {
        "id": "zkwjDwjQRi1d",
        "colab_type": "code",
        "colab": {
          "base_uri": "https://localhost:8080/",
          "height": 34
        },
        "outputId": "f78bbcf2-8f3f-431e-8c7c-ff6402e74223"
      },
      "source": [
        "type('1')\n",
        "type(0)\n",
        "type(1.1)"
      ],
      "execution_count": null,
      "outputs": [
        {
          "output_type": "execute_result",
          "data": {
            "text/plain": [
              "float"
            ]
          },
          "metadata": {
            "tags": []
          },
          "execution_count": 5
        }
      ]
    },
    {
      "cell_type": "markdown",
      "metadata": {
        "id": "ye_8Lh1utAdI",
        "colab_type": "text"
      },
      "source": [
        "En python podemos hacer calculos sencillos sin necesidad de exportar ningun módulo adicional"
      ]
    },
    {
      "cell_type": "code",
      "metadata": {
        "id": "LRRhWGWwspFU",
        "colab_type": "code",
        "colab": {
          "base_uri": "https://localhost:8080/",
          "height": 34
        },
        "outputId": "56806830-96a3-440e-ea5a-7277b7d7eac9"
      },
      "source": [
        "1 + 1 # Suma\n",
        "1 - 1 # Resta\n",
        "1/2 # Division\n",
        "3%2 # Modulo\n",
        "3**2 # Potencia\n",
        "3*2 # Multiplicacion"
      ],
      "execution_count": null,
      "outputs": [
        {
          "output_type": "execute_result",
          "data": {
            "text/plain": [
              "6"
            ]
          },
          "metadata": {
            "tags": []
          },
          "execution_count": 6
        }
      ]
    },
    {
      "cell_type": "markdown",
      "metadata": {
        "id": "eJwWl1K-tpiP",
        "colab_type": "text"
      },
      "source": [
        "Tambien podemos hacer comparaciones y operaciones booleanas"
      ]
    },
    {
      "cell_type": "code",
      "metadata": {
        "id": "ZTrTwGVXtN31",
        "colab_type": "code",
        "colab": {
          "base_uri": "https://localhost:8080/",
          "height": 34
        },
        "outputId": "7422e6df-5d6c-422e-b538-11482c38ee5e"
      },
      "source": [
        "(1 > 2) & (1 < 2) # Comparacion y operador booleano and\n",
        "(1 > 2) | (1 < 2) # Comparacion y operador booleano and"
      ],
      "execution_count": null,
      "outputs": [
        {
          "output_type": "execute_result",
          "data": {
            "text/plain": [
              "True"
            ]
          },
          "metadata": {
            "tags": []
          },
          "execution_count": 8
        }
      ]
    },
    {
      "cell_type": "markdown",
      "metadata": {
        "id": "kmdV2rNwtwqv",
        "colab_type": "text"
      },
      "source": [
        "Tenemos otros tipos de datos para almacenar datos"
      ]
    },
    {
      "cell_type": "code",
      "metadata": {
        "id": "Q37Ru-Vjtc5d",
        "colab_type": "code",
        "colab": {
          "base_uri": "https://localhost:8080/",
          "height": 34
        },
        "outputId": "4dbdfa94-be51-4385-bdb5-dd11f5d6b2b6"
      },
      "source": [
        "list_1 = ['1', 0, [1, 2]]\n",
        "list_1[2]"
      ],
      "execution_count": null,
      "outputs": [
        {
          "output_type": "execute_result",
          "data": {
            "text/plain": [
              "[1, 2]"
            ]
          },
          "metadata": {
            "tags": []
          },
          "execution_count": 9
        }
      ]
    },
    {
      "cell_type": "markdown",
      "metadata": {
        "id": "F-URHDojuFC_",
        "colab_type": "text"
      },
      "source": [
        "## Bernoulli"
      ]
    },
    {
      "cell_type": "markdown",
      "metadata": {
        "id": "WDEn-jCqvkrg",
        "colab_type": "text"
      },
      "source": [
        "Supongamos que tenemos dos posibles opciones al tirar una moneda"
      ]
    },
    {
      "cell_type": "code",
      "metadata": {
        "id": "s-BgMG4Yt8mN",
        "colab_type": "code",
        "colab": {}
      },
      "source": [
        "universo = ['cara', 'sello']"
      ],
      "execution_count": null,
      "outputs": []
    },
    {
      "cell_type": "markdown",
      "metadata": {
        "id": "jliKnvzVvpov",
        "colab_type": "text"
      },
      "source": [
        "La probabilidad de que nos toque cara es de 1 entre 2 posibles opciones."
      ]
    },
    {
      "cell_type": "code",
      "metadata": {
        "id": "8Fcf3C2xub00",
        "colab_type": "code",
        "colab": {}
      },
      "source": [
        "p_cara = 1/2"
      ],
      "execution_count": null,
      "outputs": []
    },
    {
      "cell_type": "markdown",
      "metadata": {
        "id": "zShK9Lvrvt49",
        "colab_type": "text"
      },
      "source": [
        "En teoría de probabilidad y estadística, la [distribución de Bernoulli](https://es.wikipedia.org/wiki/Distribuci%C3%B3n_de_Bernoulli) (o distribución dicotómica), nombrada así por el matemático suizo Jacob Bernoulli, es una distribución de probabilidad discreta, que toma valor 1 para la probabilidad de éxito **( p )** y valor 0 para la probabilidad de fracaso **( q = 1 − p )**. \n",
        "\n",
        "Importamos el modulo bernoulli de la libreria de estadistica de scipy.\n"
      ]
    },
    {
      "cell_type": "code",
      "metadata": {
        "id": "cv6ZOBv1ufQv",
        "colab_type": "code",
        "colab": {}
      },
      "source": [
        "from scipy.stats import bernoulli"
      ],
      "execution_count": null,
      "outputs": []
    },
    {
      "cell_type": "markdown",
      "metadata": {
        "id": "RRWlf8SB2x7f",
        "colab_type": "text"
      },
      "source": [
        "Del modulo bernoulli usamos la funcion rvs(), **random variable sample**. "
      ]
    },
    {
      "cell_type": "code",
      "metadata": {
        "id": "dehgG78C2HFI",
        "colab_type": "code",
        "colab": {
          "base_uri": "https://localhost:8080/",
          "height": 35
        },
        "outputId": "53d41624-1d46-4af3-ddfc-8fdc9f7f3d2a"
      },
      "source": [
        "valor = bernoulli.rvs(p=p_cara)\n",
        "universo[valor]"
      ],
      "execution_count": null,
      "outputs": [
        {
          "output_type": "execute_result",
          "data": {
            "application/vnd.google.colaboratory.intrinsic+json": {
              "type": "string"
            },
            "text/plain": [
              "'cara'"
            ]
          },
          "metadata": {
            "tags": []
          },
          "execution_count": 22
        }
      ]
    },
    {
      "cell_type": "markdown",
      "metadata": {
        "id": "gJpJLObGv0w9",
        "colab_type": "text"
      },
      "source": [
        "Con el parámetro size me devuelve un array de los n lanzamientos ejecutados, sirve para repetir varias veces el experimento.\n"
      ]
    },
    {
      "cell_type": "code",
      "metadata": {
        "id": "w-EJxtl6utzv",
        "colab_type": "code",
        "colab": {
          "base_uri": "https://localhost:8080/",
          "height": 34
        },
        "outputId": "ad177074-d132-4913-9a10-9dd28d03bab5"
      },
      "source": [
        "bernoulli.rvs(p=p_cara, size=10)"
      ],
      "execution_count": null,
      "outputs": [
        {
          "output_type": "execute_result",
          "data": {
            "text/plain": [
              "array([1, 0, 0, 1, 0, 0, 0, 1, 1, 0])"
            ]
          },
          "metadata": {
            "tags": []
          },
          "execution_count": 26
        }
      ]
    },
    {
      "cell_type": "markdown",
      "metadata": {
        "id": "oMDGrLt_V6Hq",
        "colab_type": "text"
      },
      "source": [
        "## Distribucion binomial"
      ]
    },
    {
      "cell_type": "markdown",
      "metadata": {
        "id": "OssWPdGS2ejm",
        "colab_type": "text"
      },
      "source": [
        "Podemos sumar la cantidad de valores True obtenidos de una distribucion aleatorio de bernoulli"
      ]
    },
    {
      "cell_type": "code",
      "metadata": {
        "id": "ZVHO_rFUu_ka",
        "colab_type": "code",
        "colab": {
          "base_uri": "https://localhost:8080/",
          "height": 34
        },
        "outputId": "52c7bdd6-3317-49ac-ea93-48e2f8e9a799"
      },
      "source": [
        "sum(bernoulli.rvs(p=p_cara, size=10))"
      ],
      "execution_count": null,
      "outputs": [
        {
          "output_type": "execute_result",
          "data": {
            "text/plain": [
              "4"
            ]
          },
          "metadata": {
            "tags": []
          },
          "execution_count": 24
        }
      ]
    },
    {
      "cell_type": "markdown",
      "metadata": {
        "id": "1Ac8narq3bMb",
        "colab_type": "text"
      },
      "source": [
        "Esto es variable importante, es la [distribucion binomial](https://es.wikipedia.org/wiki/Distribuci%C3%B3n_binomial)\n",
        "\n",
        "\n",
        "La distribución binomial es una distribución de probabilidad discreta que cuenta el número de éxitos en una secuencia de n ensayos de Bernoulli independientes entre sí, con una probabilidad fija p de ocurrencia del éxito entre los ensayos. \n",
        "\n",
        "En resumen: Es una suma de n experimentos independientes de Bernoulli.\n",
        "\n",
        "Tambien lo podemos hacer con un módulo especifico de la librerias de estadisticas de scipy."
      ]
    },
    {
      "cell_type": "code",
      "metadata": {
        "id": "fDQm_70x2UaC",
        "colab_type": "code",
        "colab": {}
      },
      "source": [
        "from scipy.stats import binom"
      ],
      "execution_count": null,
      "outputs": []
    },
    {
      "cell_type": "markdown",
      "metadata": {
        "id": "cAdCpWBd4VKk",
        "colab_type": "text"
      },
      "source": [
        "Generemos una muestra, pero ahora de la variable Bernoulli y repetimos el experimeno 100 veces. "
      ]
    },
    {
      "cell_type": "code",
      "metadata": {
        "id": "hg6fgtjl2sxv",
        "colab_type": "code",
        "colab": {
          "base_uri": "https://localhost:8080/",
          "height": 104
        },
        "outputId": "fe59b7a1-85d8-419d-c879-5a7f70a31f63"
      },
      "source": [
        "binom.rvs(p=p_cara, n = 10, size = 100)"
      ],
      "execution_count": null,
      "outputs": [
        {
          "output_type": "execute_result",
          "data": {
            "text/plain": [
              "array([6, 6, 5, 4, 4, 5, 7, 6, 6, 7, 5, 4, 5, 6, 5, 9, 1, 5, 5, 4, 7, 4,\n",
              "       3, 7, 4, 4, 4, 6, 2, 4, 5, 5, 1, 6, 4, 3, 5, 7, 4, 4, 6, 5, 5, 2,\n",
              "       4, 2, 6, 7, 6, 2, 5, 7, 4, 3, 5, 3, 4, 5, 5, 4, 7, 8, 6, 4, 7, 4,\n",
              "       6, 3, 5, 5, 5, 4, 6, 2, 4, 3, 3, 3, 7, 6, 5, 3, 6, 3, 8, 5, 6, 7,\n",
              "       3, 6, 5, 3, 5, 3, 4, 3, 3, 5, 8, 9])"
            ]
          },
          "metadata": {
            "tags": []
          },
          "execution_count": 28
        }
      ]
    },
    {
      "cell_type": "markdown",
      "metadata": {
        "id": "f_Bh5DtH4-8H",
        "colab_type": "text"
      },
      "source": [
        "Con esto podemos ver que algunos valores se repiten con mayor frecuencia dentro de la prueba que otros. Esto nos lleva al concepto de una distribucion de probabilidad, donde algunos valores van a aparecer con mayor frecuencia dentro de la distribucion.\n",
        "\n",
        "Esto a modo de generar una intuicion estadistica de los posibles valores que va a tomar un experimento vamos a generar un dataframe."
      ]
    },
    {
      "cell_type": "code",
      "metadata": {
        "id": "hXum31ck4fZX",
        "colab_type": "code",
        "colab": {}
      },
      "source": [
        "import pandas as pd"
      ],
      "execution_count": null,
      "outputs": []
    },
    {
      "cell_type": "code",
      "metadata": {
        "id": "ZIG0eNLd5tRN",
        "colab_type": "code",
        "colab": {
          "base_uri": "https://localhost:8080/",
          "height": 173
        },
        "outputId": "b6eb0c06-3c3c-4b3b-b2b7-d4f62213ba91"
      },
      "source": [
        "pd.Series(binom.rvs(p=p_cara, n = 10, size = 100)).value_counts()"
      ],
      "execution_count": null,
      "outputs": [
        {
          "output_type": "execute_result",
          "data": {
            "text/plain": [
              "4    25\n",
              "6    21\n",
              "5    18\n",
              "3    13\n",
              "7    11\n",
              "8     6\n",
              "2     5\n",
              "9     1\n",
              "dtype: int64"
            ]
          },
          "metadata": {
            "tags": []
          },
          "execution_count": 34
        }
      ]
    },
    {
      "cell_type": "markdown",
      "metadata": {
        "id": "5j4e9T856GZ8",
        "colab_type": "text"
      },
      "source": [
        "Si quisieramos convertir lo anterior en una probabilidad deberiamos devidir por la cantidad de casos evaluados."
      ]
    },
    {
      "cell_type": "code",
      "metadata": {
        "id": "JUPZ2hCg5ybO",
        "colab_type": "code",
        "colab": {
          "base_uri": "https://localhost:8080/",
          "height": 191
        },
        "outputId": "fdbb7d03-1779-405e-a98b-5ad76f7dafc2"
      },
      "source": [
        "pd.Series(binom.rvs(p=p_cara, n = 10, size = 100)).value_counts()/100"
      ],
      "execution_count": null,
      "outputs": [
        {
          "output_type": "execute_result",
          "data": {
            "text/plain": [
              "4    0.23\n",
              "5    0.22\n",
              "7    0.18\n",
              "6    0.15\n",
              "3    0.12\n",
              "8    0.04\n",
              "9    0.02\n",
              "2    0.02\n",
              "1    0.02\n",
              "dtype: float64"
            ]
          },
          "metadata": {
            "tags": []
          },
          "execution_count": 35
        }
      ]
    },
    {
      "cell_type": "code",
      "metadata": {
        "id": "IRCFlmmB6NB-",
        "colab_type": "code",
        "colab": {}
      },
      "source": [
        ""
      ],
      "execution_count": null,
      "outputs": []
    }
  ]
}