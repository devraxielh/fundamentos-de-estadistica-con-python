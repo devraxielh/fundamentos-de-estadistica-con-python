{
  "nbformat": 4,
  "nbformat_minor": 0,
  "metadata": {
    "colab": {
      "name": "4. Diagrama de frecuencias.ipynb",
      "provenance": [],
      "authorship_tag": "ABX9TyNAdmzavnzbTGKUWTJbiacV",
      "include_colab_link": true
    },
    "kernelspec": {
      "name": "python3",
      "display_name": "Python 3"
    }
  },
  "cells": [
    {
      "cell_type": "markdown",
      "metadata": {
        "id": "view-in-github",
        "colab_type": "text"
      },
      "source": [
        "<a href=\"https://colab.research.google.com/github/francomanca93/fundamentos-de-estadistica-con-python/blob/analisis-exploratorio/2.%20Caracterizar%20informaci%C3%B3n%20a%20traves%20del%20an%C3%A1lisis%20exploratorio/4_Diagrama_de_frecuencias.ipynb\" target=\"_parent\"><img src=\"https://colab.research.google.com/assets/colab-badge.svg\" alt=\"Open In Colab\"/></a>"
      ]
    },
    {
      "cell_type": "markdown",
      "metadata": {
        "id": "mwaIigeOsdXs",
        "colab_type": "text"
      },
      "source": [
        "# Diagramas de frecuencias para variables continuas y discretas\n",
        "\n",
        "En estadistica descriptiva tenemos los diagramas de frecuencia o [histogramas](https://es.wikipedia.org/wiki/Histograma), estos es una representación gráfica de una variable en forma de barras, donde la superficie de cada barra es proporcional a la frecuencia de los valores representados.\n",
        "\n",
        "Sirven para obtener una \"primera vista\" general, o panorama, de la distribución de la población, o de la muestra, respecto a una característica, cuantitativa y continua. \n",
        "\n",
        "En resuemn son una representación categórica y numérica de la distribución de los datos. \n",
        "\n",
        "Las variables que podemos representar son:\n",
        "* **Variables categóricas**: Tablas de frecuencia\n",
        "* **Variables numéricas**: percentiles, deciles, quintiles y quartiles, outliers o valores extremos.\n"
      ]
    },
    {
      "cell_type": "markdown",
      "metadata": {
        "id": "77JDZFBvnGIG",
        "colab_type": "text"
      },
      "source": [
        "Importamos librerias que vamos a utilizar"
      ]
    },
    {
      "cell_type": "code",
      "metadata": {
        "id": "t2RifRpkmNWx",
        "colab_type": "code",
        "colab": {}
      },
      "source": [
        "import numpy as np\n",
        "import pandas as pd\n",
        "import scipy\n",
        "import scipy.stats"
      ],
      "execution_count": 1,
      "outputs": []
    },
    {
      "cell_type": "markdown",
      "metadata": {
        "id": "DDxom1ZJnIzL",
        "colab_type": "text"
      },
      "source": [
        "Montamos drive para acceder a la base de datos con la cual vamos a trabajar"
      ]
    },
    {
      "cell_type": "code",
      "metadata": {
        "id": "2MXjszLnmc__",
        "colab_type": "code",
        "colab": {
          "base_uri": "https://localhost:8080/",
          "height": 124
        },
        "outputId": "24f52f1a-3fc1-46a1-e4cf-690fe1c71941"
      },
      "source": [
        "#Montamos Drive\n",
        "from google.colab import drive\n",
        "drive.mount('/content/drive')"
      ],
      "execution_count": 3,
      "outputs": [
        {
          "output_type": "stream",
          "text": [
            "Go to this URL in a browser: https://accounts.google.com/o/oauth2/auth?client_id=947318989803-6bn6qk8qdgf4n4g3pfee6491hc0brc4i.apps.googleusercontent.com&redirect_uri=urn%3aietf%3awg%3aoauth%3a2.0%3aoob&scope=email%20https%3a%2f%2fwww.googleapis.com%2fauth%2fdocs.test%20https%3a%2f%2fwww.googleapis.com%2fauth%2fdrive%20https%3a%2f%2fwww.googleapis.com%2fauth%2fdrive.photos.readonly%20https%3a%2f%2fwww.googleapis.com%2fauth%2fpeopleapi.readonly&response_type=code\n",
            "\n",
            "Enter your authorization code:\n",
            "··········\n",
            "Mounted at /content/drive\n"
          ],
          "name": "stdout"
        }
      ]
    },
    {
      "cell_type": "code",
      "metadata": {
        "id": "zg47_or0mtlO",
        "colab_type": "code",
        "colab": {
          "base_uri": "https://localhost:8080/",
          "height": 34
        },
        "outputId": "1067e418-283f-4b00-bf0b-b8710ac2a60a"
      },
      "source": [
        "ls '/content/drive/My Drive/Colab Notebooks/fundamentos-de-estadistica-con-python/datos/'"
      ],
      "execution_count": 4,
      "outputs": [
        {
          "output_type": "stream",
          "text": [
            "bicicletas-compartidas.csv  datos_profesora.py  \u001b[0m\u001b[01;34m__pycache__\u001b[0m/\n"
          ],
          "name": "stdout"
        }
      ]
    },
    {
      "cell_type": "code",
      "metadata": {
        "id": "qJcu0-okm2lr",
        "colab_type": "code",
        "colab": {
          "base_uri": "https://localhost:8080/",
          "height": 34
        },
        "outputId": "15453b68-51ce-4d45-c321-53dacdfc0a35"
      },
      "source": [
        "cd '/content/drive/My Drive/Colab Notebooks/fundamentos-de-estadistica-con-python/datos/'"
      ],
      "execution_count": 5,
      "outputs": [
        {
          "output_type": "stream",
          "text": [
            "/content/drive/My Drive/Colab Notebooks/fundamentos-de-estadistica-con-python/datos\n"
          ],
          "name": "stdout"
        }
      ]
    },
    {
      "cell_type": "code",
      "metadata": {
        "id": "aNgFyWAbm39k",
        "colab_type": "code",
        "colab": {
          "base_uri": "https://localhost:8080/",
          "height": 69
        },
        "outputId": "82ff7345-8cd1-4449-f45e-fbef328d7522"
      },
      "source": [
        "df = pd.read_csv('bicicletas-compartidas.csv')\n",
        "df.columns"
      ],
      "execution_count": 6,
      "outputs": [
        {
          "output_type": "execute_result",
          "data": {
            "text/plain": [
              "Index(['fecha', 'bicis-compartidas', 'temp-obs', 'sens-temp', 'hum', 'viento',\n",
              "       'codigo-clima', 'festivo', 'findesemana', 'cuartil-ano'],\n",
              "      dtype='object')"
            ]
          },
          "metadata": {
            "tags": []
          },
          "execution_count": 6
        }
      ]
    },
    {
      "cell_type": "markdown",
      "metadata": {
        "id": "y_SBBNUzvS-n",
        "colab_type": "text"
      },
      "source": [
        "## Variables categoricas\n",
        "\n",
        "Vamos a medir la frencuencia para variables categoricas.\n",
        "\n",
        "Vamos a tomar como ejemplo la columna cuartil-ano, es una columna que parece indicar en que parte del año se ha producido algo, diferenciado en cuartiles del mismo."
      ]
    },
    {
      "cell_type": "code",
      "metadata": {
        "id": "a9nen_zNuwli",
        "colab_type": "code",
        "colab": {
          "base_uri": "https://localhost:8080/",
          "height": 225
        },
        "outputId": "17d43ae9-0074-4464-d442-e560c5a1cf8e"
      },
      "source": [
        "ycat = df['cuartil-ano']\n",
        "ycat"
      ],
      "execution_count": 7,
      "outputs": [
        {
          "output_type": "execute_result",
          "data": {
            "text/plain": [
              "0        3.0\n",
              "1        3.0\n",
              "2        3.0\n",
              "3        3.0\n",
              "4        3.0\n",
              "        ... \n",
              "17409    3.0\n",
              "17410    3.0\n",
              "17411    3.0\n",
              "17412    3.0\n",
              "17413    3.0\n",
              "Name: cuartil-ano, Length: 17414, dtype: float64"
            ]
          },
          "metadata": {
            "tags": []
          },
          "execution_count": 7
        }
      ]
    },
    {
      "cell_type": "markdown",
      "metadata": {
        "id": "cZ-vxHO7ymEP",
        "colab_type": "text"
      },
      "source": [
        "Como la variable tiene valores numericos, vamos a transformarla y a darle un nombre diferente para indicar que es una variable categorica."
      ]
    },
    {
      "cell_type": "code",
      "metadata": {
        "id": "BQMN4VTZvf3h",
        "colab_type": "code",
        "colab": {
          "base_uri": "https://localhost:8080/",
          "height": 225
        },
        "outputId": "dcf27718-3b16-4ee5-ef5f-721d8eb0762e"
      },
      "source": [
        "ycat = ycat.apply(lambda x: 'Cat-' + str(int(x)))\n",
        "ycat"
      ],
      "execution_count": 8,
      "outputs": [
        {
          "output_type": "execute_result",
          "data": {
            "text/plain": [
              "0        Cat-3\n",
              "1        Cat-3\n",
              "2        Cat-3\n",
              "3        Cat-3\n",
              "4        Cat-3\n",
              "         ...  \n",
              "17409    Cat-3\n",
              "17410    Cat-3\n",
              "17411    Cat-3\n",
              "17412    Cat-3\n",
              "17413    Cat-3\n",
              "Name: cuartil-ano, Length: 17414, dtype: object"
            ]
          },
          "metadata": {
            "tags": []
          },
          "execution_count": 8
        }
      ]
    },
    {
      "cell_type": "markdown",
      "metadata": {
        "id": "HD1ShwnKy6bS",
        "colab_type": "text"
      },
      "source": [
        "Veamos ahora cuantos valores puede tomar esta variable, ya que son muchos datos y a simple viste no lo podemos saber, tambien la cantidad de los mismo."
      ]
    },
    {
      "cell_type": "code",
      "metadata": {
        "id": "yltCAkzqyRSL",
        "colab_type": "code",
        "colab": {
          "base_uri": "https://localhost:8080/",
          "height": 52
        },
        "outputId": "f4cc4fba-d67b-4b04-c8e0-2c96430b54b5"
      },
      "source": [
        "valores, conteo_freq = np.unique(ycat, return_counts=True)\n",
        "valores, conteo_freq"
      ],
      "execution_count": 10,
      "outputs": [
        {
          "output_type": "execute_result",
          "data": {
            "text/plain": [
              "(array(['Cat-0', 'Cat-1', 'Cat-2', 'Cat-3'], dtype=object),\n",
              " array([4394, 4387, 4303, 4330]))"
            ]
          },
          "metadata": {
            "tags": []
          },
          "execution_count": 10
        }
      ]
    },
    {
      "cell_type": "markdown",
      "metadata": {
        "id": "ZhHOzpg7zPIS",
        "colab_type": "text"
      },
      "source": [
        "Si quisieramos declarar una tabla con estos valores que hemos encontrado, lo podemos hacer de la siguiente manera:"
      ]
    },
    {
      "cell_type": "code",
      "metadata": {
        "id": "TV0Hc2EyzKgc",
        "colab_type": "code",
        "colab": {
          "base_uri": "https://localhost:8080/",
          "height": 34
        },
        "outputId": "bed59453-bd04-4259-bd5f-518db27f56f7"
      },
      "source": [
        "tabla_frecuencia = dict(zip(valores, conteo_freq))\n",
        "tabla_frecuencia"
      ],
      "execution_count": 11,
      "outputs": [
        {
          "output_type": "execute_result",
          "data": {
            "text/plain": [
              "{'Cat-0': 4394, 'Cat-1': 4387, 'Cat-2': 4303, 'Cat-3': 4330}"
            ]
          },
          "metadata": {
            "tags": []
          },
          "execution_count": 11
        }
      ]
    },
    {
      "cell_type": "markdown",
      "metadata": {
        "id": "nzLf1L6rzy3q",
        "colab_type": "text"
      },
      "source": [
        "## Cuantiles\n",
        "\n",
        "Los [cuantiles](https://es.wikipedia.org/wiki/Cuantil) son puntos tomados a intervalos regulares de la función de distribución de una variable aleatoria.\n",
        "\n",
        "Los cuantiles suelen usarse por grupos que dividen la distribución en partes iguales; entendidas estas como intervalos que comprenden la misma proporción de valores. Los más usados son:\n",
        "\n",
        "* Los **cuartiles**, que dividen a la distribución en cuatro partes (corresponden a los cuantiles 0,25; 0,50 y 0,75);\n",
        "* Los **quintiles**, que dividen a la distribución en cinco partes (corresponden a los cuantiles 0,20; 0,40; 0,60 y 0,80);\n",
        "* Los **deciles**, que dividen a la distribución en diez partes;\n",
        "* Los **percentiles**, que dividen a la distribución en cien partes.\n",
        "\n",
        "![cuantiles](https://upload.wikimedia.org/wikipedia/commons/5/5e/Iqr_with_quantile.png)\n",
        "\n",
        "Los cuartiles 0,25; 0,50 y 0,75 de la distribución normal -más conocidos como los cuartiles Q_1, Q_2 y Q_3-, dividen la distribución en cuatro bloques, cada uno de los cuales contiene el 25% de los datos.\n",
        "\n",
        "Veamos ahora como se comporta una variable numerica como habiamos visto antes. \n",
        "\n",
        "Haremos una copia de la variable **viento** y luego obtendremos valores descriptivos de esta variable para analizarla."
      ]
    },
    {
      "cell_type": "code",
      "metadata": {
        "id": "a9b5GeGyzb1C",
        "colab_type": "code",
        "colab": {}
      },
      "source": [
        "ynum = df['viento'].copy()"
      ],
      "execution_count": 12,
      "outputs": []
    },
    {
      "cell_type": "markdown",
      "metadata": {
        "id": "JKup3xRj0TNR",
        "colab_type": "text"
      },
      "source": [
        "Maximo y minimo"
      ]
    },
    {
      "cell_type": "code",
      "metadata": {
        "id": "QmjJIsk90CRg",
        "colab_type": "code",
        "colab": {
          "base_uri": "https://localhost:8080/",
          "height": 34
        },
        "outputId": "929be832-41fe-4894-d65a-986c7e957fc5"
      },
      "source": [
        "np.min(ynum), np.max(ynum)"
      ],
      "execution_count": 13,
      "outputs": [
        {
          "output_type": "execute_result",
          "data": {
            "text/plain": [
              "(0.0, 56.5)"
            ]
          },
          "metadata": {
            "tags": []
          },
          "execution_count": 13
        }
      ]
    },
    {
      "cell_type": "markdown",
      "metadata": {
        "id": "R8KCIHiB3fQZ",
        "colab_type": "text"
      },
      "source": [
        "### Percentiles"
      ]
    },
    {
      "cell_type": "markdown",
      "metadata": {
        "id": "FK8tU9tJ3M0Y",
        "colab_type": "text"
      },
      "source": [
        "Percentil 100, que corresponde al 100% de los datos"
      ]
    },
    {
      "cell_type": "code",
      "metadata": {
        "id": "C31fAKLI0STq",
        "colab_type": "code",
        "colab": {
          "base_uri": "https://localhost:8080/",
          "height": 34
        },
        "outputId": "15e90364-7e35-49b3-89fa-1e0683eaf33e"
      },
      "source": [
        "np.percentile(ynum, q=100)"
      ],
      "execution_count": 14,
      "outputs": [
        {
          "output_type": "execute_result",
          "data": {
            "text/plain": [
              "56.5"
            ]
          },
          "metadata": {
            "tags": []
          },
          "execution_count": 14
        }
      ]
    },
    {
      "cell_type": "markdown",
      "metadata": {
        "id": "_23Balg23SMQ",
        "colab_type": "text"
      },
      "source": [
        "Percentil 0, que corresponde al 0% de los datos"
      ]
    },
    {
      "cell_type": "code",
      "metadata": {
        "id": "wzZAWi603Bp4",
        "colab_type": "code",
        "colab": {
          "base_uri": "https://localhost:8080/",
          "height": 34
        },
        "outputId": "6cecf499-d654-4b52-ee0e-d8aca47aa7c3"
      },
      "source": [
        "np.percentile(ynum, q=0)"
      ],
      "execution_count": 15,
      "outputs": [
        {
          "output_type": "execute_result",
          "data": {
            "text/plain": [
              "0.0"
            ]
          },
          "metadata": {
            "tags": []
          },
          "execution_count": 15
        }
      ]
    },
    {
      "cell_type": "markdown",
      "metadata": {
        "id": "ypGj9GIk3UYy",
        "colab_type": "text"
      },
      "source": [
        "Percentil 50, que corresponde al 50% de los datos"
      ]
    },
    {
      "cell_type": "code",
      "metadata": {
        "id": "omMJJER83HE_",
        "colab_type": "code",
        "colab": {
          "base_uri": "https://localhost:8080/",
          "height": 34
        },
        "outputId": "114be311-ddfe-4a06-da8f-c9062ec5f7c6"
      },
      "source": [
        "np.percentile(ynum, q=50)"
      ],
      "execution_count": 16,
      "outputs": [
        {
          "output_type": "execute_result",
          "data": {
            "text/plain": [
              "15.0"
            ]
          },
          "metadata": {
            "tags": []
          },
          "execution_count": 16
        }
      ]
    },
    {
      "cell_type": "markdown",
      "metadata": {
        "id": "zwzWmzm-3XYZ",
        "colab_type": "text"
      },
      "source": [
        "El percentil 50 y la mediana son los mismo. "
      ]
    },
    {
      "cell_type": "code",
      "metadata": {
        "id": "z2FPeEBb3H5c",
        "colab_type": "code",
        "colab": {
          "base_uri": "https://localhost:8080/",
          "height": 34
        },
        "outputId": "055b5bc6-6899-4486-b487-8f69f2fdfbac"
      },
      "source": [
        "np.median(ynum)"
      ],
      "execution_count": 17,
      "outputs": [
        {
          "output_type": "execute_result",
          "data": {
            "text/plain": [
              "15.0"
            ]
          },
          "metadata": {
            "tags": []
          },
          "execution_count": 17
        }
      ]
    },
    {
      "cell_type": "markdown",
      "metadata": {
        "id": "VHZIfMr53ir-",
        "colab_type": "text"
      },
      "source": [
        "### Cuartiles\n",
        "\n",
        "Minimo, 25%, 50%, 75% y Maximo."
      ]
    },
    {
      "cell_type": "code",
      "metadata": {
        "id": "tOdHXpEN3Kmy",
        "colab_type": "code",
        "colab": {
          "base_uri": "https://localhost:8080/",
          "height": 34
        },
        "outputId": "cda2c280-cc04-4ea0-85ce-7c4a21ddf0d3"
      },
      "source": [
        "cuartiles = [0, 25, 50, 75, 100]\n",
        "np.percentile(ynum, q = cuartiles)"
      ],
      "execution_count": 18,
      "outputs": [
        {
          "output_type": "execute_result",
          "data": {
            "text/plain": [
              "array([ 0. , 10. , 15. , 20.5, 56.5])"
            ]
          },
          "metadata": {
            "tags": []
          },
          "execution_count": 18
        }
      ]
    },
    {
      "cell_type": "markdown",
      "metadata": {
        "id": "7-6gPy7a39j7",
        "colab_type": "text"
      },
      "source": [
        "### Quintiles\n",
        "\n",
        "Minimo, 20%, 40%, 60%, 80% y Maximo."
      ]
    },
    {
      "cell_type": "code",
      "metadata": {
        "id": "pCUA6IpG3xxB",
        "colab_type": "code",
        "colab": {
          "base_uri": "https://localhost:8080/",
          "height": 34
        },
        "outputId": "8c001e6c-e39a-401e-8fad-9b6dccbced23"
      },
      "source": [
        "quintiles = [0, 20, 40, 60, 80, 100]\n",
        "np.percentile(ynum, q = quintiles)"
      ],
      "execution_count": 19,
      "outputs": [
        {
          "output_type": "execute_result",
          "data": {
            "text/plain": [
              "array([ 0. ,  9. , 13. , 17. , 22. , 56.5])"
            ]
          },
          "metadata": {
            "tags": []
          },
          "execution_count": 19
        }
      ]
    },
    {
      "cell_type": "markdown",
      "metadata": {
        "id": "lDfJahwz4g4S",
        "colab_type": "text"
      },
      "source": [
        "### Deciles\n",
        "Es un rango de frecuencias que van desde 0 a 100% de 10 en 10. "
      ]
    },
    {
      "cell_type": "code",
      "metadata": {
        "id": "jvKbWtAs4Yzg",
        "colab_type": "code",
        "colab": {
          "base_uri": "https://localhost:8080/",
          "height": 34
        },
        "outputId": "c5b79693-d49b-481b-a361-46e0258e593a"
      },
      "source": [
        "deciles = list(range(0, 110, 10))\n",
        "np.percentile(ynum, q = deciles)"
      ],
      "execution_count": 21,
      "outputs": [
        {
          "output_type": "execute_result",
          "data": {
            "text/plain": [
              "array([ 0. ,  6.5,  9. , 11. , 13. , 15. , 17. , 19.5, 22. , 27. , 56.5])"
            ]
          },
          "metadata": {
            "tags": []
          },
          "execution_count": 21
        }
      ]
    },
    {
      "cell_type": "markdown",
      "metadata": {
        "id": "FSC_m3ec5ERz",
        "colab_type": "text"
      },
      "source": [
        "### Outliers (Valores atípicos) \n",
        "\n",
        "Los valores outliers son aquellos fuera de un rango y que estan asociados a los cuartiles. Hay que tenerlos en cuenta ya que habria que hacer un estudio diferente con estos. \n",
        "\n",
        "[Metodo de detección del Outlier](https://towardsdatascience.com/why-1-5-in-iqr-method-of-outlier-detection-5d07fdc82097)"
      ]
    },
    {
      "cell_type": "code",
      "metadata": {
        "id": "FTVpD49-425k",
        "colab_type": "code",
        "colab": {
          "base_uri": "https://localhost:8080/",
          "height": 173
        },
        "outputId": "b1848126-adb8-4293-8367-16271dcb5e6e"
      },
      "source": [
        "y = df['bicis-compartidas']\n",
        "y.describe()"
      ],
      "execution_count": 22,
      "outputs": [
        {
          "output_type": "execute_result",
          "data": {
            "text/plain": [
              "count    17414.000000\n",
              "mean      1143.101642\n",
              "std       1085.108068\n",
              "min          0.000000\n",
              "25%        257.000000\n",
              "50%        844.000000\n",
              "75%       1671.750000\n",
              "max       7860.000000\n",
              "Name: bicis-compartidas, dtype: float64"
            ]
          },
          "metadata": {
            "tags": []
          },
          "execution_count": 22
        }
      ]
    },
    {
      "cell_type": "code",
      "metadata": {
        "id": "fFPtJj2g5MRO",
        "colab_type": "code",
        "colab": {
          "base_uri": "https://localhost:8080/",
          "height": 34
        },
        "outputId": "7c740467-d3df-49ee-9f5a-38bcc32b7149"
      },
      "source": [
        "Q1 = np.percentile(ynum, q = 25)\n",
        "Q3 = np.percentile(ynum, q = 75)\n",
        "\n",
        "IQR = Q3 - Q1 # Inter-Quartile Range\n",
        "\n",
        "lim_inf = Q1 - 1.5 * IQR\n",
        "lim_sup = Q3 + 1.5 * IQR\n",
        "\n",
        "[lim_inf, lim_sup]"
      ],
      "execution_count": 23,
      "outputs": [
        {
          "output_type": "execute_result",
          "data": {
            "text/plain": [
              "[-5.75, 36.25]"
            ]
          },
          "metadata": {
            "tags": []
          },
          "execution_count": 23
        }
      ]
    },
    {
      "cell_type": "code",
      "metadata": {
        "id": "GozrTChWE0o0",
        "colab_type": "code",
        "colab": {}
      },
      "source": [
        "import matplotlib.pyplot as plt\n",
        "%matplotlib inline"
      ],
      "execution_count": 24,
      "outputs": []
    },
    {
      "cell_type": "code",
      "metadata": {
        "id": "x2blWYBzE8LP",
        "colab_type": "code",
        "colab": {
          "base_uri": "https://localhost:8080/",
          "height": 352
        },
        "outputId": "9bcf5242-aa3f-4814-de7f-c2667e363f43"
      },
      "source": [
        "plt.hist(ynum)"
      ],
      "execution_count": 25,
      "outputs": [
        {
          "output_type": "execute_result",
          "data": {
            "text/plain": [
              "(array([1100., 4559., 4198., 4285., 1985.,  868.,  300.,   86.,   27.,\n",
              "           6.]),\n",
              " array([ 0.  ,  5.65, 11.3 , 16.95, 22.6 , 28.25, 33.9 , 39.55, 45.2 ,\n",
              "        50.85, 56.5 ]),\n",
              " <a list of 10 Patch objects>)"
            ]
          },
          "metadata": {
            "tags": []
          },
          "execution_count": 25
        },
        {
          "output_type": "display_data",
          "data": {
            "image/png": "[encoded data removed]",
            "text/plain": [
              "<Figure size 432x288 with 1 Axes>"
            ]
          },
          "metadata": {
            "tags": [],
            "needs_background": "light"
          }
        }
      ]
    },
    {
      "cell_type": "code",
      "metadata": {
        "id": "pKMjSx6-E_7d",
        "colab_type": "code",
        "colab": {}
      },
      "source": [
        ""
      ],
      "execution_count": null,
      "outputs": []
    }
  ]
}