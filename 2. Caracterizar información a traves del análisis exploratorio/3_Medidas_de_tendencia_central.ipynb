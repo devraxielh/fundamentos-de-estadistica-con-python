{
  "nbformat": 4,
  "nbformat_minor": 0,
  "metadata": {
    "colab": {
      "name": "3.Medidas de tendencia central.ipynb",
      "provenance": [],
      "toc_visible": true,
      "authorship_tag": "ABX9TyNfFf6j2B37kXOA2VYImcGL",
      "include_colab_link": true
    },
    "kernelspec": {
      "name": "python3",
      "display_name": "Python 3"
    }
  },
  "cells": [
    {
      "cell_type": "markdown",
      "metadata": {
        "id": "view-in-github",
        "colab_type": "text"
      },
      "source": [
        "<a href=\"https://colab.research.google.com/github/francomanca93/fundamentos-de-estadistica-con-python/blob/analisis-exploratorio/2.%20Caracterizar%20informaci%C3%B3n%20a%20traves%20del%20an%C3%A1lisis%20exploratorio/3_Medidas_de_tendencia_central.ipynb\" target=\"_parent\"><img src=\"https://colab.research.google.com/assets/colab-badge.svg\" alt=\"Open In Colab\"/></a>"
      ]
    },
    {
      "cell_type": "markdown",
      "metadata": {
        "id": "socWC19Xlo3G",
        "colab_type": "text"
      },
      "source": [
        "# Medidas de tendencia central\n",
        "\n",
        "Las [medidas de tendencia central](https://es.wikipedia.org/wiki/Medidas_de_tendencia_central) son valores principales para caracterizar variables aleatorias.\n",
        "\n",
        "La medida de tendencia central es un número situado hacia el centro de la distribución de los valores de una serie de observaciones (medidas), en la que se encuentra ubicado el conjunto de los datos.\n",
        "\n",
        "Es importante que no todas las medidas de tendencia son aplicables a los dos tipos de variables, numéricas y categóricas, y que también algunas de ellas son más susceptibles a los valores extremos (outliers)\n",
        "\n",
        "**Medidas de tendencia**\n",
        "\n",
        "- Media\n",
        "  - [Aritmética]((https://es.wikipedia.org/wiki/Media_aritm%C3%A9tica))\n",
        "  - [Geométrica](https://es.wikipedia.org/wiki/Media_geom%C3%A9trica)\n",
        "  - [Armónica](https://es.wikipedia.org/wiki/Media_arm%C3%B3nica)\n",
        "  - [Ponderada](https://es.wikipedia.org/wiki/Media_ponderada)\n",
        "- [Mediana](https://es.wikipedia.org/wiki/Mediana_(estad%C3%ADstica))\n",
        "- [Moda](https://es.wikipedia.org/wiki/Moda_(estad%C3%ADstica))\n",
        "- [Error típico o desviación estándar](https://es.wikipedia.org/wiki/Desviaci%C3%B3n_t%C3%ADpica)\n",
        "\n",
        "**Criterios de aplicación**\n",
        "\n",
        "- No todas las medidas de tendencia central son aplicables a las variables numericas y categoricas, o sea, hay que tener en cuenta el tipo de variable a la hora de utilizarlas. \n",
        "\n",
        "- Alguna de ellas son mas suceptibles que otras a los valores extremos.\n"
      ]
    },
    {
      "cell_type": "markdown",
      "metadata": {
        "id": "77JDZFBvnGIG",
        "colab_type": "text"
      },
      "source": [
        "Importamos librerias que vamos a utilizar"
      ]
    },
    {
      "cell_type": "code",
      "metadata": {
        "id": "t2RifRpkmNWx",
        "colab_type": "code",
        "colab": {}
      },
      "source": [
        "import numpy as np\n",
        "import pandas as pd\n",
        "import scipy\n",
        "import scipy.stats"
      ],
      "execution_count": 1,
      "outputs": []
    },
    {
      "cell_type": "markdown",
      "metadata": {
        "id": "DDxom1ZJnIzL",
        "colab_type": "text"
      },
      "source": [
        "Montamos drive para acceder a la base de datos con la cual vamos a trabajar"
      ]
    },
    {
      "cell_type": "code",
      "metadata": {
        "id": "2MXjszLnmc__",
        "colab_type": "code",
        "colab": {
          "base_uri": "https://localhost:8080/",
          "height": 124
        },
        "outputId": "c89fa81d-ce3a-4f93-d54c-7446dc62997a"
      },
      "source": [
        "#Montamos Drive\n",
        "from google.colab import drive\n",
        "drive.mount('/content/drive')"
      ],
      "execution_count": 2,
      "outputs": [
        {
          "output_type": "stream",
          "text": [
            "Go to this URL in a browser: https://accounts.google.com/o/oauth2/auth?client_id=947318989803-6bn6qk8qdgf4n4g3pfee6491hc0brc4i.apps.googleusercontent.com&redirect_uri=urn%3aietf%3awg%3aoauth%3a2.0%3aoob&scope=email%20https%3a%2f%2fwww.googleapis.com%2fauth%2fdocs.test%20https%3a%2f%2fwww.googleapis.com%2fauth%2fdrive%20https%3a%2f%2fwww.googleapis.com%2fauth%2fdrive.photos.readonly%20https%3a%2f%2fwww.googleapis.com%2fauth%2fpeopleapi.readonly&response_type=code\n",
            "\n",
            "Enter your authorization code:\n",
            "··········\n",
            "Mounted at /content/drive\n"
          ],
          "name": "stdout"
        }
      ]
    },
    {
      "cell_type": "code",
      "metadata": {
        "id": "zg47_or0mtlO",
        "colab_type": "code",
        "colab": {
          "base_uri": "https://localhost:8080/",
          "height": 34
        },
        "outputId": "e63c16d3-499a-4a7b-b4e3-afe8d929dbda"
      },
      "source": [
        "ls '/content/drive/My Drive/Colab Notebooks/fundamentos-de-estadistica-con-python/datos/'"
      ],
      "execution_count": 3,
      "outputs": [
        {
          "output_type": "stream",
          "text": [
            "bicicletas-compartidas.csv  datos_profesora.py  \u001b[0m\u001b[01;34m__pycache__\u001b[0m/\n"
          ],
          "name": "stdout"
        }
      ]
    },
    {
      "cell_type": "code",
      "metadata": {
        "id": "qJcu0-okm2lr",
        "colab_type": "code",
        "colab": {
          "base_uri": "https://localhost:8080/",
          "height": 34
        },
        "outputId": "7cfaf915-2956-4f77-e82f-bb878c6622ca"
      },
      "source": [
        "cd '/content/drive/My Drive/Colab Notebooks/fundamentos-de-estadistica-con-python/datos/'"
      ],
      "execution_count": 4,
      "outputs": [
        {
          "output_type": "stream",
          "text": [
            "/content/drive/My Drive/Colab Notebooks/fundamentos-de-estadistica-con-python/datos\n"
          ],
          "name": "stdout"
        }
      ]
    },
    {
      "cell_type": "markdown",
      "metadata": {
        "id": "M2RYbBlwnNDa",
        "colab_type": "text"
      },
      "source": [
        "Importamos la base de datos y empezamos a trabajar con ella"
      ]
    },
    {
      "cell_type": "code",
      "metadata": {
        "id": "aNgFyWAbm39k",
        "colab_type": "code",
        "colab": {
          "base_uri": "https://localhost:8080/",
          "height": 69
        },
        "outputId": "6a4a2e58-957e-4aea-9ec4-8f587d844e64"
      },
      "source": [
        "df = pd.read_csv('bicicletas-compartidas.csv')\n",
        "df.columns"
      ],
      "execution_count": 7,
      "outputs": [
        {
          "output_type": "execute_result",
          "data": {
            "text/plain": [
              "Index(['fecha', 'bicis-compartidas', 'temp-obs', 'sens-temp', 'hum', 'viento',\n",
              "       'codigo-clima', 'festivo', 'findesemana', 'cuartil-ano'],\n",
              "      dtype='object')"
            ]
          },
          "metadata": {
            "tags": []
          },
          "execution_count": 7
        }
      ]
    },
    {
      "cell_type": "markdown",
      "metadata": {
        "id": "mgfL_AtlnT8n",
        "colab_type": "text"
      },
      "source": [
        "Vamos a definir la variable con la cual vamos a generar el analisis. Lo haremos sobre las bicicleras compartidas."
      ]
    },
    {
      "cell_type": "code",
      "metadata": {
        "id": "U2lbD3oEm_8i",
        "colab_type": "code",
        "colab": {
          "base_uri": "https://localhost:8080/",
          "height": 34
        },
        "outputId": "99943db7-4656-4eed-9886-bafe72238718"
      },
      "source": [
        "y = df['bicis-compartidas'].values\n",
        "y"
      ],
      "execution_count": 8,
      "outputs": [
        {
          "output_type": "execute_result",
          "data": {
            "text/plain": [
              "array([182, 138, 134, ..., 337, 224, 139])"
            ]
          },
          "metadata": {
            "tags": []
          },
          "execution_count": 8
        }
      ]
    },
    {
      "cell_type": "markdown",
      "metadata": {
        "id": "se5M1X8zndbL",
        "colab_type": "text"
      },
      "source": [
        "Vemos que **y** es un arreglo numérico. Ahora vamos a limpiar este arreglo de posibles 0 que tenga, ya que numpy no nos permitira hacer calculo con estos valores."
      ]
    },
    {
      "cell_type": "code",
      "metadata": {
        "id": "aByldHAwnbck",
        "colab_type": "code",
        "colab": {}
      },
      "source": [
        "y = np.where(y == 0, 1, y)"
      ],
      "execution_count": 9,
      "outputs": []
    },
    {
      "cell_type": "code",
      "metadata": {
        "id": "cN7ATPKFsL8d",
        "colab_type": "code",
        "colab": {
          "base_uri": "https://localhost:8080/",
          "height": 34
        },
        "outputId": "8bb70200-1b1f-4346-cec0-7704c6e8cf80"
      },
      "source": [
        "np.min(y)"
      ],
      "execution_count": 10,
      "outputs": [
        {
          "output_type": "execute_result",
          "data": {
            "text/plain": [
              "1"
            ]
          },
          "metadata": {
            "tags": []
          },
          "execution_count": 10
        }
      ]
    },
    {
      "cell_type": "code",
      "metadata": {
        "id": "SosHJm7MsN9R",
        "colab_type": "code",
        "colab": {
          "base_uri": "https://localhost:8080/",
          "height": 34
        },
        "outputId": "9e712b25-2ea1-4270-f2af-6ebc003120ba"
      },
      "source": [
        "np.max(y)"
      ],
      "execution_count": 11,
      "outputs": [
        {
          "output_type": "execute_result",
          "data": {
            "text/plain": [
              "7860"
            ]
          },
          "metadata": {
            "tags": []
          },
          "execution_count": 11
        }
      ]
    },
    {
      "cell_type": "markdown",
      "metadata": {
        "id": "1JZ6kqvYsVHh",
        "colab_type": "text"
      },
      "source": [
        "## Promedio aritmetico o media aritmetica\n",
        "\n",
        "La [media aritmética](https://es.wikipedia.org/wiki/Media_aritm%C3%A9tica) también llamada promedio o media, de un conjunto finito de números es el valor característico de una serie de datos cuantitativos, objeto de estudio que parte del principio de la esperanza matemática o valor esperado, se obtiene a partir de la suma de todos sus valores dividida entre el número de sumandos.\n",
        "\n",
        "![Media aritmetica](https://wikimedia.org/api/rest_v1/media/math/render/svg/45369dd1e80668d3f6df7233fe4e2e0361d5c851)"
      ]
    },
    {
      "cell_type": "code",
      "metadata": {
        "id": "7leEPfFVsQQt",
        "colab_type": "code",
        "colab": {
          "base_uri": "https://localhost:8080/",
          "height": 34
        },
        "outputId": "c6ab7532-d0b7-4afa-c9e6-69ca84185693"
      },
      "source": [
        "np.mean(y)"
      ],
      "execution_count": 12,
      "outputs": [
        {
          "output_type": "execute_result",
          "data": {
            "text/plain": [
              "1143.1016997817849"
            ]
          },
          "metadata": {
            "tags": []
          },
          "execution_count": 12
        }
      ]
    },
    {
      "cell_type": "code",
      "metadata": {
        "id": "6wlcy-2FsfOw",
        "colab_type": "code",
        "colab": {
          "base_uri": "https://localhost:8080/",
          "height": 34
        },
        "outputId": "908aebc1-a387-45c9-fb4a-365a78e76c92"
      },
      "source": [
        "np.sum(y)/len(y)"
      ],
      "execution_count": 13,
      "outputs": [
        {
          "output_type": "execute_result",
          "data": {
            "text/plain": [
              "1143.1016997817849"
            ]
          },
          "metadata": {
            "tags": []
          },
          "execution_count": 13
        }
      ]
    },
    {
      "cell_type": "markdown",
      "metadata": {
        "id": "99gdCOkMvE-w",
        "colab_type": "text"
      },
      "source": [
        "Vemos que la media aritmética es de 1143 bicicletas compartidas"
      ]
    },
    {
      "cell_type": "markdown",
      "metadata": {
        "id": "OS4QxyQo0x58",
        "colab_type": "text"
      },
      "source": [
        "Documentacion oficial de scipy mstats:\n",
        "\n",
        "https://docs.scipy.org/doc/scipy/reference/stats.mstats.html"
      ]
    },
    {
      "cell_type": "markdown",
      "metadata": {
        "id": "oYGDIoT1sn5L",
        "colab_type": "text"
      },
      "source": [
        "## Promedio geometrica o media geométrica\n",
        "\n",
        "La [media geométrica](https://es.wikipedia.org/wiki/Media_geom%C3%A9trica) de una cantidad arbitraria de números (por decir n números) es la raíz n-ésima del producto de todos los números; es recomendada para datos de progresión geométrica, para promediar razones, interés compuesto y números índice\n",
        "\n",
        "![Media Geometrica](https://wikimedia.org/api/rest_v1/media/math/render/svg/ec635835ec23391e636a8dea960c2399c95b19aa)\n",
        "\n",
        "Frecuentemente se usa una media geométrica cuando se comparan diferentes aspectos, cuyos rendimientos tienen unidades de medida en diferentes rangos numéricos. \n",
        "\n",
        "Por ejemplo, la media geométrica puede dar un valor serio para comparar dos empresas que tienen una calificación entre 0 a 5 por su sostenibilidad ambiental, y una calificación entre 0 a 100 por su viabilidad financiera. Si se usara la media aritmética en lugar de la media geométrica, la viabilidad financiera tendría mayor peso porque su rango numérico es mayor. Es decir, un pequeño cambio porcentual en la calificación financiera (por ejemplo, pasar de 80 a 90) haría una diferencia mucho mayor en la media aritmética que un gran cambio porcentual en la sostenibilidad ambiental (por ejemplo, pasar de 2 a 5). El uso de la media geométrica normaliza los valores de rango diferente, lo que significa que un cambio de porcentaje dado en cualquiera de las propiedades tiene el mismo efecto en la media geométrica. Entonces, un cambio del 20% en la sostenibilidad ambiental de 4 a 4.8 tiene el mismo efecto en la media geométrica que un cambio del 20% en la viabilidad financiera de 60 a 72. "
      ]
    },
    {
      "cell_type": "markdown",
      "metadata": {
        "id": "R7fMPKVdvzOv",
        "colab_type": "text"
      },
      "source": [
        "Esto lo hacemos de la siguiente manera"
      ]
    },
    {
      "cell_type": "code",
      "metadata": {
        "id": "UWeSZ5LKwTdM",
        "colab_type": "code",
        "colab": {
          "base_uri": "https://localhost:8080/",
          "height": 34
        },
        "outputId": "18e9816a-56ea-4969-f3eb-f47ecd56c06c"
      },
      "source": [
        "scipy.stats.mstats.gmean(y)"
      ],
      "execution_count": 15,
      "outputs": [
        {
          "output_type": "execute_result",
          "data": {
            "text/plain": [
              "623.2472122430046"
            ]
          },
          "metadata": {
            "tags": []
          },
          "execution_count": 15
        }
      ]
    },
    {
      "cell_type": "markdown",
      "metadata": {
        "id": "Edckf0Gm0GGw",
        "colab_type": "text"
      },
      "source": [
        "## Promedio armonico o media armonica\n",
        "\n",
        "La [media armónica](https://es.wikipedia.org/wiki/Media_arm%C3%B3nica) (designada usualmente mediante H) de una cantidad finita de números es igual al recíproco, o inverso, de la media aritmética de los recíprocos de dichos valores y es recomendada para promediar velocidades. \n",
        "\n",
        "![Media armonica](https://wikimedia.org/api/rest_v1/media/math/render/svg/31bb15ba938382149ac4d2ecda7479effc6ae4d6)\n"
      ]
    },
    {
      "cell_type": "code",
      "metadata": {
        "id": "9pr4bySiskWb",
        "colab_type": "code",
        "colab": {
          "base_uri": "https://localhost:8080/",
          "height": 34
        },
        "outputId": "46d54d67-74a9-4af6-f7e2-5a2c8bbe6bbf"
      },
      "source": [
        "scipy.stats.mstats.hmean(y)"
      ],
      "execution_count": 14,
      "outputs": [
        {
          "output_type": "execute_result",
          "data": {
            "text/plain": [
              "241.65180305136826"
            ]
          },
          "metadata": {
            "tags": []
          },
          "execution_count": 14
        }
      ]
    },
    {
      "cell_type": "markdown",
      "metadata": {
        "id": "sPJwhOlk1JUw",
        "colab_type": "text"
      },
      "source": [
        "## Mediana\n",
        "\n",
        "La [mediana](https://es.wikipedia.org/wiki/Mediana_(estad%C3%ADstica)) representa el valor de la variable de posición central en un conjunto de datos ordenados, en otras palabras el valor que divide a los datos en 2 partes. Coincide con el percentil 50% o 50% de los datos.\n"
      ]
    },
    {
      "cell_type": "code",
      "metadata": {
        "id": "pYwg00Jfs4tp",
        "colab_type": "code",
        "colab": {
          "base_uri": "https://localhost:8080/",
          "height": 34
        },
        "outputId": "8789b58d-8e2a-405d-ae2c-b93937376baf"
      },
      "source": [
        "np.median(y)"
      ],
      "execution_count": 17,
      "outputs": [
        {
          "output_type": "execute_result",
          "data": {
            "text/plain": [
              "844.0"
            ]
          },
          "metadata": {
            "tags": []
          },
          "execution_count": 17
        }
      ]
    },
    {
      "cell_type": "markdown",
      "metadata": {
        "id": "xw8cbGaZ5yBb",
        "colab_type": "text"
      },
      "source": [
        "## Moda\n",
        "\n",
        "La [moda](https://es.wikipedia.org/wiki/Moda_(estad%C3%ADstica)) es el valor con mayor frecuencia en una de las distribuciones de datos."
      ]
    },
    {
      "cell_type": "code",
      "metadata": {
        "id": "8ffXlWdv21ES",
        "colab_type": "code",
        "colab": {}
      },
      "source": [
        "# moda = valor de y con la maxima frecuencia\n",
        "\n",
        "moda = np.nan # defino la variable moda\n",
        "\n",
        "valores, conteo_valores = np.unique(y, return_counts=True) # Retorna array con valores unicos del array que le pase.\n",
        "\n",
        "pos = np.argmax(conteo_valores) # Del conteo de valores retorname el valor máximo. Este será la posición\n",
        "moda = valores[pos] # Con la posicion anterior encuentro el valor que mas se repite."
      ],
      "execution_count": 18,
      "outputs": []
    },
    {
      "cell_type": "code",
      "metadata": {
        "id": "bKvpTBE33Z9X",
        "colab_type": "code",
        "colab": {
          "base_uri": "https://localhost:8080/",
          "height": 34
        },
        "outputId": "b2e3e7d4-8e1a-4df1-f61f-b5f1cb218f37"
      },
      "source": [
        "valores"
      ],
      "execution_count": 20,
      "outputs": [
        {
          "output_type": "execute_result",
          "data": {
            "text/plain": [
              "array([   1,    9,   10, ..., 7208, 7531, 7860])"
            ]
          },
          "metadata": {
            "tags": []
          },
          "execution_count": 20
        }
      ]
    },
    {
      "cell_type": "code",
      "metadata": {
        "id": "QcaQmMkx3beR",
        "colab_type": "code",
        "colab": {
          "base_uri": "https://localhost:8080/",
          "height": 34
        },
        "outputId": "ef69af2d-c737-4c90-c828-b9f5400c37f2"
      },
      "source": [
        "conteo_valores"
      ],
      "execution_count": 21,
      "outputs": [
        {
          "output_type": "execute_result",
          "data": {
            "text/plain": [
              "array([1, 1, 1, ..., 1, 1, 1])"
            ]
          },
          "metadata": {
            "tags": []
          },
          "execution_count": 21
        }
      ]
    },
    {
      "cell_type": "code",
      "metadata": {
        "id": "1m5dl7wl4cAW",
        "colab_type": "code",
        "colab": {
          "base_uri": "https://localhost:8080/",
          "height": 34
        },
        "outputId": "a50f64e2-c6e5-4ea1-c2e3-610f81c1d7eb"
      },
      "source": [
        "pos"
      ],
      "execution_count": 22,
      "outputs": [
        {
          "output_type": "execute_result",
          "data": {
            "text/plain": [
              "38"
            ]
          },
          "metadata": {
            "tags": []
          },
          "execution_count": 22
        }
      ]
    },
    {
      "cell_type": "code",
      "metadata": {
        "id": "JLr0VTma4vW6",
        "colab_type": "code",
        "colab": {
          "base_uri": "https://localhost:8080/",
          "height": 34
        },
        "outputId": "0f905c05-0f9c-4383-cc06-96e714204ba2"
      },
      "source": [
        "moda"
      ],
      "execution_count": 23,
      "outputs": [
        {
          "output_type": "execute_result",
          "data": {
            "text/plain": [
              "46"
            ]
          },
          "metadata": {
            "tags": []
          },
          "execution_count": 23
        }
      ]
    },
    {
      "cell_type": "markdown",
      "metadata": {
        "id": "yWarzvtZ4wqS",
        "colab_type": "text"
      },
      "source": [
        "El valor que mas se repite es 46, 46 bicicletas compartidas."
      ]
    },
    {
      "cell_type": "markdown",
      "metadata": {
        "id": "hXgfXFU_5JdE",
        "colab_type": "text"
      },
      "source": [
        "Con esto finalizamos las medidas de tendencia central, en el siguiente gráfico podemos ver una comparativa entre estas medidas, obtenida de wikipedia\n",
        "\n",
        "![Comparacion de medidas de tendencia central](https://upload.wikimedia.org/wikipedia/commons/thumb/3/33/Visualisation_mode_median_mean.svg/langes-320px-Visualisation_mode_median_mean.svg.png)"
      ]
    },
    {
      "cell_type": "markdown",
      "metadata": {
        "id": "cHoPeIu7EWtp",
        "colab_type": "text"
      },
      "source": [
        "## Desviación estandar\n",
        "\n",
        "La [desviación estandar](https://es.wikipedia.org/wiki/Desviaci%C3%B3n_t%C3%ADpica) es una medida que se utiliza para cuantificar la variación o la dispersión de un conjunto de datos numéricos.\n",
        "\n",
        "Una desviación estándar baja indica que la mayor parte de los datos de una muestra tienden a estar agrupados cerca de su media (también denominada el valor esperado), mientras que una desviación estándar alta indica que los datos se extienden sobre un rango de valores más amplio. \n",
        "\n",
        "![Desviación estandar](https://upload.wikimedia.org/wikipedia/commons/thumb/8/8c/Standard_deviation_diagram.svg/1280px-Standard_deviation_diagram.svg.png)\n",
        "\n",
        "Una gráfica de la distribución normal (o curva en forma de campana, o curva de Gauss), donde cada banda tiene un ancho de una vez la desviación estándar"
      ]
    },
    {
      "cell_type": "code",
      "metadata": {
        "id": "bBk7LQXi4LUC",
        "colab_type": "code",
        "colab": {
          "base_uri": "https://localhost:8080/",
          "height": 34
        },
        "outputId": "5abd9108-f4d9-41c0-c7c6-e74643f5d825"
      },
      "source": [
        "np.std(y)"
      ],
      "execution_count": 24,
      "outputs": [
        {
          "output_type": "execute_result",
          "data": {
            "text/plain": [
              "1085.0768508213835"
            ]
          },
          "metadata": {
            "tags": []
          },
          "execution_count": 24
        }
      ]
    },
    {
      "cell_type": "markdown",
      "metadata": {
        "id": "_WVBeW9tFTuk",
        "colab_type": "text"
      },
      "source": [
        "## Alteraciones\n",
        "\n",
        "Podemos ver que los valores extremos alteran las medidas de tendencia centrla. Veamos esto con un ejemplo:"
      ]
    },
    {
      "cell_type": "code",
      "metadata": {
        "id": "irTOMUasFQK1",
        "colab_type": "code",
        "colab": {}
      },
      "source": [
        "y_alterado = y.copy()\n",
        "y_alterado[y_alterado == max(y_alterado)] = 10000000"
      ],
      "execution_count": 27,
      "outputs": []
    },
    {
      "cell_type": "code",
      "metadata": {
        "id": "_b1Dj0w4FfkG",
        "colab_type": "code",
        "colab": {
          "base_uri": "https://localhost:8080/",
          "height": 52
        },
        "outputId": "d8dc7bf8-83f4-4e07-d010-21cb11261d46"
      },
      "source": [
        "print(np.mean(y))\n",
        "print(np.mean(y_alterado))"
      ],
      "execution_count": 28,
      "outputs": [
        {
          "output_type": "stream",
          "text": [
            "1143.1016997817849\n",
            "1716.9009417709888\n"
          ],
          "name": "stdout"
        }
      ]
    },
    {
      "cell_type": "code",
      "metadata": {
        "id": "K-JnwotyFq_8",
        "colab_type": "code",
        "colab": {
          "base_uri": "https://localhost:8080/",
          "height": 52
        },
        "outputId": "2b295e32-1bce-470c-acc8-762fba76849d"
      },
      "source": [
        "print(np.median(y))\n",
        "print(np.median(y_alterado))"
      ],
      "execution_count": 29,
      "outputs": [
        {
          "output_type": "stream",
          "text": [
            "844.0\n",
            "844.0\n"
          ],
          "name": "stdout"
        }
      ]
    },
    {
      "cell_type": "markdown",
      "metadata": {
        "id": "wrRcXJ7lGYRc",
        "colab_type": "text"
      },
      "source": [
        "Veamos lo anterior con un gráfico bastante representativo.\n",
        "![alteraciones](https://imgur.com/L6drVeI.png)"
      ]
    },
    {
      "cell_type": "code",
      "metadata": {
        "id": "-hJe58oOGAm0",
        "colab_type": "code",
        "colab": {}
      },
      "source": [
        ""
      ],
      "execution_count": null,
      "outputs": []
    }
  ]
}